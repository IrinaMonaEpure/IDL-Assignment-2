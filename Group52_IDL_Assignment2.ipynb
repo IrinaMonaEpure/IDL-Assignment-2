{
  "nbformat": 4,
  "nbformat_minor": 0,
  "metadata": {
    "colab": {
      "name": "Group52_IDL_Assignment2",
      "provenance": []
    },
    "kernelspec": {
      "name": "python3",
      "display_name": "Python 3"
    },
    "language_info": {
      "name": "python"
    }
  },
  "cells": [
    {
      "cell_type": "markdown",
      "metadata": {
        "id": "ndAj6Q0AJtkJ"
      },
      "source": [
        "#Task 1: Learning the Basics of Keras and TensorFlow\n",
        "#MLPs"
      ]
    },
    {
      "cell_type": "code",
      "metadata": {
        "id": "UwDKFr5vWev8"
      },
      "source": [
        "import tensorflow as tf\n",
        "from tensorflow import keras"
      ],
      "execution_count": null,
      "outputs": []
    },
    {
      "cell_type": "markdown",
      "metadata": {
        "id": "qrizKKZpXRoi"
      },
      "source": [
        "We will experiment with different MLPs for performing classification on datasets MNIST and Fashion MNIST. These datasets are loaded in the code cell below."
      ]
    },
    {
      "cell_type": "code",
      "metadata": {
        "colab": {
          "base_uri": "https://localhost:8080/"
        },
        "id": "gTUnPHs-XyB1",
        "outputId": "c9fd1322-d09a-446b-dd1f-f00acf5ea63d"
      },
      "source": [
        "from sklearn.datasets import fetch_openml\n",
        "from keras.datasets import mnist\n",
        "import numpy as np\n",
        "\n",
        "num_classes = 10\n",
        "\n",
        "# MNIST\n",
        "#mnist = fetch_openml('mnist_784', version=1)\n",
        "#X_mnist, y_mnist = mnist[\"data\"], mnist[\"target\"]\n",
        "(X_train_mnist, y_train_mnist), (X_test_mnist, y_test_mnist) = mnist.load_data()\n",
        "# labels are strings, so we need to cast y to integers\n",
        "X_train_mnist = X_train_mnist.reshape(60000, 784)\n",
        "print(X_train_mnist)\n",
        "X_test_mnist = X_test_mnist.reshape(10000, 784)\n",
        "X_train_mnist = X_train_mnist.astype('float32')\n",
        "X_test_mnist = X_test_mnist.astype('float32')\n",
        "X_train_mnist /= 255\n",
        "X_test_mnist /= 255\n",
        "print(X_train_mnist.shape[0], 'train samples')\n",
        "print(X_test_mnist.shape[0], 'test samples')\n",
        "# create train, validation, and test sets and scale the input features down to the [0,1] range\n",
        "X_valid_mnist, X_train_mnist = X_train_mnist[:5000], X_train_mnist[5000:]\n",
        "y_valid_mnist, y_train_mnist = y_train_mnist[:5000], y_train_mnist[5000:]\n",
        "print(\"Shape of train set data\", X_train_mnist[0].shape)\n",
        "print(\"Datatype of train set data\", X_train_mnist[0].dtype)\n",
        "\n",
        "# Fashion MNIST\n",
        "fashion_mnist = keras.datasets.fashion_mnist\n",
        "(X_train_full_fashion, y_train_full_fashion), (X_test_fashion, y_test_fashion) = fashion_mnist.load_data()\n",
        "# create a validation set and scale the input features down to the [0,1] range\n",
        "X_valid_fashion, X_train_fashion = X_train_full_fashion[:5000] / 255.0, X_train_full_fashion[5000:] / 255.0\n",
        "y_valid_fashion, y_train_fashion = y_train_full_fashion[:5000], y_train_full_fashion[5000:]\n",
        "X_test_fashion = X_test_fashion / 255.0\n",
        "print(\"Shape of train set data\", X_train_full_fashion.shape)\n",
        "print(\"Datatype of train set data\", X_train_full_fashion.dtype)"
      ],
      "execution_count": null,
      "outputs": [
        {
          "output_type": "stream",
          "name": "stdout",
          "text": [
            "Downloading data from https://storage.googleapis.com/tensorflow/tf-keras-datasets/mnist.npz\n",
            "11493376/11490434 [==============================] - 0s 0us/step\n",
            "11501568/11490434 [==============================] - 0s 0us/step\n",
            "[[0 0 0 ... 0 0 0]\n",
            " [0 0 0 ... 0 0 0]\n",
            " [0 0 0 ... 0 0 0]\n",
            " ...\n",
            " [0 0 0 ... 0 0 0]\n",
            " [0 0 0 ... 0 0 0]\n",
            " [0 0 0 ... 0 0 0]]\n",
            "60000 train samples\n",
            "10000 test samples\n",
            "Shape of train set data (784,)\n",
            "Datatype of train set data float32\n",
            "Downloading data from https://storage.googleapis.com/tensorflow/tf-keras-datasets/train-labels-idx1-ubyte.gz\n",
            "32768/29515 [=================================] - 0s 0us/step\n",
            "40960/29515 [=========================================] - 0s 0us/step\n",
            "Downloading data from https://storage.googleapis.com/tensorflow/tf-keras-datasets/train-images-idx3-ubyte.gz\n",
            "26427392/26421880 [==============================] - 0s 0us/step\n",
            "26435584/26421880 [==============================] - 0s 0us/step\n",
            "Downloading data from https://storage.googleapis.com/tensorflow/tf-keras-datasets/t10k-labels-idx1-ubyte.gz\n",
            "16384/5148 [===============================================================================================] - 0s 0us/step\n",
            "Downloading data from https://storage.googleapis.com/tensorflow/tf-keras-datasets/t10k-images-idx3-ubyte.gz\n",
            "4423680/4422102 [==============================] - 0s 0us/step\n",
            "4431872/4422102 [==============================] - 0s 0us/step\n",
            "Shape of train set data (60000, 28, 28)\n",
            "Datatype of train set data uint8\n"
          ]
        }
      ]
    },
    {
      "cell_type": "markdown",
      "metadata": {
        "id": "_SnHRfy8vXyn"
      },
      "source": [
        "Next, we're going to create a wrapper class for the reference MLP network from Aurelien Geron, \"Hands-on Machine Learning with Scikit-Learn, Keras and TensorFlow\", Ch. 10, pp. 297-307. This is done in order to avoid having to repeat hyperparameter values."
      ]
    },
    {
      "cell_type": "code",
      "metadata": {
        "id": "HWX5wAlzw2mz"
      },
      "source": [
        "class ReferenceMLP:\n",
        "\n",
        "\n",
        "  # The default hyperparameter values correspond to the refernce network\n",
        "  def __init__(self, flatten=True, kernel_initializer=None, bias_initializer=None,\n",
        "               hidden_layers_activation=\"relu\", kernel_regularizer=None,\n",
        "               bias_regularizer=None, activity_regularizer=None,\n",
        "               dropout_rate=None, hidden_layers_number=2,\n",
        "               hidden_layers_dropout=[], hidden_layers_sizes=[300, 100]):\n",
        "    \n",
        "    # Create a Sequential model\n",
        "    self.model = keras.models.Sequential()\n",
        "\n",
        "    # Only Fashion MNIST needs flattening\n",
        "    if flatten:\n",
        "      # Convert each input into a 1D array with a Flatten layer\n",
        "      self.model.add(keras.layers.Flatten(input_shape=[28,28]))\n",
        "\n",
        "    # Add hidden layers according to the specifications\n",
        "    for i in range(hidden_layers_number):\n",
        "        # Some layers may be Dropout layers\n",
        "        if i in hidden_layers_dropout:\n",
        "          self.model.add(keras.layers.Dropout(dropout_rate))\n",
        "        # All others are Dense layers\n",
        "        else:\n",
        "          self.model.add(keras.layers.Dense(\n",
        "              hidden_layers_sizes[i],\n",
        "              input_shape=(784,), \n",
        "              activation=hidden_layers_activation,\n",
        "              kernel_initializer=kernel_initializer,\n",
        "              bias_initializer=bias_initializer,\n",
        "              kernel_regularizer=kernel_regularizer,\n",
        "              bias_regularizer=bias_regularizer,\n",
        "              activity_regularizer=activity_regularizer))\n",
        "\n",
        "    # Add the output layer with 10 nodes and softmax activation\n",
        "    self.model.add(keras.layers.Dense(10, activation=\"softmax\"))\n",
        "\n",
        "\n",
        "  # Compilation hyperparameters can be changed to experiment with different\n",
        "  # optimization algorithms\n",
        "  def compile(self, optimizer=\"sgd\", steps_per_execution=None):\n",
        "    self.model.compile(optimizer=optimizer,\n",
        "                       steps_per_execution=steps_per_execution,\n",
        "                       loss=\"sparse_categorical_crossentropy\",\n",
        "                       metrics=[\"accuracy\"])\n",
        "    \n",
        "\n",
        "  # Fits the network with data from either dataset\n",
        "  def fit(self, X_train, y_train, X_valid, y_valid):\n",
        "    self.model.fit(X_train, y_train, epochs=1,\n",
        "                    validation_data=(X_valid, y_valid))\n",
        "    \n",
        "\n",
        "  # Evaluates the network on the test set  \n",
        "  def evaluate(self, X_test, y_test):\n",
        "    return self.model.evaluate(X_test, y_test)\n",
        "\n",
        "  # Fit and evaluate with a certain dataset (to avoid writing the same code\n",
        "  # over and over)\n",
        "  def fit_evaluate(self, dataset):\n",
        "    if dataset=='mnist':\n",
        "      self.fit(X_train_mnist, y_train_mnist, X_valid_mnist, y_valid_mnist)\n",
        "      return self.evaluate(X_test_mnist, y_test_mnist)\n",
        "    else:\n",
        "      self.fit(X_train_fashion, y_train_fashion, X_valid_fashion,\n",
        "               y_valid_fashion)\n",
        "      return self.evaluate(X_test_fashion, y_test_fashion)"
      ],
      "execution_count": null,
      "outputs": []
    },
    {
      "cell_type": "markdown",
      "metadata": {
        "id": "1Tp8QdDYJHcf"
      },
      "source": [
        "We need to create some lists of the hyperparameter values that we want to try. This will make it easy to parse through them in our experiments."
      ]
    },
    {
      "cell_type": "code",
      "metadata": {
        "id": "bTfSl3CJJXmA"
      },
      "source": [
        "initializers = [None, 'random_normal', 'random_uniform', 'truncated_normal', 'zeros',\n",
        "                'ones']\n",
        "activations = ['relu', 'sigmoid', 'tanh', 'selu', 'elu', 'exponential']\n",
        "regularizers = [None, 'l1', 'l2']\n",
        "optimizers = ['adadelta', 'adagrad', 'adam', 'adamax', 'ftrl', 'nadam',\n",
        "              'rmsprop', 'sgd']\n",
        "steps_per_executions = [None, 2, 5, 10, 20, 50, 100]"
      ],
      "execution_count": null,
      "outputs": []
    },
    {
      "cell_type": "markdown",
      "metadata": {
        "id": "SwFqiE4SOMCi"
      },
      "source": [
        "Now we iterate over these lists and observe the results."
      ]
    },
    {
      "cell_type": "code",
      "metadata": {
        "colab": {
          "base_uri": "https://localhost:8080/",
          "height": 450
        },
        "id": "8mtnobMSXld1",
        "outputId": "9f105092-330b-4c9f-c26d-8344f72f0a4c"
      },
      "source": [
        "# Accuracy and loss values will be saved in these dictionaries\n",
        "initializer_dict, activation_dict, regularizer_dict, optimizer_dict, steps_dict = {}, {}, {}, {}, {}\n",
        "\n",
        "# Take each dataset in turn\n",
        "for dataset in ['mnist', 'fashion']:\n",
        "  print(dataset)\n",
        "\n",
        "  #Loop over selected values for each hyperparameter\n",
        "  \n",
        "  for i in initializers:\n",
        "    print(i)\n",
        "    net = ReferenceMLP(flatten=(dataset=='fashion'), kernel_initializer=i, bias_initializer=i)\n",
        "    net.compile()\n",
        "    initializer_dict[(dataset, i)] = net.fit_evaluate(dataset)\n",
        "    del net\n",
        "  \n",
        "  for i in activations:\n",
        "    print(i)\n",
        "    net = ReferenceMLP(flatten=(dataset=='fashion'), hidden_layers_activation=i)\n",
        "    net.compile()\n",
        "    activation_dict[(dataset, i)] = net.fit_evaluate(dataset)\n",
        "    del net\n",
        "  \n",
        "\n",
        "  for i in regularizers:\n",
        "    print(i)\n",
        "    net = ReferenceMLP(flatten=(dataset=='fashion'), kernel_regularizer=i,\n",
        "                       bias_regularizer=i, activity_regularizer=i)\n",
        "    net.compile()\n",
        "    regularizer_dict[(dataset, i)] = net.fit_evaluate(dataset)\n",
        "    del net\n",
        "\n",
        "  for i in optimizers:\n",
        "    print(i)\n",
        "    net = ReferenceMLP(flatten=(dataset=='fashion'))\n",
        "    net.compile(optimizer=i)\n",
        "    optimizer_dict[(dataset, i)] = net.fit_evaluate(dataset)\n",
        "    del net\n",
        "\n",
        "  for i in steps_per_executions:\n",
        "    print(i)\n",
        "    net = ReferenceMLP(flatten=(dataset=='fashion'))\n",
        "    net.compile(steps_per_execution=i)\n",
        "    steps_dict[(dataset, i)] = net.fit_evaluate(dataset)\n",
        "    del net"
      ],
      "execution_count": null,
      "outputs": [
        {
          "output_type": "stream",
          "name": "stdout",
          "text": [
            "mnist\n",
            "None\n",
            "1711/1719 [============================>.] - ETA: 0s - loss: 0.6233 - accuracy: 0.8368"
          ]
        },
        {
          "output_type": "error",
          "ename": "KeyboardInterrupt",
          "evalue": "ignored",
          "traceback": [
            "\u001b[0;31m---------------------------------------------------------------------------\u001b[0m",
            "\u001b[0;31mKeyboardInterrupt\u001b[0m                         Traceback (most recent call last)",
            "\u001b[0;32m<ipython-input-6-b44b04947206>\u001b[0m in \u001b[0;36m<module>\u001b[0;34m()\u001b[0m\n\u001b[1;32m     12\u001b[0m     \u001b[0mnet\u001b[0m \u001b[0;34m=\u001b[0m \u001b[0mReferenceMLP\u001b[0m\u001b[0;34m(\u001b[0m\u001b[0mflatten\u001b[0m\u001b[0;34m=\u001b[0m\u001b[0;34m(\u001b[0m\u001b[0mdataset\u001b[0m\u001b[0;34m==\u001b[0m\u001b[0;34m'fashion'\u001b[0m\u001b[0;34m)\u001b[0m\u001b[0;34m,\u001b[0m \u001b[0mkernel_initializer\u001b[0m\u001b[0;34m=\u001b[0m\u001b[0mi\u001b[0m\u001b[0;34m,\u001b[0m \u001b[0mbias_initializer\u001b[0m\u001b[0;34m=\u001b[0m\u001b[0mi\u001b[0m\u001b[0;34m)\u001b[0m\u001b[0;34m\u001b[0m\u001b[0;34m\u001b[0m\u001b[0m\n\u001b[1;32m     13\u001b[0m     \u001b[0mnet\u001b[0m\u001b[0;34m.\u001b[0m\u001b[0mcompile\u001b[0m\u001b[0;34m(\u001b[0m\u001b[0;34m)\u001b[0m\u001b[0;34m\u001b[0m\u001b[0;34m\u001b[0m\u001b[0m\n\u001b[0;32m---> 14\u001b[0;31m     \u001b[0minitializer_dict\u001b[0m\u001b[0;34m[\u001b[0m\u001b[0;34m(\u001b[0m\u001b[0mdataset\u001b[0m\u001b[0;34m,\u001b[0m \u001b[0mi\u001b[0m\u001b[0;34m)\u001b[0m\u001b[0;34m]\u001b[0m \u001b[0;34m=\u001b[0m \u001b[0mnet\u001b[0m\u001b[0;34m.\u001b[0m\u001b[0mfit_evaluate\u001b[0m\u001b[0;34m(\u001b[0m\u001b[0mdataset\u001b[0m\u001b[0;34m)\u001b[0m\u001b[0;34m\u001b[0m\u001b[0;34m\u001b[0m\u001b[0m\n\u001b[0m\u001b[1;32m     15\u001b[0m     \u001b[0;32mdel\u001b[0m \u001b[0mnet\u001b[0m\u001b[0;34m\u001b[0m\u001b[0;34m\u001b[0m\u001b[0m\n\u001b[1;32m     16\u001b[0m \u001b[0;34m\u001b[0m\u001b[0m\n",
            "\u001b[0;32m<ipython-input-4-30e601bbc99c>\u001b[0m in \u001b[0;36mfit_evaluate\u001b[0;34m(self, dataset)\u001b[0m\n\u001b[1;32m     61\u001b[0m   \u001b[0;32mdef\u001b[0m \u001b[0mfit_evaluate\u001b[0m\u001b[0;34m(\u001b[0m\u001b[0mself\u001b[0m\u001b[0;34m,\u001b[0m \u001b[0mdataset\u001b[0m\u001b[0;34m)\u001b[0m\u001b[0;34m:\u001b[0m\u001b[0;34m\u001b[0m\u001b[0;34m\u001b[0m\u001b[0m\n\u001b[1;32m     62\u001b[0m     \u001b[0;32mif\u001b[0m \u001b[0mdataset\u001b[0m\u001b[0;34m==\u001b[0m\u001b[0;34m'mnist'\u001b[0m\u001b[0;34m:\u001b[0m\u001b[0;34m\u001b[0m\u001b[0;34m\u001b[0m\u001b[0m\n\u001b[0;32m---> 63\u001b[0;31m       \u001b[0mself\u001b[0m\u001b[0;34m.\u001b[0m\u001b[0mfit\u001b[0m\u001b[0;34m(\u001b[0m\u001b[0mX_train_mnist\u001b[0m\u001b[0;34m,\u001b[0m \u001b[0my_train_mnist\u001b[0m\u001b[0;34m,\u001b[0m \u001b[0mX_valid_mnist\u001b[0m\u001b[0;34m,\u001b[0m \u001b[0my_valid_mnist\u001b[0m\u001b[0;34m)\u001b[0m\u001b[0;34m\u001b[0m\u001b[0;34m\u001b[0m\u001b[0m\n\u001b[0m\u001b[1;32m     64\u001b[0m       \u001b[0;32mreturn\u001b[0m \u001b[0mself\u001b[0m\u001b[0;34m.\u001b[0m\u001b[0mevaluate\u001b[0m\u001b[0;34m(\u001b[0m\u001b[0mX_test_mnist\u001b[0m\u001b[0;34m,\u001b[0m \u001b[0my_test_mnist\u001b[0m\u001b[0;34m)\u001b[0m\u001b[0;34m\u001b[0m\u001b[0;34m\u001b[0m\u001b[0m\n\u001b[1;32m     65\u001b[0m     \u001b[0;32melse\u001b[0m\u001b[0;34m:\u001b[0m\u001b[0;34m\u001b[0m\u001b[0;34m\u001b[0m\u001b[0m\n",
            "\u001b[0;32m<ipython-input-4-30e601bbc99c>\u001b[0m in \u001b[0;36mfit\u001b[0;34m(self, X_train, y_train, X_valid, y_valid)\u001b[0m\n\u001b[1;32m     50\u001b[0m   \u001b[0;32mdef\u001b[0m \u001b[0mfit\u001b[0m\u001b[0;34m(\u001b[0m\u001b[0mself\u001b[0m\u001b[0;34m,\u001b[0m \u001b[0mX_train\u001b[0m\u001b[0;34m,\u001b[0m \u001b[0my_train\u001b[0m\u001b[0;34m,\u001b[0m \u001b[0mX_valid\u001b[0m\u001b[0;34m,\u001b[0m \u001b[0my_valid\u001b[0m\u001b[0;34m)\u001b[0m\u001b[0;34m:\u001b[0m\u001b[0;34m\u001b[0m\u001b[0;34m\u001b[0m\u001b[0m\n\u001b[1;32m     51\u001b[0m     self.model.fit(X_train, y_train, epochs=1,\n\u001b[0;32m---> 52\u001b[0;31m                     validation_data=(X_valid, y_valid))\n\u001b[0m\u001b[1;32m     53\u001b[0m \u001b[0;34m\u001b[0m\u001b[0m\n\u001b[1;32m     54\u001b[0m \u001b[0;34m\u001b[0m\u001b[0m\n",
            "\u001b[0;32m/usr/local/lib/python3.7/dist-packages/keras/utils/traceback_utils.py\u001b[0m in \u001b[0;36merror_handler\u001b[0;34m(*args, **kwargs)\u001b[0m\n\u001b[1;32m     62\u001b[0m     \u001b[0mfiltered_tb\u001b[0m \u001b[0;34m=\u001b[0m \u001b[0;32mNone\u001b[0m\u001b[0;34m\u001b[0m\u001b[0;34m\u001b[0m\u001b[0m\n\u001b[1;32m     63\u001b[0m     \u001b[0;32mtry\u001b[0m\u001b[0;34m:\u001b[0m\u001b[0;34m\u001b[0m\u001b[0;34m\u001b[0m\u001b[0m\n\u001b[0;32m---> 64\u001b[0;31m       \u001b[0;32mreturn\u001b[0m \u001b[0mfn\u001b[0m\u001b[0;34m(\u001b[0m\u001b[0;34m*\u001b[0m\u001b[0margs\u001b[0m\u001b[0;34m,\u001b[0m \u001b[0;34m**\u001b[0m\u001b[0mkwargs\u001b[0m\u001b[0;34m)\u001b[0m\u001b[0;34m\u001b[0m\u001b[0;34m\u001b[0m\u001b[0m\n\u001b[0m\u001b[1;32m     65\u001b[0m     \u001b[0;32mexcept\u001b[0m \u001b[0mException\u001b[0m \u001b[0;32mas\u001b[0m \u001b[0me\u001b[0m\u001b[0;34m:\u001b[0m  \u001b[0;31m# pylint: disable=broad-except\u001b[0m\u001b[0;34m\u001b[0m\u001b[0;34m\u001b[0m\u001b[0m\n\u001b[1;32m     66\u001b[0m       \u001b[0mfiltered_tb\u001b[0m \u001b[0;34m=\u001b[0m \u001b[0m_process_traceback_frames\u001b[0m\u001b[0;34m(\u001b[0m\u001b[0me\u001b[0m\u001b[0;34m.\u001b[0m\u001b[0m__traceback__\u001b[0m\u001b[0;34m)\u001b[0m\u001b[0;34m\u001b[0m\u001b[0;34m\u001b[0m\u001b[0m\n",
            "\u001b[0;32m/usr/local/lib/python3.7/dist-packages/keras/engine/training.py\u001b[0m in \u001b[0;36mfit\u001b[0;34m(self, x, y, batch_size, epochs, verbose, callbacks, validation_split, validation_data, shuffle, class_weight, sample_weight, initial_epoch, steps_per_epoch, validation_steps, validation_batch_size, validation_freq, max_queue_size, workers, use_multiprocessing)\u001b[0m\n\u001b[1;32m   1261\u001b[0m               \u001b[0muse_multiprocessing\u001b[0m\u001b[0;34m=\u001b[0m\u001b[0muse_multiprocessing\u001b[0m\u001b[0;34m,\u001b[0m\u001b[0;34m\u001b[0m\u001b[0;34m\u001b[0m\u001b[0m\n\u001b[1;32m   1262\u001b[0m               \u001b[0mreturn_dict\u001b[0m\u001b[0;34m=\u001b[0m\u001b[0;32mTrue\u001b[0m\u001b[0;34m,\u001b[0m\u001b[0;34m\u001b[0m\u001b[0;34m\u001b[0m\u001b[0m\n\u001b[0;32m-> 1263\u001b[0;31m               _use_cached_eval_dataset=True)\n\u001b[0m\u001b[1;32m   1264\u001b[0m           \u001b[0mval_logs\u001b[0m \u001b[0;34m=\u001b[0m \u001b[0;34m{\u001b[0m\u001b[0;34m'val_'\u001b[0m \u001b[0;34m+\u001b[0m \u001b[0mname\u001b[0m\u001b[0;34m:\u001b[0m \u001b[0mval\u001b[0m \u001b[0;32mfor\u001b[0m \u001b[0mname\u001b[0m\u001b[0;34m,\u001b[0m \u001b[0mval\u001b[0m \u001b[0;32min\u001b[0m \u001b[0mval_logs\u001b[0m\u001b[0;34m.\u001b[0m\u001b[0mitems\u001b[0m\u001b[0;34m(\u001b[0m\u001b[0;34m)\u001b[0m\u001b[0;34m}\u001b[0m\u001b[0;34m\u001b[0m\u001b[0;34m\u001b[0m\u001b[0m\n\u001b[1;32m   1265\u001b[0m           \u001b[0mepoch_logs\u001b[0m\u001b[0;34m.\u001b[0m\u001b[0mupdate\u001b[0m\u001b[0;34m(\u001b[0m\u001b[0mval_logs\u001b[0m\u001b[0;34m)\u001b[0m\u001b[0;34m\u001b[0m\u001b[0;34m\u001b[0m\u001b[0m\n",
            "\u001b[0;32m/usr/local/lib/python3.7/dist-packages/keras/utils/traceback_utils.py\u001b[0m in \u001b[0;36merror_handler\u001b[0;34m(*args, **kwargs)\u001b[0m\n\u001b[1;32m     62\u001b[0m     \u001b[0mfiltered_tb\u001b[0m \u001b[0;34m=\u001b[0m \u001b[0;32mNone\u001b[0m\u001b[0;34m\u001b[0m\u001b[0;34m\u001b[0m\u001b[0m\n\u001b[1;32m     63\u001b[0m     \u001b[0;32mtry\u001b[0m\u001b[0;34m:\u001b[0m\u001b[0;34m\u001b[0m\u001b[0;34m\u001b[0m\u001b[0m\n\u001b[0;32m---> 64\u001b[0;31m       \u001b[0;32mreturn\u001b[0m \u001b[0mfn\u001b[0m\u001b[0;34m(\u001b[0m\u001b[0;34m*\u001b[0m\u001b[0margs\u001b[0m\u001b[0;34m,\u001b[0m \u001b[0;34m**\u001b[0m\u001b[0mkwargs\u001b[0m\u001b[0;34m)\u001b[0m\u001b[0;34m\u001b[0m\u001b[0;34m\u001b[0m\u001b[0m\n\u001b[0m\u001b[1;32m     65\u001b[0m     \u001b[0;32mexcept\u001b[0m \u001b[0mException\u001b[0m \u001b[0;32mas\u001b[0m \u001b[0me\u001b[0m\u001b[0;34m:\u001b[0m  \u001b[0;31m# pylint: disable=broad-except\u001b[0m\u001b[0;34m\u001b[0m\u001b[0;34m\u001b[0m\u001b[0m\n\u001b[1;32m     66\u001b[0m       \u001b[0mfiltered_tb\u001b[0m \u001b[0;34m=\u001b[0m \u001b[0m_process_traceback_frames\u001b[0m\u001b[0;34m(\u001b[0m\u001b[0me\u001b[0m\u001b[0;34m.\u001b[0m\u001b[0m__traceback__\u001b[0m\u001b[0;34m)\u001b[0m\u001b[0;34m\u001b[0m\u001b[0;34m\u001b[0m\u001b[0m\n",
            "\u001b[0;32m/usr/local/lib/python3.7/dist-packages/keras/engine/training.py\u001b[0m in \u001b[0;36mevaluate\u001b[0;34m(self, x, y, batch_size, verbose, sample_weight, steps, callbacks, max_queue_size, workers, use_multiprocessing, return_dict, **kwargs)\u001b[0m\n\u001b[1;32m   1532\u001b[0m         \u001b[0mself\u001b[0m\u001b[0;34m.\u001b[0m\u001b[0mreset_metrics\u001b[0m\u001b[0;34m(\u001b[0m\u001b[0;34m)\u001b[0m\u001b[0;34m\u001b[0m\u001b[0;34m\u001b[0m\u001b[0m\n\u001b[1;32m   1533\u001b[0m         \u001b[0;32mwith\u001b[0m \u001b[0mdata_handler\u001b[0m\u001b[0;34m.\u001b[0m\u001b[0mcatch_stop_iteration\u001b[0m\u001b[0;34m(\u001b[0m\u001b[0;34m)\u001b[0m\u001b[0;34m:\u001b[0m\u001b[0;34m\u001b[0m\u001b[0;34m\u001b[0m\u001b[0m\n\u001b[0;32m-> 1534\u001b[0;31m           \u001b[0;32mfor\u001b[0m \u001b[0mstep\u001b[0m \u001b[0;32min\u001b[0m \u001b[0mdata_handler\u001b[0m\u001b[0;34m.\u001b[0m\u001b[0msteps\u001b[0m\u001b[0;34m(\u001b[0m\u001b[0;34m)\u001b[0m\u001b[0;34m:\u001b[0m\u001b[0;34m\u001b[0m\u001b[0;34m\u001b[0m\u001b[0m\n\u001b[0m\u001b[1;32m   1535\u001b[0m             \u001b[0;32mwith\u001b[0m \u001b[0mtf\u001b[0m\u001b[0;34m.\u001b[0m\u001b[0mprofiler\u001b[0m\u001b[0;34m.\u001b[0m\u001b[0mexperimental\u001b[0m\u001b[0;34m.\u001b[0m\u001b[0mTrace\u001b[0m\u001b[0;34m(\u001b[0m\u001b[0;34m'test'\u001b[0m\u001b[0;34m,\u001b[0m \u001b[0mstep_num\u001b[0m\u001b[0;34m=\u001b[0m\u001b[0mstep\u001b[0m\u001b[0;34m,\u001b[0m \u001b[0m_r\u001b[0m\u001b[0;34m=\u001b[0m\u001b[0;36m1\u001b[0m\u001b[0;34m)\u001b[0m\u001b[0;34m:\u001b[0m\u001b[0;34m\u001b[0m\u001b[0;34m\u001b[0m\u001b[0m\n\u001b[1;32m   1536\u001b[0m               \u001b[0mcallbacks\u001b[0m\u001b[0;34m.\u001b[0m\u001b[0mon_test_batch_begin\u001b[0m\u001b[0;34m(\u001b[0m\u001b[0mstep\u001b[0m\u001b[0;34m)\u001b[0m\u001b[0;34m\u001b[0m\u001b[0;34m\u001b[0m\u001b[0m\n",
            "\u001b[0;32m/usr/local/lib/python3.7/dist-packages/keras/engine/data_adapter.py\u001b[0m in \u001b[0;36msteps\u001b[0;34m(self)\u001b[0m\n\u001b[1;32m   1248\u001b[0m       \u001b[0;32mif\u001b[0m \u001b[0mself\u001b[0m\u001b[0;34m.\u001b[0m\u001b[0m_insufficient_data\u001b[0m\u001b[0;34m:\u001b[0m  \u001b[0;31m# Set by `catch_stop_iteration`.\u001b[0m\u001b[0;34m\u001b[0m\u001b[0;34m\u001b[0m\u001b[0m\n\u001b[1;32m   1249\u001b[0m         \u001b[0;32mbreak\u001b[0m\u001b[0;34m\u001b[0m\u001b[0;34m\u001b[0m\u001b[0m\n\u001b[0;32m-> 1250\u001b[0;31m       \u001b[0moriginal_spe\u001b[0m \u001b[0;34m=\u001b[0m \u001b[0mself\u001b[0m\u001b[0;34m.\u001b[0m\u001b[0m_steps_per_execution\u001b[0m\u001b[0;34m.\u001b[0m\u001b[0mnumpy\u001b[0m\u001b[0;34m(\u001b[0m\u001b[0;34m)\u001b[0m\u001b[0;34m.\u001b[0m\u001b[0mitem\u001b[0m\u001b[0;34m(\u001b[0m\u001b[0;34m)\u001b[0m\u001b[0;34m\u001b[0m\u001b[0;34m\u001b[0m\u001b[0m\n\u001b[0m\u001b[1;32m   1251\u001b[0m       can_run_full_execution = (\n\u001b[1;32m   1252\u001b[0m           \u001b[0moriginal_spe\u001b[0m \u001b[0;34m==\u001b[0m \u001b[0;36m1\u001b[0m \u001b[0;32mor\u001b[0m\u001b[0;34m\u001b[0m\u001b[0;34m\u001b[0m\u001b[0m\n",
            "\u001b[0;32m/usr/local/lib/python3.7/dist-packages/tensorflow/python/ops/resource_variable_ops.py\u001b[0m in \u001b[0;36mnumpy\u001b[0;34m(self)\u001b[0m\n\u001b[1;32m    643\u001b[0m   \u001b[0;32mdef\u001b[0m \u001b[0mnumpy\u001b[0m\u001b[0;34m(\u001b[0m\u001b[0mself\u001b[0m\u001b[0;34m)\u001b[0m\u001b[0;34m:\u001b[0m\u001b[0;34m\u001b[0m\u001b[0;34m\u001b[0m\u001b[0m\n\u001b[1;32m    644\u001b[0m     \u001b[0;32mif\u001b[0m \u001b[0mcontext\u001b[0m\u001b[0;34m.\u001b[0m\u001b[0mexecuting_eagerly\u001b[0m\u001b[0;34m(\u001b[0m\u001b[0;34m)\u001b[0m\u001b[0;34m:\u001b[0m\u001b[0;34m\u001b[0m\u001b[0;34m\u001b[0m\u001b[0m\n\u001b[0;32m--> 645\u001b[0;31m       \u001b[0;32mreturn\u001b[0m \u001b[0mself\u001b[0m\u001b[0;34m.\u001b[0m\u001b[0mread_value\u001b[0m\u001b[0;34m(\u001b[0m\u001b[0;34m)\u001b[0m\u001b[0;34m.\u001b[0m\u001b[0mnumpy\u001b[0m\u001b[0;34m(\u001b[0m\u001b[0;34m)\u001b[0m\u001b[0;34m\u001b[0m\u001b[0;34m\u001b[0m\u001b[0m\n\u001b[0m\u001b[1;32m    646\u001b[0m     raise NotImplementedError(\n\u001b[1;32m    647\u001b[0m         \"numpy() is only available when eager execution is enabled.\")\n",
            "\u001b[0;32m/usr/local/lib/python3.7/dist-packages/tensorflow/python/ops/resource_variable_ops.py\u001b[0m in \u001b[0;36mread_value\u001b[0;34m(self)\u001b[0m\n\u001b[1;32m    721\u001b[0m     \u001b[0;31m# Return an identity so it can get placed on whatever device the context\u001b[0m\u001b[0;34m\u001b[0m\u001b[0;34m\u001b[0m\u001b[0;34m\u001b[0m\u001b[0m\n\u001b[1;32m    722\u001b[0m     \u001b[0;31m# specifies instead of the device where the variable is.\u001b[0m\u001b[0;34m\u001b[0m\u001b[0;34m\u001b[0m\u001b[0;34m\u001b[0m\u001b[0m\n\u001b[0;32m--> 723\u001b[0;31m     \u001b[0;32mreturn\u001b[0m \u001b[0marray_ops\u001b[0m\u001b[0;34m.\u001b[0m\u001b[0midentity\u001b[0m\u001b[0;34m(\u001b[0m\u001b[0mvalue\u001b[0m\u001b[0;34m)\u001b[0m\u001b[0;34m\u001b[0m\u001b[0;34m\u001b[0m\u001b[0m\n\u001b[0m\u001b[1;32m    724\u001b[0m \u001b[0;34m\u001b[0m\u001b[0m\n\u001b[1;32m    725\u001b[0m   \u001b[0;32mdef\u001b[0m \u001b[0msparse_read\u001b[0m\u001b[0;34m(\u001b[0m\u001b[0mself\u001b[0m\u001b[0;34m,\u001b[0m \u001b[0mindices\u001b[0m\u001b[0;34m,\u001b[0m \u001b[0mname\u001b[0m\u001b[0;34m=\u001b[0m\u001b[0;32mNone\u001b[0m\u001b[0;34m)\u001b[0m\u001b[0;34m:\u001b[0m\u001b[0;34m\u001b[0m\u001b[0;34m\u001b[0m\u001b[0m\n",
            "\u001b[0;32m/usr/local/lib/python3.7/dist-packages/tensorflow/python/util/traceback_utils.py\u001b[0m in \u001b[0;36merror_handler\u001b[0;34m(*args, **kwargs)\u001b[0m\n\u001b[1;32m    148\u001b[0m     \u001b[0mfiltered_tb\u001b[0m \u001b[0;34m=\u001b[0m \u001b[0;32mNone\u001b[0m\u001b[0;34m\u001b[0m\u001b[0;34m\u001b[0m\u001b[0m\n\u001b[1;32m    149\u001b[0m     \u001b[0;32mtry\u001b[0m\u001b[0;34m:\u001b[0m\u001b[0;34m\u001b[0m\u001b[0;34m\u001b[0m\u001b[0m\n\u001b[0;32m--> 150\u001b[0;31m       \u001b[0;32mreturn\u001b[0m \u001b[0mfn\u001b[0m\u001b[0;34m(\u001b[0m\u001b[0;34m*\u001b[0m\u001b[0margs\u001b[0m\u001b[0;34m,\u001b[0m \u001b[0;34m**\u001b[0m\u001b[0mkwargs\u001b[0m\u001b[0;34m)\u001b[0m\u001b[0;34m\u001b[0m\u001b[0;34m\u001b[0m\u001b[0m\n\u001b[0m\u001b[1;32m    151\u001b[0m     \u001b[0;32mexcept\u001b[0m \u001b[0mException\u001b[0m \u001b[0;32mas\u001b[0m \u001b[0me\u001b[0m\u001b[0;34m:\u001b[0m\u001b[0;34m\u001b[0m\u001b[0;34m\u001b[0m\u001b[0m\n\u001b[1;32m    152\u001b[0m       \u001b[0mfiltered_tb\u001b[0m \u001b[0;34m=\u001b[0m \u001b[0m_process_traceback_frames\u001b[0m\u001b[0;34m(\u001b[0m\u001b[0me\u001b[0m\u001b[0;34m.\u001b[0m\u001b[0m__traceback__\u001b[0m\u001b[0;34m)\u001b[0m\u001b[0;34m\u001b[0m\u001b[0;34m\u001b[0m\u001b[0m\n",
            "\u001b[0;32m/usr/local/lib/python3.7/dist-packages/tensorflow/python/util/dispatch.py\u001b[0m in \u001b[0;36mop_dispatch_handler\u001b[0;34m(*args, **kwargs)\u001b[0m\n\u001b[1;32m   1094\u001b[0m       \u001b[0;31m# Fallback dispatch system (dispatch v1):\u001b[0m\u001b[0;34m\u001b[0m\u001b[0;34m\u001b[0m\u001b[0;34m\u001b[0m\u001b[0m\n\u001b[1;32m   1095\u001b[0m       \u001b[0;32mtry\u001b[0m\u001b[0;34m:\u001b[0m\u001b[0;34m\u001b[0m\u001b[0;34m\u001b[0m\u001b[0m\n\u001b[0;32m-> 1096\u001b[0;31m         \u001b[0;32mreturn\u001b[0m \u001b[0mdispatch_target\u001b[0m\u001b[0;34m(\u001b[0m\u001b[0;34m*\u001b[0m\u001b[0margs\u001b[0m\u001b[0;34m,\u001b[0m \u001b[0;34m**\u001b[0m\u001b[0mkwargs\u001b[0m\u001b[0;34m)\u001b[0m\u001b[0;34m\u001b[0m\u001b[0;34m\u001b[0m\u001b[0m\n\u001b[0m\u001b[1;32m   1097\u001b[0m       \u001b[0;32mexcept\u001b[0m \u001b[0;34m(\u001b[0m\u001b[0mTypeError\u001b[0m\u001b[0;34m,\u001b[0m \u001b[0mValueError\u001b[0m\u001b[0;34m)\u001b[0m\u001b[0;34m:\u001b[0m\u001b[0;34m\u001b[0m\u001b[0;34m\u001b[0m\u001b[0m\n\u001b[1;32m   1098\u001b[0m         \u001b[0;31m# Note: convert_to_eager_tensor currently raises a ValueError, not a\u001b[0m\u001b[0;34m\u001b[0m\u001b[0;34m\u001b[0m\u001b[0;34m\u001b[0m\u001b[0m\n",
            "\u001b[0;32m/usr/local/lib/python3.7/dist-packages/tensorflow/python/ops/array_ops.py\u001b[0m in \u001b[0;36midentity\u001b[0;34m(input, name)\u001b[0m\n\u001b[1;32m    288\u001b[0m     \u001b[0;31m# variables. Variables have correct handle data when graph building.\u001b[0m\u001b[0;34m\u001b[0m\u001b[0;34m\u001b[0m\u001b[0;34m\u001b[0m\u001b[0m\n\u001b[1;32m    289\u001b[0m     \u001b[0minput\u001b[0m \u001b[0;34m=\u001b[0m \u001b[0mops\u001b[0m\u001b[0;34m.\u001b[0m\u001b[0mconvert_to_tensor\u001b[0m\u001b[0;34m(\u001b[0m\u001b[0minput\u001b[0m\u001b[0;34m)\u001b[0m\u001b[0;34m\u001b[0m\u001b[0;34m\u001b[0m\u001b[0m\n\u001b[0;32m--> 290\u001b[0;31m   \u001b[0mret\u001b[0m \u001b[0;34m=\u001b[0m \u001b[0mgen_array_ops\u001b[0m\u001b[0;34m.\u001b[0m\u001b[0midentity\u001b[0m\u001b[0;34m(\u001b[0m\u001b[0minput\u001b[0m\u001b[0;34m,\u001b[0m \u001b[0mname\u001b[0m\u001b[0;34m=\u001b[0m\u001b[0mname\u001b[0m\u001b[0;34m)\u001b[0m\u001b[0;34m\u001b[0m\u001b[0;34m\u001b[0m\u001b[0m\n\u001b[0m\u001b[1;32m    291\u001b[0m   \u001b[0;31m# Propagate handle data for happier shape inference for resource variables.\u001b[0m\u001b[0;34m\u001b[0m\u001b[0;34m\u001b[0m\u001b[0;34m\u001b[0m\u001b[0m\n\u001b[1;32m    292\u001b[0m   \u001b[0;32mif\u001b[0m \u001b[0mhasattr\u001b[0m\u001b[0;34m(\u001b[0m\u001b[0minput\u001b[0m\u001b[0;34m,\u001b[0m \u001b[0;34m\"_handle_data\"\u001b[0m\u001b[0;34m)\u001b[0m\u001b[0;34m:\u001b[0m\u001b[0;34m\u001b[0m\u001b[0;34m\u001b[0m\u001b[0m\n",
            "\u001b[0;32m/usr/local/lib/python3.7/dist-packages/tensorflow/python/ops/gen_array_ops.py\u001b[0m in \u001b[0;36midentity\u001b[0;34m(input, name)\u001b[0m\n\u001b[1;32m   4063\u001b[0m     \u001b[0;32mtry\u001b[0m\u001b[0;34m:\u001b[0m\u001b[0;34m\u001b[0m\u001b[0;34m\u001b[0m\u001b[0m\n\u001b[1;32m   4064\u001b[0m       _result = pywrap_tfe.TFE_Py_FastPathExecute(\n\u001b[0;32m-> 4065\u001b[0;31m         _ctx, \"Identity\", name, input)\n\u001b[0m\u001b[1;32m   4066\u001b[0m       \u001b[0;32mreturn\u001b[0m \u001b[0m_result\u001b[0m\u001b[0;34m\u001b[0m\u001b[0;34m\u001b[0m\u001b[0m\n\u001b[1;32m   4067\u001b[0m     \u001b[0;32mexcept\u001b[0m \u001b[0m_core\u001b[0m\u001b[0;34m.\u001b[0m\u001b[0m_NotOkStatusException\u001b[0m \u001b[0;32mas\u001b[0m \u001b[0me\u001b[0m\u001b[0;34m:\u001b[0m\u001b[0;34m\u001b[0m\u001b[0;34m\u001b[0m\u001b[0m\n",
            "\u001b[0;31mKeyboardInterrupt\u001b[0m: "
          ]
        }
      ]
    },
    {
      "cell_type": "markdown",
      "metadata": {
        "id": "w3Y5dWFQMvwB"
      },
      "source": [
        "Time to view the results of our experiments with these hyperparameters."
      ]
    },
    {
      "cell_type": "code",
      "metadata": {
        "colab": {
          "base_uri": "https://localhost:8080/"
        },
        "id": "Le_xHPpmM00Y",
        "outputId": "6eb03ea9-d240-42c9-e08f-8743106ac691"
      },
      "source": [
        "print(\"Kernel, and bias initializers: \")\n",
        "print(initializer_dict)\n",
        "print(\"Hidden layer activation functions: \")\n",
        "print(activation_dict)\n",
        "print(\"Kernel, bias, and activity regularizers: \")\n",
        "print(regularizer_dict)\n",
        "print(\"Optimizers: \")\n",
        "print(optimizer_dict)\n",
        "print(\"Steps per execution: \")\n",
        "print(steps_dict)"
      ],
      "execution_count": null,
      "outputs": [
        {
          "output_type": "stream",
          "name": "stdout",
          "text": [
            "Kernel, and bias initializers: \n",
            "{('mnist', None): [0.3114880323410034, 0.9139000177383423], ('mnist', 'random_normal'): [0.32399439811706543, 0.9097999930381775], ('mnist', 'random_uniform'): [0.35385939478874207, 0.9003000259399414], ('mnist', 'truncated_normal'): [0.3310825824737549, 0.9056000113487244], ('mnist', 'zeros'): [2.30111026763916, 0.11349999904632568], ('mnist', 'ones'): [2.3011059761047363, 0.11349999904632568], ('fashion', None): [0.5580259561538696, 0.8023999929428101], ('fashion', 'random_normal'): [0.5473095178604126, 0.8125], ('fashion', 'random_uniform'): [0.6123326420783997, 0.7879999876022339], ('fashion', 'truncated_normal'): [0.5661210417747498, 0.7997999787330627], ('fashion', 'zeros'): [2.3026182651519775, 0.10000000149011612], ('fashion', 'ones'): [2.302612543106079, 0.10000000149011612]}\n",
            "Hidden layer activation functions: \n",
            "{('mnist', 'relu'): [0.3154290020465851, 0.9096999764442444], ('mnist', 'sigmoid'): [1.9444007873535156, 0.6186000108718872], ('mnist', 'tanh'): [0.3302043080329895, 0.9079999923706055], ('mnist', 'selu'): [0.29451853036880493, 0.9153000116348267], ('mnist', 'elu'): [0.32289424538612366, 0.90829998254776], ('mnist', 'exponential'): [nan, 0.09799999743700027], ('fashion', 'relu'): [0.5434632897377014, 0.8115000128746033], ('fashion', 'sigmoid'): [1.5123555660247803, 0.6026999950408936], ('fashion', 'tanh'): [0.5271571278572083, 0.8138999938964844], ('fashion', 'selu'): [0.49449121952056885, 0.8226000070571899], ('fashion', 'elu'): [0.5293673872947693, 0.8133000135421753], ('fashion', 'exponential'): [nan, 0.10000000149011612]}\n",
            "Kernel, bias, and activity regularizers: \n",
            "{('mnist', None): [0.3135697543621063, 0.9128999710083008], ('mnist', 'l1'): [2.341222047805786, 0.21719999611377716], ('mnist', 'l2'): [3.733198881149292, 0.9092000126838684], ('fashion', None): [0.5497739911079407, 0.8025000095367432], ('fashion', 'l1'): [1.9013923406600952, 0.5472999811172485], ('fashion', 'l2'): [3.896375894546509, 0.8055999875068665]}\n",
            "Optimizers: \n",
            "{('mnist', 'adadelta'): [2.116866111755371, 0.27160000801086426], ('mnist', 'adagrad'): [0.5943590998649597, 0.8668000102043152], ('mnist', 'adam'): [0.11638778448104858, 0.9610000252723694], ('mnist', 'adamax'): [0.16752028465270996, 0.95169997215271], ('mnist', 'ftrl'): [2.3022348880767822, 0.11349999904632568], ('mnist', 'nadam'): [0.10438305884599686, 0.9677000045776367], ('mnist', 'rmsprop'): [0.10500895977020264, 0.9661999940872192], ('mnist', 'sgd'): [0.3124457895755768, 0.9103999733924866], ('fashion', 'adadelta'): [1.8043075799942017, 0.522599995136261], ('fashion', 'adagrad'): [0.7418915629386902, 0.7498000264167786], ('fashion', 'adam'): [0.4445517957210541, 0.8396000266075134], ('fashion', 'adamax'): [0.4440191984176636, 0.8420000076293945], ('fashion', 'ftrl'): [2.302586317062378, 0.10000000149011612], ('fashion', 'nadam'): [0.4415721595287323, 0.847599983215332], ('fashion', 'rmsprop'): [0.4309372007846832, 0.8468000292778015], ('fashion', 'sgd'): [0.5674023628234863, 0.7985000014305115]}\n",
            "Steps per execution: \n",
            "{('mnist', None): [0.32103756070137024, 0.9077000021934509], ('mnist', 2): [0.31068599224090576, 0.911300003528595], ('mnist', 5): [0.3021520674228668, 0.9147999882698059], ('mnist', 10): [0.3044549822807312, 0.9162999987602234], ('mnist', 20): [0.31340330839157104, 0.9111999869346619], ('mnist', 50): [0.30891624093055725, 0.9146000146865845], ('mnist', 100): [0.3049001097679138, 0.9154999852180481], ('fashion', None): [0.5343309640884399, 0.8158000111579895], ('fashion', 2): [0.5349324941635132, 0.8090999722480774], ('fashion', 5): [0.5416889786720276, 0.8125], ('fashion', 10): [0.5347653031349182, 0.8109999895095825], ('fashion', 20): [0.5285729765892029, 0.8198000192642212], ('fashion', 50): [0.5545006990432739, 0.8003000020980835], ('fashion', 100): [0.5368165373802185, 0.8141999840736389]}\n"
          ]
        }
      ]
    },
    {
      "cell_type": "markdown",
      "metadata": {
        "id": "XKtpDFBZPaNa"
      },
      "source": [
        "Our final experiments involve changing the overall architecture of the network. This includes: changing the layers' sizes, adding or removing layers, and using Dropout layers for regularization. In the code cell below, we attempt a varied range of architectures. This experiment requires more thought than simply looping over values for a hyperparameters, so we'll manually tweak the architectures."
      ]
    },
    {
      "cell_type": "code",
      "metadata": {
        "id": "bYgpnXPdQ6hh",
        "colab": {
          "base_uri": "https://localhost:8080/",
          "height": 414
        },
        "outputId": "c5125b48-ad1e-4da1-8e7c-d6821a7d39a7"
      },
      "source": [
        "# First, we'll observe the difference in performance after adding Dropout layers\n",
        "# after every Dense layer\n",
        "\n",
        "# Dictionary for saving the experiment results\n",
        "architecture_dict = {}\n",
        "\n",
        "# First, let's see the performance of the reference model\n",
        "for dataset in ['mnist', 'fashion']:\n",
        "  reference_net = ReferenceMLP(flatten=(dataset=='fashion'))\n",
        "  reference_net.compile()\n",
        "  architecture_dict[\"reference network \" + dataset] = reference_net.fit_evaluate(dataset)\n",
        "\n",
        "# Now we can add Dropout layers and see the result\n",
        "for dataset in ['mnist', 'fashion']:\n",
        "  do_net = ReferenceMLP(flatten=(dataset=='fashion'), dropout_rate=0.5,\n",
        "                               hidden_layers_number=4, hidden_layers_dropout=[1, 3],\n",
        "                               hidden_layers_sizes=[300, None, 100, None])\n",
        "  do_net.compile()\n",
        "  architecture_dict[\"reference network with dropout \" + dataset] = do_net.fit_evaluate(dataset)"
      ],
      "execution_count": null,
      "outputs": [
        {
          "output_type": "stream",
          "name": "stdout",
          "text": [
            "1645/1719 [===========================>..] - ETA: 0s - loss: 0.6387 - accuracy: 0.8349"
          ]
        },
        {
          "output_type": "error",
          "ename": "KeyboardInterrupt",
          "evalue": "ignored",
          "traceback": [
            "\u001b[0;31m---------------------------------------------------------------------------\u001b[0m",
            "\u001b[0;31mKeyboardInterrupt\u001b[0m                         Traceback (most recent call last)",
            "\u001b[0;32m<ipython-input-7-57b9e37f1faa>\u001b[0m in \u001b[0;36m<module>\u001b[0;34m()\u001b[0m\n\u001b[1;32m      9\u001b[0m   \u001b[0mreference_net\u001b[0m \u001b[0;34m=\u001b[0m \u001b[0mReferenceMLP\u001b[0m\u001b[0;34m(\u001b[0m\u001b[0mflatten\u001b[0m\u001b[0;34m=\u001b[0m\u001b[0;34m(\u001b[0m\u001b[0mdataset\u001b[0m\u001b[0;34m==\u001b[0m\u001b[0;34m'fashion'\u001b[0m\u001b[0;34m)\u001b[0m\u001b[0;34m)\u001b[0m\u001b[0;34m\u001b[0m\u001b[0;34m\u001b[0m\u001b[0m\n\u001b[1;32m     10\u001b[0m   \u001b[0mreference_net\u001b[0m\u001b[0;34m.\u001b[0m\u001b[0mcompile\u001b[0m\u001b[0;34m(\u001b[0m\u001b[0;34m)\u001b[0m\u001b[0;34m\u001b[0m\u001b[0;34m\u001b[0m\u001b[0m\n\u001b[0;32m---> 11\u001b[0;31m   \u001b[0marchitecture_dict\u001b[0m\u001b[0;34m[\u001b[0m\u001b[0;34m\"reference network \"\u001b[0m \u001b[0;34m+\u001b[0m \u001b[0mdataset\u001b[0m\u001b[0;34m]\u001b[0m \u001b[0;34m=\u001b[0m \u001b[0mreference_net\u001b[0m\u001b[0;34m.\u001b[0m\u001b[0mfit_evaluate\u001b[0m\u001b[0;34m(\u001b[0m\u001b[0mdataset\u001b[0m\u001b[0;34m)\u001b[0m\u001b[0;34m\u001b[0m\u001b[0;34m\u001b[0m\u001b[0m\n\u001b[0m\u001b[1;32m     12\u001b[0m \u001b[0;34m\u001b[0m\u001b[0m\n\u001b[1;32m     13\u001b[0m \u001b[0;31m# Now we can add Dropout layers and see the result\u001b[0m\u001b[0;34m\u001b[0m\u001b[0;34m\u001b[0m\u001b[0;34m\u001b[0m\u001b[0m\n",
            "\u001b[0;32m<ipython-input-4-30e601bbc99c>\u001b[0m in \u001b[0;36mfit_evaluate\u001b[0;34m(self, dataset)\u001b[0m\n\u001b[1;32m     61\u001b[0m   \u001b[0;32mdef\u001b[0m \u001b[0mfit_evaluate\u001b[0m\u001b[0;34m(\u001b[0m\u001b[0mself\u001b[0m\u001b[0;34m,\u001b[0m \u001b[0mdataset\u001b[0m\u001b[0;34m)\u001b[0m\u001b[0;34m:\u001b[0m\u001b[0;34m\u001b[0m\u001b[0;34m\u001b[0m\u001b[0m\n\u001b[1;32m     62\u001b[0m     \u001b[0;32mif\u001b[0m \u001b[0mdataset\u001b[0m\u001b[0;34m==\u001b[0m\u001b[0;34m'mnist'\u001b[0m\u001b[0;34m:\u001b[0m\u001b[0;34m\u001b[0m\u001b[0;34m\u001b[0m\u001b[0m\n\u001b[0;32m---> 63\u001b[0;31m       \u001b[0mself\u001b[0m\u001b[0;34m.\u001b[0m\u001b[0mfit\u001b[0m\u001b[0;34m(\u001b[0m\u001b[0mX_train_mnist\u001b[0m\u001b[0;34m,\u001b[0m \u001b[0my_train_mnist\u001b[0m\u001b[0;34m,\u001b[0m \u001b[0mX_valid_mnist\u001b[0m\u001b[0;34m,\u001b[0m \u001b[0my_valid_mnist\u001b[0m\u001b[0;34m)\u001b[0m\u001b[0;34m\u001b[0m\u001b[0;34m\u001b[0m\u001b[0m\n\u001b[0m\u001b[1;32m     64\u001b[0m       \u001b[0;32mreturn\u001b[0m \u001b[0mself\u001b[0m\u001b[0;34m.\u001b[0m\u001b[0mevaluate\u001b[0m\u001b[0;34m(\u001b[0m\u001b[0mX_test_mnist\u001b[0m\u001b[0;34m,\u001b[0m \u001b[0my_test_mnist\u001b[0m\u001b[0;34m)\u001b[0m\u001b[0;34m\u001b[0m\u001b[0;34m\u001b[0m\u001b[0m\n\u001b[1;32m     65\u001b[0m     \u001b[0;32melse\u001b[0m\u001b[0;34m:\u001b[0m\u001b[0;34m\u001b[0m\u001b[0;34m\u001b[0m\u001b[0m\n",
            "\u001b[0;32m<ipython-input-4-30e601bbc99c>\u001b[0m in \u001b[0;36mfit\u001b[0;34m(self, X_train, y_train, X_valid, y_valid)\u001b[0m\n\u001b[1;32m     50\u001b[0m   \u001b[0;32mdef\u001b[0m \u001b[0mfit\u001b[0m\u001b[0;34m(\u001b[0m\u001b[0mself\u001b[0m\u001b[0;34m,\u001b[0m \u001b[0mX_train\u001b[0m\u001b[0;34m,\u001b[0m \u001b[0my_train\u001b[0m\u001b[0;34m,\u001b[0m \u001b[0mX_valid\u001b[0m\u001b[0;34m,\u001b[0m \u001b[0my_valid\u001b[0m\u001b[0;34m)\u001b[0m\u001b[0;34m:\u001b[0m\u001b[0;34m\u001b[0m\u001b[0;34m\u001b[0m\u001b[0m\n\u001b[1;32m     51\u001b[0m     self.model.fit(X_train, y_train, epochs=1,\n\u001b[0;32m---> 52\u001b[0;31m                     validation_data=(X_valid, y_valid))\n\u001b[0m\u001b[1;32m     53\u001b[0m \u001b[0;34m\u001b[0m\u001b[0m\n\u001b[1;32m     54\u001b[0m \u001b[0;34m\u001b[0m\u001b[0m\n",
            "\u001b[0;32m/usr/local/lib/python3.7/dist-packages/keras/utils/traceback_utils.py\u001b[0m in \u001b[0;36merror_handler\u001b[0;34m(*args, **kwargs)\u001b[0m\n\u001b[1;32m     62\u001b[0m     \u001b[0mfiltered_tb\u001b[0m \u001b[0;34m=\u001b[0m \u001b[0;32mNone\u001b[0m\u001b[0;34m\u001b[0m\u001b[0;34m\u001b[0m\u001b[0m\n\u001b[1;32m     63\u001b[0m     \u001b[0;32mtry\u001b[0m\u001b[0;34m:\u001b[0m\u001b[0;34m\u001b[0m\u001b[0;34m\u001b[0m\u001b[0m\n\u001b[0;32m---> 64\u001b[0;31m       \u001b[0;32mreturn\u001b[0m \u001b[0mfn\u001b[0m\u001b[0;34m(\u001b[0m\u001b[0;34m*\u001b[0m\u001b[0margs\u001b[0m\u001b[0;34m,\u001b[0m \u001b[0;34m**\u001b[0m\u001b[0mkwargs\u001b[0m\u001b[0;34m)\u001b[0m\u001b[0;34m\u001b[0m\u001b[0;34m\u001b[0m\u001b[0m\n\u001b[0m\u001b[1;32m     65\u001b[0m     \u001b[0;32mexcept\u001b[0m \u001b[0mException\u001b[0m \u001b[0;32mas\u001b[0m \u001b[0me\u001b[0m\u001b[0;34m:\u001b[0m  \u001b[0;31m# pylint: disable=broad-except\u001b[0m\u001b[0;34m\u001b[0m\u001b[0;34m\u001b[0m\u001b[0m\n\u001b[1;32m     66\u001b[0m       \u001b[0mfiltered_tb\u001b[0m \u001b[0;34m=\u001b[0m \u001b[0m_process_traceback_frames\u001b[0m\u001b[0;34m(\u001b[0m\u001b[0me\u001b[0m\u001b[0;34m.\u001b[0m\u001b[0m__traceback__\u001b[0m\u001b[0;34m)\u001b[0m\u001b[0;34m\u001b[0m\u001b[0;34m\u001b[0m\u001b[0m\n",
            "\u001b[0;32m/usr/local/lib/python3.7/dist-packages/keras/engine/training.py\u001b[0m in \u001b[0;36mfit\u001b[0;34m(self, x, y, batch_size, epochs, verbose, callbacks, validation_split, validation_data, shuffle, class_weight, sample_weight, initial_epoch, steps_per_epoch, validation_steps, validation_batch_size, validation_freq, max_queue_size, workers, use_multiprocessing)\u001b[0m\n\u001b[1;32m   1214\u001b[0m                 _r=1):\n\u001b[1;32m   1215\u001b[0m               \u001b[0mcallbacks\u001b[0m\u001b[0;34m.\u001b[0m\u001b[0mon_train_batch_begin\u001b[0m\u001b[0;34m(\u001b[0m\u001b[0mstep\u001b[0m\u001b[0;34m)\u001b[0m\u001b[0;34m\u001b[0m\u001b[0;34m\u001b[0m\u001b[0m\n\u001b[0;32m-> 1216\u001b[0;31m               \u001b[0mtmp_logs\u001b[0m \u001b[0;34m=\u001b[0m \u001b[0mself\u001b[0m\u001b[0;34m.\u001b[0m\u001b[0mtrain_function\u001b[0m\u001b[0;34m(\u001b[0m\u001b[0miterator\u001b[0m\u001b[0;34m)\u001b[0m\u001b[0;34m\u001b[0m\u001b[0;34m\u001b[0m\u001b[0m\n\u001b[0m\u001b[1;32m   1217\u001b[0m               \u001b[0;32mif\u001b[0m \u001b[0mdata_handler\u001b[0m\u001b[0;34m.\u001b[0m\u001b[0mshould_sync\u001b[0m\u001b[0;34m:\u001b[0m\u001b[0;34m\u001b[0m\u001b[0;34m\u001b[0m\u001b[0m\n\u001b[1;32m   1218\u001b[0m                 \u001b[0mcontext\u001b[0m\u001b[0;34m.\u001b[0m\u001b[0masync_wait\u001b[0m\u001b[0;34m(\u001b[0m\u001b[0;34m)\u001b[0m\u001b[0;34m\u001b[0m\u001b[0;34m\u001b[0m\u001b[0m\n",
            "\u001b[0;32m/usr/local/lib/python3.7/dist-packages/tensorflow/python/util/traceback_utils.py\u001b[0m in \u001b[0;36merror_handler\u001b[0;34m(*args, **kwargs)\u001b[0m\n\u001b[1;32m    148\u001b[0m     \u001b[0mfiltered_tb\u001b[0m \u001b[0;34m=\u001b[0m \u001b[0;32mNone\u001b[0m\u001b[0;34m\u001b[0m\u001b[0;34m\u001b[0m\u001b[0m\n\u001b[1;32m    149\u001b[0m     \u001b[0;32mtry\u001b[0m\u001b[0;34m:\u001b[0m\u001b[0;34m\u001b[0m\u001b[0;34m\u001b[0m\u001b[0m\n\u001b[0;32m--> 150\u001b[0;31m       \u001b[0;32mreturn\u001b[0m \u001b[0mfn\u001b[0m\u001b[0;34m(\u001b[0m\u001b[0;34m*\u001b[0m\u001b[0margs\u001b[0m\u001b[0;34m,\u001b[0m \u001b[0;34m**\u001b[0m\u001b[0mkwargs\u001b[0m\u001b[0;34m)\u001b[0m\u001b[0;34m\u001b[0m\u001b[0;34m\u001b[0m\u001b[0m\n\u001b[0m\u001b[1;32m    151\u001b[0m     \u001b[0;32mexcept\u001b[0m \u001b[0mException\u001b[0m \u001b[0;32mas\u001b[0m \u001b[0me\u001b[0m\u001b[0;34m:\u001b[0m\u001b[0;34m\u001b[0m\u001b[0;34m\u001b[0m\u001b[0m\n\u001b[1;32m    152\u001b[0m       \u001b[0mfiltered_tb\u001b[0m \u001b[0;34m=\u001b[0m \u001b[0m_process_traceback_frames\u001b[0m\u001b[0;34m(\u001b[0m\u001b[0me\u001b[0m\u001b[0;34m.\u001b[0m\u001b[0m__traceback__\u001b[0m\u001b[0;34m)\u001b[0m\u001b[0;34m\u001b[0m\u001b[0;34m\u001b[0m\u001b[0m\n",
            "\u001b[0;32m/usr/local/lib/python3.7/dist-packages/tensorflow/python/eager/def_function.py\u001b[0m in \u001b[0;36m__call__\u001b[0;34m(self, *args, **kwds)\u001b[0m\n\u001b[1;32m    908\u001b[0m \u001b[0;34m\u001b[0m\u001b[0m\n\u001b[1;32m    909\u001b[0m       \u001b[0;32mwith\u001b[0m \u001b[0mOptionalXlaContext\u001b[0m\u001b[0;34m(\u001b[0m\u001b[0mself\u001b[0m\u001b[0;34m.\u001b[0m\u001b[0m_jit_compile\u001b[0m\u001b[0;34m)\u001b[0m\u001b[0;34m:\u001b[0m\u001b[0;34m\u001b[0m\u001b[0;34m\u001b[0m\u001b[0m\n\u001b[0;32m--> 910\u001b[0;31m         \u001b[0mresult\u001b[0m \u001b[0;34m=\u001b[0m \u001b[0mself\u001b[0m\u001b[0;34m.\u001b[0m\u001b[0m_call\u001b[0m\u001b[0;34m(\u001b[0m\u001b[0;34m*\u001b[0m\u001b[0margs\u001b[0m\u001b[0;34m,\u001b[0m \u001b[0;34m**\u001b[0m\u001b[0mkwds\u001b[0m\u001b[0;34m)\u001b[0m\u001b[0;34m\u001b[0m\u001b[0;34m\u001b[0m\u001b[0m\n\u001b[0m\u001b[1;32m    911\u001b[0m \u001b[0;34m\u001b[0m\u001b[0m\n\u001b[1;32m    912\u001b[0m       \u001b[0mnew_tracing_count\u001b[0m \u001b[0;34m=\u001b[0m \u001b[0mself\u001b[0m\u001b[0;34m.\u001b[0m\u001b[0mexperimental_get_tracing_count\u001b[0m\u001b[0;34m(\u001b[0m\u001b[0;34m)\u001b[0m\u001b[0;34m\u001b[0m\u001b[0;34m\u001b[0m\u001b[0m\n",
            "\u001b[0;32m/usr/local/lib/python3.7/dist-packages/tensorflow/python/eager/def_function.py\u001b[0m in \u001b[0;36m_call\u001b[0;34m(self, *args, **kwds)\u001b[0m\n\u001b[1;32m    940\u001b[0m       \u001b[0;31m# In this case we have created variables on the first call, so we run the\u001b[0m\u001b[0;34m\u001b[0m\u001b[0;34m\u001b[0m\u001b[0;34m\u001b[0m\u001b[0m\n\u001b[1;32m    941\u001b[0m       \u001b[0;31m# defunned version which is guaranteed to never create variables.\u001b[0m\u001b[0;34m\u001b[0m\u001b[0;34m\u001b[0m\u001b[0;34m\u001b[0m\u001b[0m\n\u001b[0;32m--> 942\u001b[0;31m       \u001b[0;32mreturn\u001b[0m \u001b[0mself\u001b[0m\u001b[0;34m.\u001b[0m\u001b[0m_stateless_fn\u001b[0m\u001b[0;34m(\u001b[0m\u001b[0;34m*\u001b[0m\u001b[0margs\u001b[0m\u001b[0;34m,\u001b[0m \u001b[0;34m**\u001b[0m\u001b[0mkwds\u001b[0m\u001b[0;34m)\u001b[0m  \u001b[0;31m# pylint: disable=not-callable\u001b[0m\u001b[0;34m\u001b[0m\u001b[0;34m\u001b[0m\u001b[0m\n\u001b[0m\u001b[1;32m    943\u001b[0m     \u001b[0;32melif\u001b[0m \u001b[0mself\u001b[0m\u001b[0;34m.\u001b[0m\u001b[0m_stateful_fn\u001b[0m \u001b[0;32mis\u001b[0m \u001b[0;32mnot\u001b[0m \u001b[0;32mNone\u001b[0m\u001b[0;34m:\u001b[0m\u001b[0;34m\u001b[0m\u001b[0;34m\u001b[0m\u001b[0m\n\u001b[1;32m    944\u001b[0m       \u001b[0;31m# Release the lock early so that multiple threads can perform the call\u001b[0m\u001b[0;34m\u001b[0m\u001b[0;34m\u001b[0m\u001b[0;34m\u001b[0m\u001b[0m\n",
            "\u001b[0;32m/usr/local/lib/python3.7/dist-packages/tensorflow/python/eager/function.py\u001b[0m in \u001b[0;36m__call__\u001b[0;34m(self, *args, **kwargs)\u001b[0m\n\u001b[1;32m   3129\u001b[0m        filtered_flat_args) = self._maybe_define_function(args, kwargs)\n\u001b[1;32m   3130\u001b[0m     return graph_function._call_flat(\n\u001b[0;32m-> 3131\u001b[0;31m         filtered_flat_args, captured_inputs=graph_function.captured_inputs)  # pylint: disable=protected-access\n\u001b[0m\u001b[1;32m   3132\u001b[0m \u001b[0;34m\u001b[0m\u001b[0m\n\u001b[1;32m   3133\u001b[0m   \u001b[0;34m@\u001b[0m\u001b[0mproperty\u001b[0m\u001b[0;34m\u001b[0m\u001b[0;34m\u001b[0m\u001b[0m\n",
            "\u001b[0;32m/usr/local/lib/python3.7/dist-packages/tensorflow/python/eager/function.py\u001b[0m in \u001b[0;36m_call_flat\u001b[0;34m(self, args, captured_inputs, cancellation_manager)\u001b[0m\n\u001b[1;32m   1958\u001b[0m       \u001b[0;31m# No tape is watching; skip to running the function.\u001b[0m\u001b[0;34m\u001b[0m\u001b[0;34m\u001b[0m\u001b[0;34m\u001b[0m\u001b[0m\n\u001b[1;32m   1959\u001b[0m       return self._build_call_outputs(self._inference_function.call(\n\u001b[0;32m-> 1960\u001b[0;31m           ctx, args, cancellation_manager=cancellation_manager))\n\u001b[0m\u001b[1;32m   1961\u001b[0m     forward_backward = self._select_forward_and_backward_functions(\n\u001b[1;32m   1962\u001b[0m         \u001b[0margs\u001b[0m\u001b[0;34m,\u001b[0m\u001b[0;34m\u001b[0m\u001b[0;34m\u001b[0m\u001b[0m\n",
            "\u001b[0;32m/usr/local/lib/python3.7/dist-packages/tensorflow/python/eager/function.py\u001b[0m in \u001b[0;36mcall\u001b[0;34m(self, ctx, args, cancellation_manager)\u001b[0m\n\u001b[1;32m    601\u001b[0m               \u001b[0minputs\u001b[0m\u001b[0;34m=\u001b[0m\u001b[0margs\u001b[0m\u001b[0;34m,\u001b[0m\u001b[0;34m\u001b[0m\u001b[0;34m\u001b[0m\u001b[0m\n\u001b[1;32m    602\u001b[0m               \u001b[0mattrs\u001b[0m\u001b[0;34m=\u001b[0m\u001b[0mattrs\u001b[0m\u001b[0;34m,\u001b[0m\u001b[0;34m\u001b[0m\u001b[0;34m\u001b[0m\u001b[0m\n\u001b[0;32m--> 603\u001b[0;31m               ctx=ctx)\n\u001b[0m\u001b[1;32m    604\u001b[0m         \u001b[0;32melse\u001b[0m\u001b[0;34m:\u001b[0m\u001b[0;34m\u001b[0m\u001b[0;34m\u001b[0m\u001b[0m\n\u001b[1;32m    605\u001b[0m           outputs = execute.execute_with_cancellation(\n",
            "\u001b[0;32m/usr/local/lib/python3.7/dist-packages/tensorflow/python/eager/execute.py\u001b[0m in \u001b[0;36mquick_execute\u001b[0;34m(op_name, num_outputs, inputs, attrs, ctx, name)\u001b[0m\n\u001b[1;32m     57\u001b[0m     \u001b[0mctx\u001b[0m\u001b[0;34m.\u001b[0m\u001b[0mensure_initialized\u001b[0m\u001b[0;34m(\u001b[0m\u001b[0;34m)\u001b[0m\u001b[0;34m\u001b[0m\u001b[0;34m\u001b[0m\u001b[0m\n\u001b[1;32m     58\u001b[0m     tensors = pywrap_tfe.TFE_Py_Execute(ctx._handle, device_name, op_name,\n\u001b[0;32m---> 59\u001b[0;31m                                         inputs, attrs, num_outputs)\n\u001b[0m\u001b[1;32m     60\u001b[0m   \u001b[0;32mexcept\u001b[0m \u001b[0mcore\u001b[0m\u001b[0;34m.\u001b[0m\u001b[0m_NotOkStatusException\u001b[0m \u001b[0;32mas\u001b[0m \u001b[0me\u001b[0m\u001b[0;34m:\u001b[0m\u001b[0;34m\u001b[0m\u001b[0;34m\u001b[0m\u001b[0m\n\u001b[1;32m     61\u001b[0m     \u001b[0;32mif\u001b[0m \u001b[0mname\u001b[0m \u001b[0;32mis\u001b[0m \u001b[0;32mnot\u001b[0m \u001b[0;32mNone\u001b[0m\u001b[0;34m:\u001b[0m\u001b[0;34m\u001b[0m\u001b[0;34m\u001b[0m\u001b[0m\n",
            "\u001b[0;31mKeyboardInterrupt\u001b[0m: "
          ]
        }
      ]
    },
    {
      "cell_type": "code",
      "metadata": {
        "id": "ofmPKIfKW9Na",
        "colab": {
          "base_uri": "https://localhost:8080/"
        },
        "outputId": "1f3d9000-5c77-499d-e587-ddf0b62b0c4f"
      },
      "source": [
        "# Now, we'd like to see how the layers' sizes affect the performance\n",
        "\n",
        "# First, we decrease the sizes\n",
        "for dataset in ['fashion']:\n",
        "  dec_size_net = ReferenceMLP(flatten=(dataset=='fashion'),\n",
        "                              hidden_layers_sizes=[100, 50])\n",
        "  dec_size_net.compile()\n",
        "  architecture_dict[\"decreased layer size network \" + dataset] = dec_size_net.fit_evaluate(dataset)\n",
        "\n",
        "# And then we increase it\n",
        "for dataset in ['mnist', 'fashion']:\n",
        "  inc_size_net = ReferenceMLP(flatten=(dataset=='fashion'),\n",
        "                              hidden_layers_sizes=[500, 200])\n",
        "  inc_size_net.compile()\n",
        "  architecture_dict[\"increased layer size network \" + dataset] = inc_size_net.fit_evaluate(dataset)"
      ],
      "execution_count": null,
      "outputs": [
        {
          "output_type": "stream",
          "name": "stdout",
          "text": [
            "1719/1719 [==============================] - 7s 4ms/step - loss: 0.7750 - accuracy: 0.7451 - val_loss: 0.5404 - val_accuracy: 0.8190\n",
            "313/313 [==============================] - 1s 3ms/step - loss: 0.5753 - accuracy: 0.8025\n",
            "1719/1719 [==============================] - 8s 4ms/step - loss: 0.5862 - accuracy: 0.8503 - val_loss: 0.3158 - val_accuracy: 0.9112\n",
            "313/313 [==============================] - 1s 3ms/step - loss: 0.3216 - accuracy: 0.9053\n",
            "1719/1719 [==============================] - 7s 4ms/step - loss: 0.6942 - accuracy: 0.7725 - val_loss: 0.5109 - val_accuracy: 0.8308\n",
            "313/313 [==============================] - 1s 3ms/step - loss: 0.5487 - accuracy: 0.8093\n"
          ]
        }
      ]
    },
    {
      "cell_type": "code",
      "metadata": {
        "id": "qTe36LWzZhdd",
        "colab": {
          "base_uri": "https://localhost:8080/"
        },
        "outputId": "f3d1aa85-8998-4eb6-88a9-22461819d659"
      },
      "source": [
        "# Next, we're going to deactivate the hidden layers one at a time to see what happens\n",
        "\n",
        "# First, we deactivate the first layer\n",
        "for dataset in ['mnist', 'fashion']:\n",
        "  cut_first_net = ReferenceMLP(flatten=(dataset=='fashion'), \n",
        "                              hidden_layers_number=1,\n",
        "                              hidden_layers_sizes=[300])\n",
        "  cut_first_net.compile()\n",
        "  architecture_dict[\"cut first layer network \" + dataset] = cut_first_net.fit_evaluate(dataset)\n",
        "\n",
        "# And then we increase it\n",
        "for dataset in ['mnist', 'fashion']:\n",
        "  cut_sec_net = ReferenceMLP(flatten=(dataset=='fashion'), \n",
        "                              hidden_layers_number=1,\n",
        "                              hidden_layers_sizes=[100])\n",
        "  cut_sec_net.compile()\n",
        "  architecture_dict[\"cut second layer network \" + dataset] = cut_sec_net.fit_evaluate(dataset)"
      ],
      "execution_count": null,
      "outputs": [
        {
          "output_type": "stream",
          "name": "stdout",
          "text": [
            "1719/1719 [==============================] - 7s 4ms/step - loss: 0.6530 - accuracy: 0.8385 - val_loss: 0.3611 - val_accuracy: 0.9032\n",
            "313/313 [==============================] - 1s 3ms/step - loss: 0.3609 - accuracy: 0.9032\n",
            "1719/1719 [==============================] - 7s 4ms/step - loss: 0.7297 - accuracy: 0.7673 - val_loss: 0.5329 - val_accuracy: 0.8284\n",
            "313/313 [==============================] - 1s 3ms/step - loss: 0.5688 - accuracy: 0.8080\n",
            "1719/1719 [==============================] - 7s 4ms/step - loss: 0.6943 - accuracy: 0.8281 - val_loss: 0.3782 - val_accuracy: 0.8962\n",
            "313/313 [==============================] - 1s 3ms/step - loss: 0.3715 - accuracy: 0.9016\n",
            "1719/1719 [==============================] - 7s 4ms/step - loss: 0.7710 - accuracy: 0.7492 - val_loss: 0.5815 - val_accuracy: 0.8012\n",
            "313/313 [==============================] - 1s 3ms/step - loss: 0.6134 - accuracy: 0.7835\n"
          ]
        }
      ]
    },
    {
      "cell_type": "code",
      "metadata": {
        "id": "PZymGcOoagww",
        "colab": {
          "base_uri": "https://localhost:8080/"
        },
        "outputId": "d1cd2ee7-a585-450e-9f09-b714903ad786"
      },
      "source": [
        "# Finally, the last experiment involves adding a layer in various positions\n",
        "\n",
        "# First, add a layer in the begining\n",
        "for dataset in ['mnist', 'fashion']:\n",
        "  add_first_net = ReferenceMLP(flatten=(dataset=='fashion'), \n",
        "                              hidden_layers_number=3,\n",
        "                              hidden_layers_sizes=[600, 300, 100])\n",
        "  add_first_net.compile()\n",
        "  architecture_dict[\"add extra first layer network \" + dataset] = add_first_net.fit_evaluate(dataset)\n",
        "\n",
        "# Add a layer at the end\n",
        "for dataset in ['mnist', 'fashion']:\n",
        "  add_last_net = ReferenceMLP(flatten=(dataset=='fashion'), \n",
        "                              hidden_layers_number=3,\n",
        "                              hidden_layers_sizes=[300, 100, 50])\n",
        "  add_last_net.compile()\n",
        "  architecture_dict[\"add extra last layer network \" + dataset] = add_last_net.fit_evaluate(dataset)\n",
        "\n",
        "# Add a layer inbetween the existing ones\n",
        "for dataset in ['mnist', 'fashion']:\n",
        "  add_bet_net = ReferenceMLP(flatten=(dataset=='fashion'), \n",
        "                              hidden_layers_number=3,\n",
        "                              hidden_layers_sizes=[300, 200, 100])\n",
        "  add_bet_net.compile()\n",
        "  architecture_dict[\"add extra between layer network \" + dataset] = add_bet_net.fit_evaluate(dataset)\n",
        "\n",
        "# Finally, add them all at one time, leading to a 5 hidden layer network\n",
        "for dataset in ['mnist', 'fashion']:\n",
        "  add_all_net = ReferenceMLP(flatten=(dataset=='fashion'), \n",
        "                              hidden_layers_number=5,\n",
        "                              hidden_layers_sizes=[600, 300, 200, 100, 50])\n",
        "  add_all_net.compile()\n",
        "  architecture_dict[\"add three extra layers network \" + dataset] = add_all_net.fit_evaluate(dataset)\n",
        "\n",
        "# And add all layers with Dropout layers inbetween\n",
        "for dataset in ['mnist', 'fashion']:\n",
        "  add_all_net = ReferenceMLP(flatten=(dataset=='fashion'), dropout_rate=0.5,\n",
        "                              hidden_layers_number=10, \n",
        "                              hidden_layers_dropout=[1, 3, 5, 7, 9],\n",
        "                              hidden_layers_sizes=[600, None, 300, None, 200, None, 100, None, 50])\n",
        "  add_all_net.compile()\n",
        "  architecture_dict[\"add three extra layers with dropout network \" + dataset] = add_all_net.fit_evaluate(dataset)"
      ],
      "execution_count": null,
      "outputs": [
        {
          "output_type": "stream",
          "name": "stdout",
          "text": [
            "1719/1719 [==============================] - 8s 4ms/step - loss: 0.5479 - accuracy: 0.8552 - val_loss: 0.2738 - val_accuracy: 0.9240\n",
            "313/313 [==============================] - 1s 3ms/step - loss: 0.2774 - accuracy: 0.9220\n",
            "1719/1719 [==============================] - 8s 4ms/step - loss: 0.6928 - accuracy: 0.7697 - val_loss: 0.4779 - val_accuracy: 0.8362\n",
            "313/313 [==============================] - 1s 3ms/step - loss: 0.5108 - accuracy: 0.8165\n",
            "1719/1719 [==============================] - 8s 4ms/step - loss: 0.6108 - accuracy: 0.8414 - val_loss: 0.2843 - val_accuracy: 0.9218\n",
            "313/313 [==============================] - 1s 3ms/step - loss: 0.2926 - accuracy: 0.9188\n",
            "1719/1719 [==============================] - 7s 4ms/step - loss: 0.7466 - accuracy: 0.7493 - val_loss: 0.4904 - val_accuracy: 0.8358\n",
            "313/313 [==============================] - 1s 3ms/step - loss: 0.5264 - accuracy: 0.8176\n",
            "1719/1719 [==============================] - 8s 4ms/step - loss: 0.6303 - accuracy: 0.8308 - val_loss: 0.2919 - val_accuracy: 0.9186\n",
            "313/313 [==============================] - 1s 3ms/step - loss: 0.2984 - accuracy: 0.9137\n",
            "1719/1719 [==============================] - 7s 4ms/step - loss: 0.7339 - accuracy: 0.7576 - val_loss: 0.5253 - val_accuracy: 0.8176\n",
            "313/313 [==============================] - 1s 3ms/step - loss: 0.5579 - accuracy: 0.8006\n",
            "1719/1719 [==============================] - 9s 5ms/step - loss: 0.6693 - accuracy: 0.8072 - val_loss: 0.2460 - val_accuracy: 0.9304\n",
            "313/313 [==============================] - 1s 4ms/step - loss: 0.2513 - accuracy: 0.9274\n",
            "1719/1719 [==============================] - 8s 5ms/step - loss: 0.7503 - accuracy: 0.7420 - val_loss: 0.5157 - val_accuracy: 0.8150\n",
            "313/313 [==============================] - 1s 4ms/step - loss: 0.5601 - accuracy: 0.7969\n",
            "1719/1719 [==============================] - 9s 5ms/step - loss: 2.0808 - accuracy: 0.2283 - val_loss: 1.4723 - val_accuracy: 0.4588\n",
            "313/313 [==============================] - 1s 4ms/step - loss: 1.4775 - accuracy: 0.4664\n",
            "1719/1719 [==============================] - 9s 5ms/step - loss: 1.8675 - accuracy: 0.2772 - val_loss: 1.0267 - val_accuracy: 0.6020\n",
            "313/313 [==============================] - 1s 4ms/step - loss: 1.0487 - accuracy: 0.5970\n"
          ]
        }
      ]
    },
    {
      "cell_type": "markdown",
      "metadata": {
        "id": "aCniHvGeeS9R"
      },
      "source": [
        "The last thing to do is look at the results we obtained."
      ]
    },
    {
      "cell_type": "code",
      "metadata": {
        "id": "KbJ42Z1Zebp2",
        "colab": {
          "base_uri": "https://localhost:8080/"
        },
        "outputId": "5cfe8c35-ea59-4d38-cd5e-a43802499394"
      },
      "source": [
        "print(architecture_dict)"
      ],
      "execution_count": null,
      "outputs": [
        {
          "output_type": "stream",
          "name": "stdout",
          "text": [
            "{'add extra first layer network mnist': [0.2773894667625427, 0.921999990940094], 'add extra first layer network fashion': [0.5108171701431274, 0.8165000081062317], 'add extra last layer network mnist': [0.29255589842796326, 0.9187999963760376], 'add extra last layer network fashion': [0.5264280438423157, 0.8176000118255615], 'add extra between layer network mnist': [0.2983740270137787, 0.9136999845504761], 'add extra between layer network fashion': [0.5579094290733337, 0.800599992275238], 'add three extra layers network mnist': [0.2512660324573517, 0.9273999929428101], 'add three extra layers network fashion': [0.5601330399513245, 0.7968999743461609], 'add three extra layers with dropout network mnist': [1.477492332458496, 0.46639999747276306], 'add three extra layers with dropout network fashion': [1.0486695766448975, 0.597000002861023]}\n"
          ]
        }
      ]
    },
    {
      "cell_type": "markdown",
      "metadata": {
        "id": "d0MAtcgfVNBs"
      },
      "source": [
        "#CNNs"
      ]
    },
    {
      "cell_type": "code",
      "metadata": {
        "colab": {
          "base_uri": "https://localhost:8080/"
        },
        "id": "DZsBRVLM0LaW",
        "outputId": "c0af2022-86b0-40ea-e282-182a563edc85"
      },
      "source": [
        "#defining and preprocessing mnist and fashion mnist data here\n",
        "\n",
        "#MNIST\n",
        "mnist = keras.datasets.mnist\n",
        "(mnist_X_train_full, mnist_y_train_full), (mnist_X_test, mnist_y_test) = mnist.load_data()\n",
        "mnist_X_valid, mnist_X_train = mnist_X_train_full[:5000] / 255.0, mnist_X_train_full[5000:] / 255.0\n",
        "mnist_y_valid, mnist_y_train = mnist_y_train_full[:5000], mnist_y_train_full[5000:]\n",
        "\n",
        "#adding single channel of grayscale to CNN input\n",
        "mnist_X_train = mnist_X_train.reshape((mnist_X_train.shape[0], 28, 28, 1))\n",
        "mnist_X_test = mnist_X_test.reshape((mnist_X_test.shape[0], 28, 28, 1))\n",
        "mnist_X_valid = mnist_X_valid.reshape((mnist_X_valid.shape[0], 28, 28, 1))\n",
        "\n",
        "#since the taget value is an integer, using one hot encode target values as binary vactor with 1 in target index and 0 elsewhere\n",
        "#target vectors of size 10 for the 10 categories\n",
        "mnist_y_train = np_utils.to_categorical(mnist_y_train)\n",
        "mnist_y_test = np_utils.to_categorical(mnist_y_test)\n",
        "mnist_y_valid = np_utils.to_categorical(mnist_y_valid)\n",
        "\n",
        "#FASHION MNIST\n",
        "\n",
        "fashion_mnist = keras.datasets.fashion_mnist\n",
        "(fashion_mnist_X_train_full, fashion_mnist_y_train_full), (fashion_mnist_X_test, fashion_mnist_y_test) = fashion_mnist.load_data()\n",
        "fashion_mnist_X_valid, fashion_mnist_X_train = fashion_mnist_X_train_full[:5000] / 255.0, fashion_mnist_X_train_full[5000:] / 255.0\n",
        "fashion_mnist_y_valid, fashion_mnist_y_train = fashion_mnist_y_train_full[:5000], fashion_mnist_y_train_full[5000:]\n",
        "\n",
        "#adding single channel of grayscale to CNN input\n",
        "fashion_mnist_X_train = fashion_mnist_X_train.reshape((fashion_mnist_X_train.shape[0], 28, 28, 1))\n",
        "fashion_mnist_X_test = fashion_mnist_X_test.reshape((fashion_mnist_X_test.shape[0], 28, 28, 1))\n",
        "fashion_mnist_X_valid = fashion_mnist_X_valid.reshape((fashion_mnist_X_valid.shape[0], 28, 28, 1))\n",
        " \n",
        "#since the taget value is an integer, using one hot encode target values as binary vactor with 1 in target index and 0 elsewhere\n",
        "#target vectors of size 10 for the 10 categories\n",
        "fashion_mnist_y_train = np_utils.to_categorical(fashion_mnist_y_train)\n",
        "fashion_mnist_y_test = np_utils.to_categorical(fashion_mnist_y_test)\n",
        "fashion_mnist_y_valid = np_utils.to_categorical(fashion_mnist_y_valid)"
      ],
      "execution_count": null,
      "outputs": [
        {
          "output_type": "stream",
          "name": "stdout",
          "text": [
            "Downloading data from https://storage.googleapis.com/tensorflow/tf-keras-datasets/mnist.npz\n",
            "11493376/11490434 [==============================] - 0s 0us/step\n",
            "11501568/11490434 [==============================] - 0s 0us/step\n",
            "Downloading data from https://storage.googleapis.com/tensorflow/tf-keras-datasets/train-labels-idx1-ubyte.gz\n",
            "32768/29515 [=================================] - 0s 0us/step\n",
            "40960/29515 [=========================================] - 0s 0us/step\n",
            "Downloading data from https://storage.googleapis.com/tensorflow/tf-keras-datasets/train-images-idx3-ubyte.gz\n",
            "26427392/26421880 [==============================] - 0s 0us/step\n",
            "26435584/26421880 [==============================] - 0s 0us/step\n",
            "Downloading data from https://storage.googleapis.com/tensorflow/tf-keras-datasets/t10k-labels-idx1-ubyte.gz\n",
            "16384/5148 [===============================================================================================] - 0s 0us/step\n",
            "Downloading data from https://storage.googleapis.com/tensorflow/tf-keras-datasets/t10k-images-idx3-ubyte.gz\n",
            "4423680/4422102 [==============================] - 0s 0us/step\n",
            "4431872/4422102 [==============================] - 0s 0us/step\n"
          ]
        }
      ]
    },
    {
      "cell_type": "markdown",
      "metadata": {
        "id": "zJS7gauF1JTP"
      },
      "source": [
        "<h3> Tuning Hyperparameters that do not change the network</h3>"
      ]
    },
    {
      "cell_type": "code",
      "metadata": {
        "id": "y34ArJs_0fFR"
      },
      "source": [
        "from functools import partial\n",
        "def define_model(optimizer='adam'):\n",
        "  DefaultConv2D = partial(keras.layers.Conv2D,\n",
        "  kernel_size=3, activation='relu', padding=\"SAME\")\n",
        "  model = keras.models.Sequential([\n",
        "  DefaultConv2D(filters=64, kernel_size=7, input_shape=[28, 28, 1]),\n",
        "  keras.layers.MaxPooling2D(pool_size=2),\n",
        "  DefaultConv2D(filters=128),\n",
        "  DefaultConv2D(filters=128),\n",
        "  keras.layers.MaxPooling2D(pool_size=2),\n",
        "  DefaultConv2D(filters=256),\n",
        "  DefaultConv2D(filters=256),\n",
        "  keras.layers.MaxPooling2D(pool_size=2),\n",
        "  keras.layers.Flatten(),\n",
        "  keras.layers.Dense(units=128, activation='relu'),\n",
        "  keras.layers.Dropout(0.5),\n",
        "  keras.layers.Dense(units=64, activation='relu'),\n",
        "  keras.layers.Dropout(0.5),\n",
        "  keras.layers.Dense(units=10, activation='softmax'),\n",
        "  ])\n",
        "  model.compile(loss='categorical_crossentropy', optimizer=optimizer, metrics=['accuracy'])\n",
        "  return model"
      ],
      "execution_count": null,
      "outputs": []
    },
    {
      "cell_type": "code",
      "metadata": {
        "id": "DD7eRnhv0sIV"
      },
      "source": [
        "sgd1=keras.optimizers.SGD(learning_rate=0.001)\n",
        "sgd2=keras.optimizers.SGD(learning_rate=0.01)\n",
        "sgd3=keras.optimizers.SGD(learning_rate=0.1)\n",
        "adagrad1=keras.optimizers.Adagrad(learning_rate=0.001)\n",
        "adagrad2=keras.optimizers.Adagrad(learning_rate=0.01)\n",
        "adagrad3=keras.optimizers.Adagrad(learning_rate=0.1)\n",
        "adam1=keras.optimizers.Adam(learning_rate=0.001)\n",
        "adam2=keras.optimizers.Adam(learning_rate=0.01)\n",
        "adam3=keras.optimizers.Adam(learning_rate=0.1)\n",
        "rmsprop1=keras.optimizers.RMSprop(learning_rate=0.001)\n",
        "rmsprop2=keras.optimizers.RMSprop(learning_rate=0.001)\n",
        "rmsprop3=keras.optimizers.RMSprop(learning_rate=0.001)\n",
        "optimizer=[sgd1, sgd2, sgd3, adagrad1, adagrad2, adagrad3, adam1, adam2, adam3, rmsprop1, rmsprop2, rmsprop3]"
      ],
      "execution_count": null,
      "outputs": []
    },
    {
      "cell_type": "code",
      "metadata": {
        "id": "igGgnN6j0wsy"
      },
      "source": [
        "optimizer_dict={}\n",
        "for dataset in ['mnist', 'fashion']:\n",
        " for i in optimizer:\n",
        "  model=define_model(i)\n",
        "  if(dataset=='mnist'):\n",
        "    model.fit(mnist_X_train, mnist_y_train, validation_data=(mnist_X_valid, mnist_y_valid))\n",
        "    score, acc = model.evaluate(mnist_X_test, mnist_y_test, verbose=0)\n",
        "  else:\n",
        "    model.fit(fashion_mnist_X_train, fashion_mnist_y_train, validation_data=(fashion_mnist_X_valid,fashion_mnist_y_valid))\n",
        "    score, acc = model.evaluate(fashion_mnist_X_test, fashion_mnist_y_test, verbose=0)\n",
        "  print('Val accuracy:', acc)\n",
        "  optimizer_dict[(dataset,i)]=acc\n",
        "\n",
        "print(optimizer_dict)\n",
        "#MNIST - 98.86 accuracy --> RMSprop LR=0.01\n",
        "#Fashion MNIST - 85.57 --> RMSprop LR=0.1\n",
        "\n",
        "batch_size=[64,128,256]\n",
        "epochs=[5,10]\n",
        "epochs_bs_dict={}\n",
        "for dataset in ['mnist', 'fashion']:\n",
        " for i in batch_size:\n",
        "   for j in epochs:\n",
        "    if(dataset=='mnist'):\n",
        "      model=define_model(rmsprop2)\n",
        "      model.fit(mnist_X_train, mnist_y_train, epochs=j, batch_size=i, validation_data=(mnist_X_valid, mnist_y_valid))\n",
        "      score, acc = model.evaluate(mnist_X_test, mnist_y_test, verbose=0)\n",
        "    else:\n",
        "      model=define_model(rmsprop3)\n",
        "      model.fit(fashion_mnist_X_train, fashion_mnist_y_train, epochs=j, batch_size=i, validation_data=(fashion_mnist_X_valid,fashion_mnist_y_valid))\n",
        "      score, acc = model.evaluate(fashion_mnist_X_test, fashion_mnist_y_test, verbose=0)\n",
        "    print('Val accuracy:', acc)\n",
        "    optimizer_dict[(dataset,\"bs \"+str(i)+\" ep \"+str(j))]=acc\n",
        "\n",
        "print(optimizer_dict)\n",
        "#MNIST - 99.39 --> bs 256 ep 10\n",
        "#fashion - 90.11 --> bs 256 ep 10"
      ],
      "execution_count": null,
      "outputs": []
    },
    {
      "cell_type": "code",
      "metadata": {
        "id": "WEbWdkKt09r_"
      },
      "source": [
        "from functools import partial\n",
        "def define_model2(optimizer='adam', kernel_initializer='glorot_uniform', bias_initializer='zeros'):\n",
        "  DefaultConv2D = partial(keras.layers.Conv2D,\n",
        "  kernel_size=3, activation='relu', padding=\"SAME\", kernel_initializer=kernel_initializer, bias_initializer=bias_initializer)\n",
        "  model = keras.models.Sequential([\n",
        "  DefaultConv2D(filters=64, kernel_size=7, input_shape=[28, 28, 1]),\n",
        "  keras.layers.MaxPooling2D(pool_size=2),\n",
        "  DefaultConv2D(filters=128),\n",
        "  DefaultConv2D(filters=128),\n",
        "  keras.layers.MaxPooling2D(pool_size=2),\n",
        "  DefaultConv2D(filters=256),\n",
        "  DefaultConv2D(filters=256),\n",
        "  keras.layers.MaxPooling2D(pool_size=2),\n",
        "  keras.layers.Flatten(),\n",
        "  keras.layers.Dense(units=128, activation='relu'),\n",
        "  keras.layers.Dropout(0.5),\n",
        "  keras.layers.Dense(units=64, activation='relu'),\n",
        "  keras.layers.Dropout(0.5),\n",
        "  keras.layers.Dense(units=10, activation='softmax'),\n",
        "  ])\n",
        "  model.compile(loss='categorical_crossentropy', optimizer=optimizer, metrics=['accuracy'])\n",
        "  return model"
      ],
      "execution_count": null,
      "outputs": []
    },
    {
      "cell_type": "code",
      "metadata": {
        "id": "oFhy6gL31AHY"
      },
      "source": [
        "w1_randomNormal=tf.keras.initializers.RandomNormal(mean=0., stddev=1.)\n",
        "w2_zeros=tf.keras.initializers.Zeros()\n",
        "w3_glorotUniform=tf.keras.initializers.GlorotUniform()\n",
        "weights=[w1_randomNormal,w2_zeros,w3_glorotUniform]\n",
        "epochs_bs_dict={}\n",
        "for dataset in ['mnist', 'fashion']:\n",
        " for i in weights:\n",
        "   for j in weights:\n",
        "    if(dataset=='mnist'):\n",
        "      model=define_model2(rmsprop2, kernel_initializer=i, bias_initializer=j)\n",
        "      model.fit(mnist_X_train, mnist_y_train, epochs=10, batch_size=256, validation_data=(mnist_X_valid, mnist_y_valid))\n",
        "      score, acc = model.evaluate(mnist_X_test, mnist_y_test, verbose=0)\n",
        "    else:\n",
        "      model=define_model2(rmsprop3, kernel_initializer=i, bias_initializer=j)\n",
        "      model.fit(fashion_mnist_X_train, fashion_mnist_y_train, epochs=10, batch_size=256, validation_data=(fashion_mnist_X_valid,fashion_mnist_y_valid))\n",
        "      score, acc = model.evaluate(fashion_mnist_X_test, fashion_mnist_y_test, verbose=0)\n",
        "    print('Val accuracy:', acc)\n",
        "    optimizer_dict[(dataset,\"kernel \"+str(i)+\" bias \"+str(j))]=acc\n",
        "\n",
        "print(optimizer_dict)"
      ],
      "execution_count": null,
      "outputs": []
    },
    {
      "cell_type": "markdown",
      "metadata": {
        "id": "RAQN3u8I1YPt"
      },
      "source": [
        "<h3> Tuning Parameters that change the network </h3>"
      ]
    },
    {
      "cell_type": "code",
      "metadata": {
        "id": "6cb87i0t1WP-"
      },
      "source": [
        "from functools import partial\n",
        "def define_model3(optimizer='adam', default_kernel_size=3,\n",
        "                  activation='relu', padding='SAME',filter_one=64, filter_two=128, filter_three=256, dense_units_one=128, \n",
        "                  dense_units_two=64, dropout_rate=0.5):\n",
        "  DefaultConv2D = partial(keras.layers.Conv2D,\n",
        "  kernel_size=default_kernel_size, activation=activation, padding=\"SAME\")\n",
        "  model = keras.models.Sequential([\n",
        "  DefaultConv2D(filters=filter_one, kernel_size=7, input_shape=[28, 28, 1]),\n",
        "  keras.layers.MaxPooling2D(pool_size=2),\n",
        "  DefaultConv2D(filters=filter_two),\n",
        "  DefaultConv2D(filters=filter_two),\n",
        "  keras.layers.MaxPooling2D(pool_size=2),\n",
        "  DefaultConv2D(filters=filter_three),\n",
        "  DefaultConv2D(filters=filter_three),\n",
        "  keras.layers.MaxPooling2D(pool_size=2),\n",
        "  keras.layers.Flatten(),\n",
        "  keras.layers.Dense(units=dense_units_one, activation=activation),\n",
        "  keras.layers.Dropout(dropout_rate),\n",
        "  keras.layers.Dense(units=dense_units_two, activation=activation),\n",
        "  keras.layers.Dropout(dropout_rate),\n",
        "  keras.layers.Dense(units=10, activation='softmax'),\n",
        "  ])\n",
        "  model.compile(loss='categorical_crossentropy', optimizer=optimizer, metrics=['accuracy']) \n",
        "  return model"
      ],
      "execution_count": null,
      "outputs": []
    },
    {
      "cell_type": "code",
      "metadata": {
        "id": "f-bF2xjH1gpO"
      },
      "source": [
        "#changing activation function \n",
        "activation_dictionary={}\n",
        "for dataset in ['mnist', 'fashion']:\n",
        "  for i in ['tanh','selu']:\n",
        "     if(dataset=='mnist'):\n",
        "      model=define_model3(optimizer=rmsprop2, activation=i)\n",
        "      model.fit(mnist_X_train, mnist_y_train, epochs=10, batch_size=256, validation_data=(mnist_X_valid, mnist_y_valid))\n",
        "      score, acc = model.evaluate(mnist_X_test, mnist_y_test, verbose=0)\n",
        "     else:\n",
        "      model=define_model3(optimizer=rmsprop3, activation=i)\n",
        "      model.fit(fashion_mnist_X_train, fashion_mnist_y_train, epochs=10, batch_size=256, validation_data=(fashion_mnist_X_valid,fashion_mnist_y_valid))\n",
        "      score, acc = model.evaluate(fashion_mnist_X_test, fashion_mnist_y_test, verbose=0)\n",
        "     print('Val accuracy:', acc)\n",
        "     activation_dictionary[(dataset,i)]=acc\n",
        "\n",
        "print(activation_dictionary)\n",
        "\n",
        "#changing filter sizes\n",
        "#reducing\n",
        "filter_decrease_dictionary={}\n",
        "for dataset in ['mnist', 'fashion']:\n",
        "     if(dataset=='mnist'):\n",
        "      model=define_model3(optimizer=rmsprop2, filter_one=16, filter_two=64, filter_three=128, dense_units_one=64, dense_units_two=16)\n",
        "      model.fit(mnist_X_train, mnist_y_train, epochs=10, batch_size=256, validation_data=(mnist_X_valid, mnist_y_valid))\n",
        "      score, acc = model.evaluate(mnist_X_test, mnist_y_test, verbose=0)\n",
        "     else:\n",
        "      model=define_model3(optimizer=rmsprop3, filter_one=16, filter_two=64, filter_three=128, dense_units_one=64, dense_units_two=16)\n",
        "      model.fit(fashion_mnist_X_train, fashion_mnist_y_train, epochs=10, batch_size=256, validation_data=(fashion_mnist_X_valid,fashion_mnist_y_valid))\n",
        "      score, acc = model.evaluate(fashion_mnist_X_test, fashion_mnist_y_test, verbose=0)\n",
        "     print('Val accuracy:', acc)\n",
        "     filter_decrease_dictionary[(dataset,i)]=acc\n",
        "\n",
        "#increasing\n",
        "filter_increase_dictionary={}\n",
        "for dataset in ['mnist', 'fashion']:\n",
        "     if(dataset=='mnist'):\n",
        "      model=define_model3(optimizer=rmsprop2, filter_one=128, filter_two=256, filter_three=512, dense_units_one=256, dense_units_two=128)\n",
        "      model.fit(mnist_X_train, mnist_y_train, epochs=10, batch_size=256, validation_data=(mnist_X_valid, mnist_y_valid))\n",
        "      score, acc = model.evaluate(mnist_X_test, mnist_y_test, verbose=0)\n",
        "     else:\n",
        "      model=define_model3(optimizer=rmsprop3, filter_one=128, filter_two=256, filter_three=512, dense_units_one=256, dense_units_two=128)\n",
        "      model.fit(fashion_mnist_X_train, fashion_mnist_y_train, epochs=10, batch_size=256, validation_data=(fashion_mnist_X_valid,fashion_mnist_y_valid))\n",
        "      score, acc = model.evaluate(fashion_mnist_X_test, fashion_mnist_y_test, verbose=0)\n",
        "     print('Val accuracy:', acc)\n",
        "     filter_increase_dictionary[(dataset,i)]=acc\n",
        "\n",
        "print(filter_decrease_dictionary)\n",
        "print(filter_increase_dictionary)\n",
        "\n",
        "\n",
        "dropout_rate_dictionary={}\n",
        "for dataset in ['mnist', 'fashion']:\n",
        "     if(dataset=='mnist'):\n",
        "      model=define_model3(optimizer=rmsprop2, dropout_rate=0.4)\n",
        "      model.fit(mnist_X_train, mnist_y_train, epochs=10, batch_size=256, validation_data=(mnist_X_valid, mnist_y_valid))\n",
        "      score, acc = model.evaluate(mnist_X_test, mnist_y_test, verbose=0)\n",
        "     else:\n",
        "      model=define_model3(optimizer=rmsprop3, dropout_rate=0.4)\n",
        "      model.fit(fashion_mnist_X_train, fashion_mnist_y_train, epochs=10, batch_size=256, validation_data=(fashion_mnist_X_valid,fashion_mnist_y_valid))\n",
        "      score, acc = model.evaluate(fashion_mnist_X_test, fashion_mnist_y_test, verbose=0)\n",
        "     print('Val accuracy:', acc)\n",
        "     dropout_rate_dictionary[(dataset)]=acc\n",
        "\n",
        "print(dropout_rate_dictionary)\n"
      ],
      "execution_count": null,
      "outputs": []
    },
    {
      "cell_type": "code",
      "metadata": {
        "id": "2V1KuVn42Sv9"
      },
      "source": [
        "from functools import partial\n",
        "\n",
        "pool_dictionary={}\n",
        "\n",
        "DefaultConv2D = partial(keras.layers.Conv2D,\n",
        "  kernel_size=3, activation='relu', padding=\"SAME\")\n",
        "model_pool = keras.models.Sequential([\n",
        "  DefaultConv2D(filters=64, kernel_size=7, input_shape=[28, 28, 1]),\n",
        "  keras.layers.AveragePooling2D(pool_size=2),\n",
        "  DefaultConv2D(filters=128),\n",
        "  DefaultConv2D(filters=128),\n",
        "  keras.layers.AveragePooling2D(pool_size=2),\n",
        "  DefaultConv2D(filters=256),\n",
        "  DefaultConv2D(filters=256),\n",
        "  keras.layers.AveragePooling2D(pool_size=2),\n",
        "  keras.layers.Flatten(),\n",
        "  keras.layers.Dense(units=128, activation='relu'),\n",
        "  keras.layers.Dropout(0.5),\n",
        "  keras.layers.Dense(units=64, activation='relu'),\n",
        "  keras.layers.Dropout(0.5),\n",
        "  keras.layers.Dense(units=10, activation='softmax'),\n",
        "  ])\n",
        "model_pool.compile(loss='categorical_crossentropy', optimizer=rmsprop2, metrics=['accuracy'])\n",
        "model_pool.fit(mnist_X_train, mnist_y_train, epochs=10, batch_size=256, validation_data=(mnist_X_valid, mnist_y_valid))\n",
        "score, acc = model_pool.evaluate(mnist_X_test, mnist_y_test, verbose=0)\n",
        "pool_dictionary['mnist']=acc\n",
        "\n",
        "model_pool.compile(loss='categorical_crossentropy', optimizer=rmsprop3, metrics=['accuracy'])\n",
        "model_pool.fit(fashion_mnist_X_train, fashion_mnist_y_train, epochs=10, batch_size=256, validation_data=(fashion_mnist_X_valid,fashion_mnist_y_valid))\n",
        "score, acc = model_pool.evaluate(fashion_mnist_X_test, fashion_mnist_y_test, verbose=0)\n",
        "pool_dictionary['fashion']=acc\n",
        "\n",
        "print(pool_dictionary)"
      ],
      "execution_count": null,
      "outputs": []
    },
    {
      "cell_type": "code",
      "metadata": {
        "id": "kS0gOAiF200A"
      },
      "source": [
        "layers_reduce_dictionary={}\n",
        "DefaultConv2D = partial(keras.layers.Conv2D,\n",
        "  kernel_size=3, activation='relu', padding=\"SAME\")\n",
        "model_layer_reduce = keras.models.Sequential([\n",
        "  DefaultConv2D(filters=64, kernel_size=7, input_shape=[28, 28, 1]),\n",
        "  keras.layers.MaxPooling2D(pool_size=2),\n",
        "  DefaultConv2D(filters=128),\n",
        "  DefaultConv2D(filters=128),\n",
        "  keras.layers.MaxPooling2D(pool_size=2),\n",
        "  keras.layers.Flatten(),\n",
        "  keras.layers.Dense(units=128, activation='relu'),\n",
        "  keras.layers.Dropout(0.5),\n",
        "  keras.layers.Dense(units=64, activation='relu'),\n",
        "  keras.layers.Dropout(0.5),\n",
        "  keras.layers.Dense(units=10, activation='softmax'),\n",
        "  ])\n",
        "model_layer_reduce.compile(loss='categorical_crossentropy', optimizer=rmsprop2, metrics=['accuracy'])\n",
        "model_layer_reduce.fit(mnist_X_train, mnist_y_train, epochs=10, batch_size=256, validation_data=(mnist_X_valid, mnist_y_valid))\n",
        "score, acc = model_layer_reduce.evaluate(mnist_X_test, mnist_y_test, verbose=0)\n",
        "layers_reduce_dictionary['mnist']=acc\n",
        "\n",
        "model_layer_reduce.compile(loss='categorical_crossentropy', optimizer=rmsprop3, metrics=['accuracy'])\n",
        "model_layer_reduce.fit(fashion_mnist_X_train, fashion_mnist_y_train, epochs=10, batch_size=256, validation_data=(fashion_mnist_X_valid,fashion_mnist_y_valid))\n",
        "score, acc = model_layer_reduce.evaluate(fashion_mnist_X_test, fashion_mnist_y_test, verbose=0)\n",
        "layers_reduce_dictionary['fashion']=acc\n",
        "\n",
        "print(layers_reduce_dictionary)"
      ],
      "execution_count": null,
      "outputs": []
    },
    {
      "cell_type": "code",
      "metadata": {
        "id": "Vz2kpngk27oC"
      },
      "source": [
        "layers_increase_dictionary={}\n",
        "DefaultConv2D = partial(keras.layers.Conv2D,\n",
        "  kernel_size=3, activation='relu', padding=\"SAME\")\n",
        "model_layer_increase = keras.models.Sequential([\n",
        "  DefaultConv2D(filters=64, kernel_size=7, input_shape=[28, 28, 1]),\n",
        "  keras.layers.MaxPooling2D(pool_size=2),\n",
        "  DefaultConv2D(filters=128),\n",
        "  DefaultConv2D(filters=128),\n",
        "  keras.layers.MaxPooling2D(pool_size=2),\n",
        "  DefaultConv2D(filters=256),\n",
        "  DefaultConv2D(filters=256),\n",
        "  keras.layers.MaxPooling2D(pool_size=2),\n",
        "  DefaultConv2D(filters=512),\n",
        "  DefaultConv2D(filters=512),\n",
        "  keras.layers.MaxPooling2D(pool_size=2),\n",
        "  keras.layers.Flatten(),\n",
        "  keras.layers.Dense(units=128, activation='relu'),\n",
        "  keras.layers.Dropout(0.5),\n",
        "  keras.layers.Dense(units=64, activation='relu'),\n",
        "  keras.layers.Dropout(0.5),\n",
        "  keras.layers.Dense(units=10, activation='softmax'),\n",
        "  ])\n",
        "model_layer_increase.compile(loss='categorical_crossentropy', optimizer=rmsprop2, metrics=['accuracy'])\n",
        "model_layer_increase.fit(mnist_X_train, mnist_y_train, epochs=10, batch_size=256, validation_data=(mnist_X_valid, mnist_y_valid))\n",
        "score, acc = model_layer_increase.evaluate(mnist_X_test, mnist_y_test, verbose=0)\n",
        "layers_increase_dictionary['mnist']=acc\n",
        "\n",
        "model_layer_increase.compile(loss='categorical_crossentropy', optimizer=rmsprop3, metrics=['accuracy'])\n",
        "model_layer_increase.fit(fashion_mnist_X_train, fashion_mnist_y_train, epochs=10, batch_size=256, validation_data=(fashion_mnist_X_valid,fashion_mnist_y_valid))\n",
        "score, acc = model_layer_increase.evaluate(fashion_mnist_X_test, fashion_mnist_y_test, verbose=0)\n",
        "layers_increase_dictionary['fashion']=acc\n",
        "\n",
        "print(layers_increase_dictionary)"
      ],
      "execution_count": null,
      "outputs": []
    },
    {
      "cell_type": "markdown",
      "metadata": {
        "id": "CPGP4rpuNOL9"
      },
      "source": [
        "#Task 2: Testing the Impact of Obfuscating Data by Randomly Permuting All Pixels\n",
        "To start with, we're going to apply a simple permutation of the pixel rows in the images in both datasets."
      ]
    },
    {
      "cell_type": "code",
      "metadata": {
        "id": "kyNu6AvuNXqe",
        "colab": {
          "base_uri": "https://localhost:8080/",
          "height": 91
        },
        "outputId": "fa078770-6fe9-4efa-e6b5-145861689b00"
      },
      "source": [
        "import numpy as np\n",
        "\n",
        "# Generating a random state\n",
        "rand = np.random.RandomState()\n",
        "\n",
        "perm_mnist = rand.permutation(X_train_mnist.shape[1])\n",
        "X_train_mnist_perm = X_train_mnist[:, perm_mnist]\n",
        "X_valid_mnist_perm = X_valid_mnist[:, perm_mnist]\n",
        "X_test_mnist_perm = X_test_mnist[:, perm_mnist]\n",
        "\n",
        "perm_fashion = rand.permutation(X_train_fashion.shape[1])\n",
        "X_train_fashion_perm = X_train_fashion[:, perm_fashion]\n",
        "X_valid_fashion_perm = X_valid_fashion[:, perm_fashion]\n",
        "X_test_fashion_perm = X_test_fashion[:, perm_fashion]"
      ],
      "execution_count": null,
      "outputs": [
        {
          "output_type": "execute_result",
          "data": {
            "application/vnd.google.colaboratory.intrinsic+json": {
              "type": "string"
            },
            "text/plain": [
              "'\\ny_train_mnist = y_train_mnist.T\\ny_valid_mnist = y_valid_mnist.T\\ny_test_mnist = y_test_mnist.T\\ny_train_fashion = y_train_fashion.T\\ny_valid_fashion = y_valid_fashion.T\\ny_test_fashion = y_test_fashion.T\\n\\n# Obfuscating MNIST\\nX_train_mnist_perm = obfuscate(X_train_mnist, rand)\\nX_valid_mnist_perm = obfuscate(X_valid_mnist, rand)\\nX_test_mnist_perm = obfuscate(X_test_mnist, rand)\\n\\n# Obfuscating Fashion MNIST\\nX_train_fashion_perm = obfuscate(X_train_fashion, rand)\\nX_valid_fashion_perm = obfuscate(X_valid_fashion, rand)\\nX_test_fashion_perm = obfuscate(X_test_fashion, rand)\\n'"
            ]
          },
          "metadata": {},
          "execution_count": 19
        }
      ]
    },
    {
      "cell_type": "markdown",
      "metadata": {
        "id": "-uEGh-b5NYff"
      },
      "source": [
        "Let's take a look at what a Fashion MNIST sample looks like before and after obfuscation."
      ]
    },
    {
      "cell_type": "code",
      "metadata": {
        "colab": {
          "base_uri": "https://localhost:8080/",
          "height": 216
        },
        "id": "pugasDDVSmBV",
        "outputId": "9f73efb5-f103-4dcf-c308-d43a5954014f"
      },
      "source": [
        "import matplotlib.pyplot as plt\n",
        "%matplotlib inline\n",
        "\n",
        "fig, axes = plt.subplots(1, 2)\n",
        "ax1 = axes[0]\n",
        "ax1.imshow(X_train_fashion[0], cmap='gray')\n",
        "ax1.set_title('Unobfuscated sample')\n",
        "ax2 = axes[1]\n",
        "ax2.imshow(X_train_fashion_perm[0], cmap='gray')\n",
        "ax2.set_title('Obfuscated sample')\n",
        "plt.show()"
      ],
      "execution_count": null,
      "outputs": [
        {
          "output_type": "display_data",
          "data": {
            "image/png": "[encoded data removed]",
            "text/plain": [
              "<Figure size 432x288 with 2 Axes>"
            ]
          },
          "metadata": {
            "needs_background": "light"
          }
        }
      ]
    },
    {
      "cell_type": "markdown",
      "metadata": {
        "id": "5HkVjxQWV351"
      },
      "source": [
        "#MLPs\n",
        "Now, we can get started with the MLPs. We will combine the best observed hyperparamater values and architectures from Task 1 to obtain the 'ideal' network for each dataset. For MNIST we will use: no initializer, SELU activation, no regularization, NAdam optimization, 10 steps per execution, and an additional layer between the existing layers in the reference network. For Fashion MNIST: random normal initialization, SELU activation, L2 regularization, NAdam optimization, 20 steps per execution, and 3 additional layers."
      ]
    },
    {
      "cell_type": "code",
      "metadata": {
        "id": "SPOJgUdrXDt5"
      },
      "source": [
        "# Creating the 'ideal' MLP for MNIST\n",
        "model_mnist = keras.models.Sequential()\n",
        "model_mnist.add(keras.layers.Dense(300, input_shape=(784,), activation='selu'))\n",
        "model_mnist.add(keras.layers.Dense(200, activation='selu'))\n",
        "model_mnist.add(keras.layers.Dense(100, activation='selu'))\n",
        "model_mnist.add(keras.layers.Dense(10, activation=\"softmax\"))\n",
        "model_mnist.compile(optimizer='nadam', steps_per_execution=10,\n",
        "                   loss=\"sparse_categorical_crossentropy\", metrics=[\"accuracy\"])\n",
        "\n",
        "# Creating an identical MLP for obfuscated MNIST\n",
        "model_mnist_perm = keras.models.Sequential()\n",
        "model_mnist_perm.add(keras.layers.Dense(300, input_shape=(784,), activation='selu'))\n",
        "model_mnist_perm.add(keras.layers.Dense(200, activation='selu'))\n",
        "model_mnist_perm.add(keras.layers.Dense(100, activation='selu'))\n",
        "model_mnist_perm.add(keras.layers.Dense(10, activation=\"softmax\"))\n",
        "model_mnist_perm.compile(optimizer='nadam', steps_per_execution=10,\n",
        "                   loss=\"sparse_categorical_crossentropy\", metrics=[\"accuracy\"])\n",
        "\n",
        "# Creating the 'ideal' MLP for Fashion MNIST\n",
        "model_fashion = keras.models.Sequential()\n",
        "model_fashion.add(keras.layers.Flatten(input_shape=[28,28]))\n",
        "model_fashion.add(keras.layers.Dense(600, input_shape=(784,), activation='selu',\n",
        "                                   kernel_initializer='random_normal',\n",
        "                                   bias_initializer='random_normal',\n",
        "                                   kernel_regularizer='l2',\n",
        "                                   bias_regularizer='l2',\n",
        "                                   activity_regularizer='l2'))\n",
        "model_fashion.add(keras.layers.Dense(300, activation='selu',\n",
        "                                   kernel_initializer='random_normal',\n",
        "                                   bias_initializer='random_normal',\n",
        "                                   kernel_regularizer='l2',\n",
        "                                   bias_regularizer='l2',\n",
        "                                   activity_regularizer='l2'))\n",
        "model_fashion.add(keras.layers.Dense(200, activation='selu',\n",
        "                                   kernel_initializer='random_normal',\n",
        "                                   bias_initializer='random_normal',\n",
        "                                   kernel_regularizer='l2',\n",
        "                                   bias_regularizer='l2',\n",
        "                                   activity_regularizer='l2'))\n",
        "model_fashion.add(keras.layers.Dense(100, activation='selu',\n",
        "                                   kernel_initializer='random_normal',\n",
        "                                   bias_initializer='random_normal',\n",
        "                                   kernel_regularizer='l2',\n",
        "                                   bias_regularizer='l2',\n",
        "                                   activity_regularizer='l2'))\n",
        "model_fashion.add(keras.layers.Dense(50, activation='selu',\n",
        "                                   kernel_initializer='random_normal',\n",
        "                                   bias_initializer='random_normal',\n",
        "                                   kernel_regularizer='l2',\n",
        "                                   bias_regularizer='l2',\n",
        "                                   activity_regularizer='l2'))\n",
        "model_fashion.add(keras.layers.Dense(10, activation=\"softmax\"))\n",
        "model_fashion.compile(optimizer='nadam', steps_per_execution=20,\n",
        "                   loss=\"sparse_categorical_crossentropy\", metrics=[\"accuracy\"])\n",
        "\n",
        "# Creating an identical MLP for the obfuscated Fashion MNIST\n",
        "model_fashion_perm = keras.models.Sequential()\n",
        "model_fashion_perm.add(keras.layers.Flatten(input_shape=[28,28]))\n",
        "model_fashion_perm.add(keras.layers.Dense(600, input_shape=(784,), activation='selu',\n",
        "                                   kernel_initializer='random_normal',\n",
        "                                   bias_initializer='random_normal',\n",
        "                                   kernel_regularizer='l2',\n",
        "                                   bias_regularizer='l2',\n",
        "                                   activity_regularizer='l2'))\n",
        "model_fashion_perm.add(keras.layers.Dense(300, activation='selu',\n",
        "                                   kernel_initializer='random_normal',\n",
        "                                   bias_initializer='random_normal',\n",
        "                                   kernel_regularizer='l2',\n",
        "                                   bias_regularizer='l2',\n",
        "                                   activity_regularizer='l2'))\n",
        "model_fashion_perm.add(keras.layers.Dense(200, activation='selu',\n",
        "                                   kernel_initializer='random_normal',\n",
        "                                   bias_initializer='random_normal',\n",
        "                                   kernel_regularizer='l2',\n",
        "                                   bias_regularizer='l2',\n",
        "                                   activity_regularizer='l2'))\n",
        "model_fashion_perm.add(keras.layers.Dense(100, activation='selu',\n",
        "                                   kernel_initializer='random_normal',\n",
        "                                   bias_initializer='random_normal',\n",
        "                                   kernel_regularizer='l2',\n",
        "                                   bias_regularizer='l2',\n",
        "                                   activity_regularizer='l2'))\n",
        "model_fashion_perm.add(keras.layers.Dense(50, activation='selu',\n",
        "                                   kernel_initializer='random_normal',\n",
        "                                   bias_initializer='random_normal',\n",
        "                                   kernel_regularizer='l2',\n",
        "                                   bias_regularizer='l2',\n",
        "                                   activity_regularizer='l2'))\n",
        "model_fashion_perm.add(keras.layers.Dense(10, activation=\"softmax\"))\n",
        "model_fashion_perm.compile(optimizer='nadam', steps_per_execution=20,\n",
        "                   loss=\"sparse_categorical_crossentropy\", metrics=[\"accuracy\"])"
      ],
      "execution_count": null,
      "outputs": []
    },
    {
      "cell_type": "markdown",
      "metadata": {
        "id": "dPCzr9PQaVPs"
      },
      "source": [
        "Now, let's see how how the same network performs when trained on unobfuscated vs. obfuscated datasets."
      ]
    },
    {
      "cell_type": "code",
      "metadata": {
        "colab": {
          "base_uri": "https://localhost:8080/"
        },
        "id": "BNnka9b4ajcu",
        "outputId": "dc314014-3130-47aa-f62a-f9ed1dce5bf7"
      },
      "source": [
        "print(\"X_train_mnist\", X_train_mnist)\n",
        "print(\"shape X_train\", X_train_fashion[0].shape)\n",
        "print(\"y_train_mnist\", y_train_mnist)\n",
        "print(\"shape X_train_perm\", X_train_fashion_perm[0].shape)\n",
        "#print(\"X_train_mnist_perm\", X_train_mnist_perm)\n",
        "print(\"y_train_mnist\", y_train_mnist)\n",
        "print(len(X_train_mnist))\n",
        "\n",
        "# Unobfuscated MNIST\n",
        "print(\"Unobfuscated MNIST\")\n",
        "model_mnist.fit(X_train_mnist, y_train_mnist, epochs=1,\n",
        "               validation_data=(X_valid_mnist, y_valid_mnist))\n",
        "model_mnist.evaluate(X_test_mnist, y_test_mnist)\n",
        "\n",
        "# Obfuscated MNIST\n",
        "print(\"Obfuscated MNIST\")\n",
        "model_mnist_perm.fit(X_train_mnist_perm, y_train_mnist, epochs=1,\n",
        "               validation_data=(X_valid_mnist_perm, y_valid_mnist))\n",
        "model_mnist_perm.evaluate(X_test_mnist_perm, y_test_mnist)\n",
        "\n",
        "# Unobfuscated Fashion MNIST\n",
        "print(\"Unobfuscated Fashion MNIST\")\n",
        "model_fashion.fit(X_train_fashion, y_train_fashion, epochs=1,\n",
        "               validation_data=(X_valid_fashion, y_valid_fashion))\n",
        "model_fashion.evaluate(X_test_fashion, y_test_fashion)\n",
        "\n",
        "# Obfuscated Fashion MNIST\n",
        "print(\"Obfuscated Fashion MNIST\")\n",
        "model_fashion_perm.fit(X_train_fashion_perm, y_train_fashion, epochs=1,\n",
        "               validation_data=(X_valid_fashion_perm, y_valid_fashion))\n",
        "model_fashion_perm.evaluate(X_test_fashion_perm, y_test_fashion)"
      ],
      "execution_count": null,
      "outputs": [
        {
          "output_type": "stream",
          "name": "stdout",
          "text": [
            "X_train_mnist [[0. 0. 0. ... 0. 0. 0.]\n",
            " [0. 0. 0. ... 0. 0. 0.]\n",
            " [0. 0. 0. ... 0. 0. 0.]\n",
            " ...\n",
            " [0. 0. 0. ... 0. 0. 0.]\n",
            " [0. 0. 0. ... 0. 0. 0.]\n",
            " [0. 0. 0. ... 0. 0. 0.]]\n",
            "shape X_train (28, 28)\n",
            "y_train_mnist [7 3 4 ... 5 6 8]\n",
            "shape X_train_perm (28, 28)\n",
            "y_train_mnist [7 3 4 ... 5 6 8]\n",
            "55000\n",
            "Unobfuscated MNIST\n",
            "1719/1719 [==============================] - 10s 6ms/step - loss: 0.2489 - accuracy: 0.9244 - val_loss: 0.1448 - val_accuracy: 0.9568\n",
            "313/313 [==============================] - 1s 2ms/step - loss: 0.1569 - accuracy: 0.9516\n",
            "Obfuscated MNIST\n",
            "1719/1719 [==============================] - 11s 6ms/step - loss: 0.2494 - accuracy: 0.9237 - val_loss: 0.1165 - val_accuracy: 0.9642\n",
            "313/313 [==============================] - 1s 2ms/step - loss: 0.1277 - accuracy: 0.9623\n",
            "Unobfuscated Fashion MNIST\n",
            "1719/1719 [==============================] - 19s 11ms/step - loss: 3.4449 - accuracy: 0.7469 - val_loss: 0.9957 - val_accuracy: 0.8004\n",
            "313/313 [==============================] - 1s 4ms/step - loss: 1.0237 - accuracy: 0.7898\n",
            "Obfuscated Fashion MNIST\n",
            "1719/1719 [==============================] - 19s 11ms/step - loss: 3.5411 - accuracy: 0.7376 - val_loss: 1.3371 - val_accuracy: 0.7964\n",
            "313/313 [==============================] - 1s 3ms/step - loss: 1.3610 - accuracy: 0.7789\n"
          ]
        },
        {
          "output_type": "execute_result",
          "data": {
            "text/plain": [
              "[1.3609613180160522, 0.7789000272750854]"
            ]
          },
          "metadata": {},
          "execution_count": 22
        }
      ]
    },
    {
      "cell_type": "markdown",
      "metadata": {
        "id": "PhFrE1KIWE8L"
      },
      "source": [
        "#CNNs"
      ]
    },
    {
      "cell_type": "code",
      "metadata": {
        "colab": {
          "base_uri": "https://localhost:8080/",
          "height": 381
        },
        "id": "oFCKmyYjAf6G",
        "outputId": "d3369c2b-030e-4bfc-f56a-fb9da610514c"
      },
      "source": [
        "#Creating the 'ideal' CNN for MNIST dataset using hyperparameter learnt in previous task\n",
        "from functools import partial\n",
        "\n",
        "#dropout_rate=0.4, Optimizer=RMSprop(learning_rate=0.001), epochs=10, batch_size=256\n",
        "DefaultConv2D = partial(keras.layers.Conv2D,\n",
        "  kernel_size=3, activation='relu', padding=\"SAME\")\n",
        "mnist_model = keras.models.Sequential([\n",
        "  DefaultConv2D(filters=64, kernel_size=7, input_shape=[28, 28, 1]),\n",
        "  keras.layers.MaxPooling2D(pool_size=2),\n",
        "  DefaultConv2D(filters=128),\n",
        "  DefaultConv2D(filters=128),\n",
        "  keras.layers.MaxPooling2D(pool_size=2),\n",
        "  DefaultConv2D(filters=256),\n",
        "  DefaultConv2D(filters=256),\n",
        "  keras.layers.MaxPooling2D(pool_size=2),\n",
        "  keras.layers.Flatten(),\n",
        "  keras.layers.Dense(units=128, activation='relu'),\n",
        "  keras.layers.Dropout(0.4),\n",
        "  keras.layers.Dense(units=64, activation='relu'),\n",
        "  keras.layers.Dropout(0.4),\n",
        "  keras.layers.Dense(units=10, activation='softmax'),\n",
        "  ])\n",
        "mnist_model.compile(loss='categorical_crossentropy', optimizer=keras.optimizers.RMSprop(learning_rate=0.001), metrics=['accuracy'])\n",
        "mnist_model.fit(mnist_X_train, mnist_y_train, epochs=10, batch_size=256, validation_data=(mnist_X_valid, mnist_y_valid))\n",
        "score, acc = mnist_model.evaluate(mnist_X_test, mnist_y_test, verbose=0)"
      ],
      "execution_count": null,
      "outputs": [
        {
          "output_type": "stream",
          "name": "stdout",
          "text": [
            "Epoch 1/10\n"
          ]
        },
        {
          "output_type": "error",
          "ename": "KeyboardInterrupt",
          "evalue": "ignored",
          "traceback": [
            "\u001b[0;31m---------------------------------------------------------------------------\u001b[0m",
            "\u001b[0;31mKeyboardInterrupt\u001b[0m                         Traceback (most recent call last)",
            "\u001b[0;32m<ipython-input-7-4f40d102b159>\u001b[0m in \u001b[0;36m<module>\u001b[0;34m()\u001b[0m\n\u001b[1;32m     22\u001b[0m   ])\n\u001b[1;32m     23\u001b[0m \u001b[0mmnist_model\u001b[0m\u001b[0;34m.\u001b[0m\u001b[0mcompile\u001b[0m\u001b[0;34m(\u001b[0m\u001b[0mloss\u001b[0m\u001b[0;34m=\u001b[0m\u001b[0;34m'categorical_crossentropy'\u001b[0m\u001b[0;34m,\u001b[0m \u001b[0moptimizer\u001b[0m\u001b[0;34m=\u001b[0m\u001b[0mkeras\u001b[0m\u001b[0;34m.\u001b[0m\u001b[0moptimizers\u001b[0m\u001b[0;34m.\u001b[0m\u001b[0mRMSprop\u001b[0m\u001b[0;34m(\u001b[0m\u001b[0mlearning_rate\u001b[0m\u001b[0;34m=\u001b[0m\u001b[0;36m0.001\u001b[0m\u001b[0;34m)\u001b[0m\u001b[0;34m,\u001b[0m \u001b[0mmetrics\u001b[0m\u001b[0;34m=\u001b[0m\u001b[0;34m[\u001b[0m\u001b[0;34m'accuracy'\u001b[0m\u001b[0;34m]\u001b[0m\u001b[0;34m)\u001b[0m\u001b[0;34m\u001b[0m\u001b[0;34m\u001b[0m\u001b[0m\n\u001b[0;32m---> 24\u001b[0;31m \u001b[0mmnist_model\u001b[0m\u001b[0;34m.\u001b[0m\u001b[0mfit\u001b[0m\u001b[0;34m(\u001b[0m\u001b[0mmnist_X_train\u001b[0m\u001b[0;34m,\u001b[0m \u001b[0mmnist_y_train\u001b[0m\u001b[0;34m,\u001b[0m \u001b[0mepochs\u001b[0m\u001b[0;34m=\u001b[0m\u001b[0;36m10\u001b[0m\u001b[0;34m,\u001b[0m \u001b[0mbatch_size\u001b[0m\u001b[0;34m=\u001b[0m\u001b[0;36m256\u001b[0m\u001b[0;34m,\u001b[0m \u001b[0mvalidation_data\u001b[0m\u001b[0;34m=\u001b[0m\u001b[0;34m(\u001b[0m\u001b[0mmnist_X_valid\u001b[0m\u001b[0;34m,\u001b[0m \u001b[0mmnist_y_valid\u001b[0m\u001b[0;34m)\u001b[0m\u001b[0;34m)\u001b[0m\u001b[0;34m\u001b[0m\u001b[0;34m\u001b[0m\u001b[0m\n\u001b[0m\u001b[1;32m     25\u001b[0m \u001b[0mscore\u001b[0m\u001b[0;34m,\u001b[0m \u001b[0macc\u001b[0m \u001b[0;34m=\u001b[0m \u001b[0mmnist_model\u001b[0m\u001b[0;34m.\u001b[0m\u001b[0mevaluate\u001b[0m\u001b[0;34m(\u001b[0m\u001b[0mmnist_X_test\u001b[0m\u001b[0;34m,\u001b[0m \u001b[0mmnist_y_test\u001b[0m\u001b[0;34m,\u001b[0m \u001b[0mverbose\u001b[0m\u001b[0;34m=\u001b[0m\u001b[0;36m0\u001b[0m\u001b[0;34m)\u001b[0m\u001b[0;34m\u001b[0m\u001b[0;34m\u001b[0m\u001b[0m\n",
            "\u001b[0;32m/usr/local/lib/python3.7/dist-packages/keras/utils/traceback_utils.py\u001b[0m in \u001b[0;36merror_handler\u001b[0;34m(*args, **kwargs)\u001b[0m\n\u001b[1;32m     62\u001b[0m     \u001b[0mfiltered_tb\u001b[0m \u001b[0;34m=\u001b[0m \u001b[0;32mNone\u001b[0m\u001b[0;34m\u001b[0m\u001b[0;34m\u001b[0m\u001b[0m\n\u001b[1;32m     63\u001b[0m     \u001b[0;32mtry\u001b[0m\u001b[0;34m:\u001b[0m\u001b[0;34m\u001b[0m\u001b[0;34m\u001b[0m\u001b[0m\n\u001b[0;32m---> 64\u001b[0;31m       \u001b[0;32mreturn\u001b[0m \u001b[0mfn\u001b[0m\u001b[0;34m(\u001b[0m\u001b[0;34m*\u001b[0m\u001b[0margs\u001b[0m\u001b[0;34m,\u001b[0m \u001b[0;34m**\u001b[0m\u001b[0mkwargs\u001b[0m\u001b[0;34m)\u001b[0m\u001b[0;34m\u001b[0m\u001b[0;34m\u001b[0m\u001b[0m\n\u001b[0m\u001b[1;32m     65\u001b[0m     \u001b[0;32mexcept\u001b[0m \u001b[0mException\u001b[0m \u001b[0;32mas\u001b[0m \u001b[0me\u001b[0m\u001b[0;34m:\u001b[0m  \u001b[0;31m# pylint: disable=broad-except\u001b[0m\u001b[0;34m\u001b[0m\u001b[0;34m\u001b[0m\u001b[0m\n\u001b[1;32m     66\u001b[0m       \u001b[0mfiltered_tb\u001b[0m \u001b[0;34m=\u001b[0m \u001b[0m_process_traceback_frames\u001b[0m\u001b[0;34m(\u001b[0m\u001b[0me\u001b[0m\u001b[0;34m.\u001b[0m\u001b[0m__traceback__\u001b[0m\u001b[0;34m)\u001b[0m\u001b[0;34m\u001b[0m\u001b[0;34m\u001b[0m\u001b[0m\n",
            "\u001b[0;32m/usr/local/lib/python3.7/dist-packages/keras/engine/training.py\u001b[0m in \u001b[0;36mfit\u001b[0;34m(self, x, y, batch_size, epochs, verbose, callbacks, validation_split, validation_data, shuffle, class_weight, sample_weight, initial_epoch, steps_per_epoch, validation_steps, validation_batch_size, validation_freq, max_queue_size, workers, use_multiprocessing)\u001b[0m\n\u001b[1;32m   1214\u001b[0m                 _r=1):\n\u001b[1;32m   1215\u001b[0m               \u001b[0mcallbacks\u001b[0m\u001b[0;34m.\u001b[0m\u001b[0mon_train_batch_begin\u001b[0m\u001b[0;34m(\u001b[0m\u001b[0mstep\u001b[0m\u001b[0;34m)\u001b[0m\u001b[0;34m\u001b[0m\u001b[0;34m\u001b[0m\u001b[0m\n\u001b[0;32m-> 1216\u001b[0;31m               \u001b[0mtmp_logs\u001b[0m \u001b[0;34m=\u001b[0m \u001b[0mself\u001b[0m\u001b[0;34m.\u001b[0m\u001b[0mtrain_function\u001b[0m\u001b[0;34m(\u001b[0m\u001b[0miterator\u001b[0m\u001b[0;34m)\u001b[0m\u001b[0;34m\u001b[0m\u001b[0;34m\u001b[0m\u001b[0m\n\u001b[0m\u001b[1;32m   1217\u001b[0m               \u001b[0;32mif\u001b[0m \u001b[0mdata_handler\u001b[0m\u001b[0;34m.\u001b[0m\u001b[0mshould_sync\u001b[0m\u001b[0;34m:\u001b[0m\u001b[0;34m\u001b[0m\u001b[0;34m\u001b[0m\u001b[0m\n\u001b[1;32m   1218\u001b[0m                 \u001b[0mcontext\u001b[0m\u001b[0;34m.\u001b[0m\u001b[0masync_wait\u001b[0m\u001b[0;34m(\u001b[0m\u001b[0;34m)\u001b[0m\u001b[0;34m\u001b[0m\u001b[0;34m\u001b[0m\u001b[0m\n",
            "\u001b[0;32m/usr/local/lib/python3.7/dist-packages/tensorflow/python/util/traceback_utils.py\u001b[0m in \u001b[0;36merror_handler\u001b[0;34m(*args, **kwargs)\u001b[0m\n\u001b[1;32m    148\u001b[0m     \u001b[0mfiltered_tb\u001b[0m \u001b[0;34m=\u001b[0m \u001b[0;32mNone\u001b[0m\u001b[0;34m\u001b[0m\u001b[0;34m\u001b[0m\u001b[0m\n\u001b[1;32m    149\u001b[0m     \u001b[0;32mtry\u001b[0m\u001b[0;34m:\u001b[0m\u001b[0;34m\u001b[0m\u001b[0;34m\u001b[0m\u001b[0m\n\u001b[0;32m--> 150\u001b[0;31m       \u001b[0;32mreturn\u001b[0m \u001b[0mfn\u001b[0m\u001b[0;34m(\u001b[0m\u001b[0;34m*\u001b[0m\u001b[0margs\u001b[0m\u001b[0;34m,\u001b[0m \u001b[0;34m**\u001b[0m\u001b[0mkwargs\u001b[0m\u001b[0;34m)\u001b[0m\u001b[0;34m\u001b[0m\u001b[0;34m\u001b[0m\u001b[0m\n\u001b[0m\u001b[1;32m    151\u001b[0m     \u001b[0;32mexcept\u001b[0m \u001b[0mException\u001b[0m \u001b[0;32mas\u001b[0m \u001b[0me\u001b[0m\u001b[0;34m:\u001b[0m\u001b[0;34m\u001b[0m\u001b[0;34m\u001b[0m\u001b[0m\n\u001b[1;32m    152\u001b[0m       \u001b[0mfiltered_tb\u001b[0m \u001b[0;34m=\u001b[0m \u001b[0m_process_traceback_frames\u001b[0m\u001b[0;34m(\u001b[0m\u001b[0me\u001b[0m\u001b[0;34m.\u001b[0m\u001b[0m__traceback__\u001b[0m\u001b[0;34m)\u001b[0m\u001b[0;34m\u001b[0m\u001b[0;34m\u001b[0m\u001b[0m\n",
            "\u001b[0;32m/usr/local/lib/python3.7/dist-packages/tensorflow/python/eager/def_function.py\u001b[0m in \u001b[0;36m__call__\u001b[0;34m(self, *args, **kwds)\u001b[0m\n\u001b[1;32m    908\u001b[0m \u001b[0;34m\u001b[0m\u001b[0m\n\u001b[1;32m    909\u001b[0m       \u001b[0;32mwith\u001b[0m \u001b[0mOptionalXlaContext\u001b[0m\u001b[0;34m(\u001b[0m\u001b[0mself\u001b[0m\u001b[0;34m.\u001b[0m\u001b[0m_jit_compile\u001b[0m\u001b[0;34m)\u001b[0m\u001b[0;34m:\u001b[0m\u001b[0;34m\u001b[0m\u001b[0;34m\u001b[0m\u001b[0m\n\u001b[0;32m--> 910\u001b[0;31m         \u001b[0mresult\u001b[0m \u001b[0;34m=\u001b[0m \u001b[0mself\u001b[0m\u001b[0;34m.\u001b[0m\u001b[0m_call\u001b[0m\u001b[0;34m(\u001b[0m\u001b[0;34m*\u001b[0m\u001b[0margs\u001b[0m\u001b[0;34m,\u001b[0m \u001b[0;34m**\u001b[0m\u001b[0mkwds\u001b[0m\u001b[0;34m)\u001b[0m\u001b[0;34m\u001b[0m\u001b[0;34m\u001b[0m\u001b[0m\n\u001b[0m\u001b[1;32m    911\u001b[0m \u001b[0;34m\u001b[0m\u001b[0m\n\u001b[1;32m    912\u001b[0m       \u001b[0mnew_tracing_count\u001b[0m \u001b[0;34m=\u001b[0m \u001b[0mself\u001b[0m\u001b[0;34m.\u001b[0m\u001b[0mexperimental_get_tracing_count\u001b[0m\u001b[0;34m(\u001b[0m\u001b[0;34m)\u001b[0m\u001b[0;34m\u001b[0m\u001b[0;34m\u001b[0m\u001b[0m\n",
            "\u001b[0;32m/usr/local/lib/python3.7/dist-packages/tensorflow/python/eager/def_function.py\u001b[0m in \u001b[0;36m_call\u001b[0;34m(self, *args, **kwds)\u001b[0m\n\u001b[1;32m    973\u001b[0m         \u001b[0;31m# Lifting succeeded, so variables are initialized and we can run the\u001b[0m\u001b[0;34m\u001b[0m\u001b[0;34m\u001b[0m\u001b[0;34m\u001b[0m\u001b[0m\n\u001b[1;32m    974\u001b[0m         \u001b[0;31m# stateless function.\u001b[0m\u001b[0;34m\u001b[0m\u001b[0;34m\u001b[0m\u001b[0;34m\u001b[0m\u001b[0m\n\u001b[0;32m--> 975\u001b[0;31m         \u001b[0;32mreturn\u001b[0m \u001b[0mself\u001b[0m\u001b[0;34m.\u001b[0m\u001b[0m_stateless_fn\u001b[0m\u001b[0;34m(\u001b[0m\u001b[0;34m*\u001b[0m\u001b[0margs\u001b[0m\u001b[0;34m,\u001b[0m \u001b[0;34m**\u001b[0m\u001b[0mkwds\u001b[0m\u001b[0;34m)\u001b[0m\u001b[0;34m\u001b[0m\u001b[0;34m\u001b[0m\u001b[0m\n\u001b[0m\u001b[1;32m    976\u001b[0m     \u001b[0;32melse\u001b[0m\u001b[0;34m:\u001b[0m\u001b[0;34m\u001b[0m\u001b[0;34m\u001b[0m\u001b[0m\n\u001b[1;32m    977\u001b[0m       \u001b[0m_\u001b[0m\u001b[0;34m,\u001b[0m \u001b[0m_\u001b[0m\u001b[0;34m,\u001b[0m \u001b[0m_\u001b[0m\u001b[0;34m,\u001b[0m \u001b[0mfiltered_flat_args\u001b[0m \u001b[0;34m=\u001b[0m\u001b[0;31m \u001b[0m\u001b[0;31m\\\u001b[0m\u001b[0;34m\u001b[0m\u001b[0;34m\u001b[0m\u001b[0m\n",
            "\u001b[0;32m/usr/local/lib/python3.7/dist-packages/tensorflow/python/eager/function.py\u001b[0m in \u001b[0;36m__call__\u001b[0;34m(self, *args, **kwargs)\u001b[0m\n\u001b[1;32m   3129\u001b[0m        filtered_flat_args) = self._maybe_define_function(args, kwargs)\n\u001b[1;32m   3130\u001b[0m     return graph_function._call_flat(\n\u001b[0;32m-> 3131\u001b[0;31m         filtered_flat_args, captured_inputs=graph_function.captured_inputs)  # pylint: disable=protected-access\n\u001b[0m\u001b[1;32m   3132\u001b[0m \u001b[0;34m\u001b[0m\u001b[0m\n\u001b[1;32m   3133\u001b[0m   \u001b[0;34m@\u001b[0m\u001b[0mproperty\u001b[0m\u001b[0;34m\u001b[0m\u001b[0;34m\u001b[0m\u001b[0m\n",
            "\u001b[0;32m/usr/local/lib/python3.7/dist-packages/tensorflow/python/eager/function.py\u001b[0m in \u001b[0;36m_call_flat\u001b[0;34m(self, args, captured_inputs, cancellation_manager)\u001b[0m\n\u001b[1;32m   1958\u001b[0m       \u001b[0;31m# No tape is watching; skip to running the function.\u001b[0m\u001b[0;34m\u001b[0m\u001b[0;34m\u001b[0m\u001b[0;34m\u001b[0m\u001b[0m\n\u001b[1;32m   1959\u001b[0m       return self._build_call_outputs(self._inference_function.call(\n\u001b[0;32m-> 1960\u001b[0;31m           ctx, args, cancellation_manager=cancellation_manager))\n\u001b[0m\u001b[1;32m   1961\u001b[0m     forward_backward = self._select_forward_and_backward_functions(\n\u001b[1;32m   1962\u001b[0m         \u001b[0margs\u001b[0m\u001b[0;34m,\u001b[0m\u001b[0;34m\u001b[0m\u001b[0;34m\u001b[0m\u001b[0m\n",
            "\u001b[0;32m/usr/local/lib/python3.7/dist-packages/tensorflow/python/eager/function.py\u001b[0m in \u001b[0;36mcall\u001b[0;34m(self, ctx, args, cancellation_manager)\u001b[0m\n\u001b[1;32m    601\u001b[0m               \u001b[0minputs\u001b[0m\u001b[0;34m=\u001b[0m\u001b[0margs\u001b[0m\u001b[0;34m,\u001b[0m\u001b[0;34m\u001b[0m\u001b[0;34m\u001b[0m\u001b[0m\n\u001b[1;32m    602\u001b[0m               \u001b[0mattrs\u001b[0m\u001b[0;34m=\u001b[0m\u001b[0mattrs\u001b[0m\u001b[0;34m,\u001b[0m\u001b[0;34m\u001b[0m\u001b[0;34m\u001b[0m\u001b[0m\n\u001b[0;32m--> 603\u001b[0;31m               ctx=ctx)\n\u001b[0m\u001b[1;32m    604\u001b[0m         \u001b[0;32melse\u001b[0m\u001b[0;34m:\u001b[0m\u001b[0;34m\u001b[0m\u001b[0;34m\u001b[0m\u001b[0m\n\u001b[1;32m    605\u001b[0m           outputs = execute.execute_with_cancellation(\n",
            "\u001b[0;32m/usr/local/lib/python3.7/dist-packages/tensorflow/python/eager/execute.py\u001b[0m in \u001b[0;36mquick_execute\u001b[0;34m(op_name, num_outputs, inputs, attrs, ctx, name)\u001b[0m\n\u001b[1;32m     57\u001b[0m     \u001b[0mctx\u001b[0m\u001b[0;34m.\u001b[0m\u001b[0mensure_initialized\u001b[0m\u001b[0;34m(\u001b[0m\u001b[0;34m)\u001b[0m\u001b[0;34m\u001b[0m\u001b[0;34m\u001b[0m\u001b[0m\n\u001b[1;32m     58\u001b[0m     tensors = pywrap_tfe.TFE_Py_Execute(ctx._handle, device_name, op_name,\n\u001b[0;32m---> 59\u001b[0;31m                                         inputs, attrs, num_outputs)\n\u001b[0m\u001b[1;32m     60\u001b[0m   \u001b[0;32mexcept\u001b[0m \u001b[0mcore\u001b[0m\u001b[0;34m.\u001b[0m\u001b[0m_NotOkStatusException\u001b[0m \u001b[0;32mas\u001b[0m \u001b[0me\u001b[0m\u001b[0;34m:\u001b[0m\u001b[0;34m\u001b[0m\u001b[0;34m\u001b[0m\u001b[0m\n\u001b[1;32m     61\u001b[0m     \u001b[0;32mif\u001b[0m \u001b[0mname\u001b[0m \u001b[0;32mis\u001b[0m \u001b[0;32mnot\u001b[0m \u001b[0;32mNone\u001b[0m\u001b[0;34m:\u001b[0m\u001b[0;34m\u001b[0m\u001b[0;34m\u001b[0m\u001b[0m\n",
            "\u001b[0;31mKeyboardInterrupt\u001b[0m: "
          ]
        }
      ]
    },
    {
      "cell_type": "code",
      "metadata": {
        "id": "Wywkhc-mEcBq"
      },
      "source": [
        "from functools import partial\n",
        "\n",
        "#dropout_rate=0.4, Optimizer=RMSprop(learning_rate=0.001), epochs=10, batch_size=256\n",
        "DefaultConv2D = partial(keras.layers.Conv2D,\n",
        "  kernel_size=3, activation='relu', padding=\"SAME\")\n",
        "mnist_model = keras.models.Sequential([\n",
        "  DefaultConv2D(filters=64, kernel_size=7, input_shape=[28, 28, 1]),\n",
        "  keras.layers.MaxPooling2D(pool_size=2),\n",
        "  DefaultConv2D(filters=128),\n",
        "  DefaultConv2D(filters=128),\n",
        "  keras.layers.MaxPooling2D(pool_size=2),\n",
        "  DefaultConv2D(filters=256),\n",
        "  DefaultConv2D(filters=256),\n",
        "  keras.layers.MaxPooling2D(pool_size=2),\n",
        "  keras.layers.Flatten(),\n",
        "  keras.layers.Dense(units=128, activation='relu'),\n",
        "  keras.layers.Dropout(0.4),\n",
        "  keras.layers.Dense(units=64, activation='relu'),\n",
        "  keras.layers.Dropout(0.4),\n",
        "  keras.layers.Dense(units=10, activation='softmax'),\n",
        "  ])\n",
        "mnist_model.compile(loss='categorical_crossentropy', optimizer=keras.optimizers.RMSprop(learning_rate=0.001), metrics=['accuracy'])\n",
        "#mnist_model.fit(mnist_X_train, mnist_y_train, epochs=10, batch_size=256, validation_data=(mnist_X_valid, mnist_y_valid))\n",
        "#score, acc = mnist_model.evaluate(mnist_X_test, mnist_y_test, verbose=0)\n",
        "\n",
        "\n",
        "DefaultConv2D = partial(keras.layers.Conv2D,\n",
        "  kernel_size=3, activation='relu', padding=\"SAME\")\n",
        "permuted_mnist_model = keras.models.Sequential([\n",
        "  DefaultConv2D(filters=64, kernel_size=7, input_shape=[28, 28, 1]),\n",
        "  keras.layers.MaxPooling2D(pool_size=2),\n",
        "  DefaultConv2D(filters=128),\n",
        "  DefaultConv2D(filters=128),\n",
        "  keras.layers.MaxPooling2D(pool_size=2),\n",
        "  DefaultConv2D(filters=256),\n",
        "  DefaultConv2D(filters=256),\n",
        "  keras.layers.MaxPooling2D(pool_size=2),\n",
        "  keras.layers.Flatten(),\n",
        "  keras.layers.Dense(units=128, activation='relu'),\n",
        "  keras.layers.Dropout(0.4),\n",
        "  keras.layers.Dense(units=64, activation='relu'),\n",
        "  keras.layers.Dropout(0.4),\n",
        "  keras.layers.Dense(units=10, activation='softmax'),\n",
        "  ])\n",
        "permuted_mnist_model.compile(loss='categorical_crossentropy', optimizer=keras.optimizers.RMSprop(learning_rate=0.001), metrics=['accuracy'])"
      ],
      "execution_count": null,
      "outputs": []
    },
    {
      "cell_type": "code",
      "metadata": {
        "id": "KnoxtyxQFAty"
      },
      "source": [
        "#dropout_rate=0.5, Optimizer=RMSprop(learning_rate=0.001), epochs=10, batch_size=256\n",
        "DefaultConv2D = partial(keras.layers.Conv2D,\n",
        "  kernel_size=3, activation='relu', padding=\"SAME\")\n",
        "fashion_mnist_model = keras.models.Sequential([\n",
        "  DefaultConv2D(filters=64, kernel_size=7, input_shape=[28, 28, 1]),\n",
        "  keras.layers.MaxPooling2D(pool_size=2),\n",
        "  DefaultConv2D(filters=128),\n",
        "  DefaultConv2D(filters=128),\n",
        "  keras.layers.MaxPooling2D(pool_size=2),\n",
        "  DefaultConv2D(filters=256),\n",
        "  DefaultConv2D(filters=256),\n",
        "  keras.layers.MaxPooling2D(pool_size=2),\n",
        "  keras.layers.Flatten(),\n",
        "  keras.layers.Dense(units=128, activation='relu'),\n",
        "  keras.layers.Dropout(0.5),\n",
        "  keras.layers.Dense(units=64, activation='relu'),\n",
        "  keras.layers.Dropout(0.5),\n",
        "  keras.layers.Dense(units=10, activation='softmax'),\n",
        "  ])\n",
        "fashion_mnist_model.compile(loss='categorical_crossentropy', optimizer=keras.optimizers.RMSprop(learning_rate=0.001), metrics=['accuracy'])\n",
        "#fashion_mnist_model.fit(fashion_mnist_X_train, fashion_mnist_y_train, epochs=10, batch_size=256, validation_data=(fashion_mnist_X_valid, fashion_mnist_y_valid))\n",
        "#score, acc = fashion_mnist_model.evaluate(fashion_mnist_X_test, fashion_mnist_y_test, verbose=0)\n",
        "\n",
        "permuted_fashion_mnist_model = keras.models.Sequential([\n",
        "  DefaultConv2D(filters=64, kernel_size=7, input_shape=[28, 28, 1]),\n",
        "  keras.layers.MaxPooling2D(pool_size=2),\n",
        "  DefaultConv2D(filters=128),\n",
        "  DefaultConv2D(filters=128),\n",
        "  keras.layers.MaxPooling2D(pool_size=2),\n",
        "  DefaultConv2D(filters=256),\n",
        "  DefaultConv2D(filters=256),\n",
        "  keras.layers.MaxPooling2D(pool_size=2),\n",
        "  keras.layers.Flatten(),\n",
        "  keras.layers.Dense(units=128, activation='relu'),\n",
        "  keras.layers.Dropout(0.5),\n",
        "  keras.layers.Dense(units=64, activation='relu'),\n",
        "  keras.layers.Dropout(0.5),\n",
        "  keras.layers.Dense(units=10, activation='softmax'),\n",
        "  ])\n",
        "permuted_fashion_mnist_model.compile(loss='categorical_crossentropy', optimizer=keras.optimizers.RMSprop(learning_rate=0.001), metrics=['accuracy'])"
      ],
      "execution_count": null,
      "outputs": []
    },
    {
      "cell_type": "code",
      "metadata": {
        "colab": {
          "base_uri": "https://localhost:8080/"
        },
        "id": "7A6vtMafPeoC",
        "outputId": "ff0008a1-4f20-477b-9572-a9eb8b95a9b5"
      },
      "source": [
        "mnist_model.fit(mnist_X_train, mnist_y_train, epochs=10, batch_size=256, validation_data=(mnist_X_valid, mnist_y_valid))\n",
        "mnist_model.evaluate(mnist_X_test, mnist_y_test, verbose=0)"
      ],
      "execution_count": null,
      "outputs": [
        {
          "output_type": "stream",
          "name": "stdout",
          "text": [
            "Epoch 1/10\n",
            "215/215 [==============================] - 14s 61ms/step - loss: 0.6340 - accuracy: 0.7941 - val_loss: 0.0695 - val_accuracy: 0.9812\n",
            "Epoch 2/10\n",
            "215/215 [==============================] - 13s 60ms/step - loss: 0.1098 - accuracy: 0.9724 - val_loss: 0.1523 - val_accuracy: 0.9642\n",
            "Epoch 3/10\n",
            "215/215 [==============================] - 13s 60ms/step - loss: 0.0660 - accuracy: 0.9832 - val_loss: 0.0440 - val_accuracy: 0.9922\n",
            "Epoch 4/10\n",
            "215/215 [==============================] - 13s 61ms/step - loss: 0.0510 - accuracy: 0.9879 - val_loss: 0.0407 - val_accuracy: 0.9896\n",
            "Epoch 5/10\n",
            "215/215 [==============================] - 13s 60ms/step - loss: 0.0374 - accuracy: 0.9912 - val_loss: 0.0408 - val_accuracy: 0.9908\n",
            "Epoch 6/10\n",
            "215/215 [==============================] - 13s 60ms/step - loss: 0.0330 - accuracy: 0.9921 - val_loss: 0.0392 - val_accuracy: 0.9904\n",
            "Epoch 7/10\n",
            "215/215 [==============================] - 13s 60ms/step - loss: 0.0275 - accuracy: 0.9937 - val_loss: 0.0354 - val_accuracy: 0.9920\n",
            "Epoch 8/10\n",
            "215/215 [==============================] - 13s 60ms/step - loss: 0.0236 - accuracy: 0.9944 - val_loss: 0.0687 - val_accuracy: 0.9906\n",
            "Epoch 9/10\n",
            "215/215 [==============================] - 13s 60ms/step - loss: 0.0233 - accuracy: 0.9946 - val_loss: 0.0557 - val_accuracy: 0.9906\n",
            "Epoch 10/10\n",
            "215/215 [==============================] - 13s 60ms/step - loss: 0.0222 - accuracy: 0.9952 - val_loss: 0.0404 - val_accuracy: 0.9922\n"
          ]
        },
        {
          "output_type": "execute_result",
          "data": {
            "text/plain": [
              "[7.644179821014404, 0.9940000176429749]"
            ]
          },
          "metadata": {},
          "execution_count": 14
        }
      ]
    },
    {
      "cell_type": "code",
      "metadata": {
        "colab": {
          "base_uri": "https://localhost:8080/"
        },
        "id": "akBdGTV_PjfQ",
        "outputId": "7692cd66-f6bd-49a3-ed96-13e6e8a627d4"
      },
      "source": [
        "permuted_mnist_model.fit(permuted_mnist_X_train, mnist_y_train, epochs=10, batch_size=256, validation_data=(permuted_mnist_X_valid, mnist_y_valid))\n",
        "permuted_mnist_model.evaluate(permuted_mnist_X_test, mnist_y_test, verbose=0)"
      ],
      "execution_count": null,
      "outputs": [
        {
          "output_type": "stream",
          "name": "stdout",
          "text": [
            "Epoch 1/10\n",
            "215/215 [==============================] - 14s 62ms/step - loss: 0.9532 - accuracy: 0.6751 - val_loss: 0.2243 - val_accuracy: 0.9376\n",
            "Epoch 2/10\n",
            "215/215 [==============================] - 13s 61ms/step - loss: 0.1991 - accuracy: 0.9477 - val_loss: 0.1007 - val_accuracy: 0.9726\n",
            "Epoch 3/10\n",
            "215/215 [==============================] - 13s 62ms/step - loss: 0.1236 - accuracy: 0.9685 - val_loss: 0.0798 - val_accuracy: 0.9770\n",
            "Epoch 4/10\n",
            "215/215 [==============================] - 13s 61ms/step - loss: 0.0855 - accuracy: 0.9781 - val_loss: 0.0741 - val_accuracy: 0.9802\n",
            "Epoch 5/10\n",
            "215/215 [==============================] - 13s 61ms/step - loss: 0.0686 - accuracy: 0.9825 - val_loss: 0.0994 - val_accuracy: 0.9786\n",
            "Epoch 6/10\n",
            "215/215 [==============================] - 13s 61ms/step - loss: 0.0541 - accuracy: 0.9863 - val_loss: 0.0855 - val_accuracy: 0.9818\n",
            "Epoch 7/10\n",
            "215/215 [==============================] - 13s 61ms/step - loss: 0.0464 - accuracy: 0.9886 - val_loss: 0.0890 - val_accuracy: 0.9756\n",
            "Epoch 8/10\n",
            "215/215 [==============================] - 13s 60ms/step - loss: 0.0407 - accuracy: 0.9900 - val_loss: 0.0729 - val_accuracy: 0.9828\n",
            "Epoch 9/10\n",
            "215/215 [==============================] - 13s 60ms/step - loss: 0.0349 - accuracy: 0.9913 - val_loss: 0.0615 - val_accuracy: 0.9864\n",
            "Epoch 10/10\n",
            "215/215 [==============================] - 13s 61ms/step - loss: 0.0315 - accuracy: 0.9922 - val_loss: 0.0711 - val_accuracy: 0.9868\n"
          ]
        },
        {
          "output_type": "execute_result",
          "data": {
            "text/plain": [
              "[23.2119197845459, 0.9829999804496765]"
            ]
          },
          "metadata": {},
          "execution_count": 15
        }
      ]
    },
    {
      "cell_type": "code",
      "metadata": {
        "colab": {
          "base_uri": "https://localhost:8080/"
        },
        "id": "RgpOvPO-Im_a",
        "outputId": "49e1b1df-a6eb-4ac3-dda2-2de4878f956e"
      },
      "source": [
        "results={}\n",
        "#mnist\n",
        "mnist_model.fit(mnist_X_train, mnist_y_train, epochs=10, batch_size=256, validation_data=(mnist_X_valid, mnist_y_valid))\n",
        "score, acc = mnist_model.evaluate(mnist_X_test, mnist_y_test, verbose=0)\n",
        "results['mnist']=acc\n",
        "\n",
        "\n",
        "#permuted mnist\n",
        "permuted_mnist_model.fit(permuted_mnist_X_train, mnist_y_train, epochs=10, batch_size=256, validation_data=(permuted_mnist_X_valid, mnist_y_valid))\n",
        "score, acc = permuted_mnist_model.evaluate(permuted_mnist_X_test, mnist_y_test, verbose=0)\n",
        "results['permuted_mnist']=acc\n",
        "\n",
        "print(results)"
      ],
      "execution_count": null,
      "outputs": [
        {
          "output_type": "stream",
          "name": "stdout",
          "text": [
            "Epoch 1/10\n",
            "215/215 [==============================] - 16s 68ms/step - loss: 0.6534 - accuracy: 0.7863 - val_loss: 0.0889 - val_accuracy: 0.9760\n",
            "Epoch 2/10\n",
            "215/215 [==============================] - 13s 60ms/step - loss: 0.1087 - accuracy: 0.9734 - val_loss: 0.0585 - val_accuracy: 0.9868\n",
            "Epoch 3/10\n",
            "215/215 [==============================] - 13s 59ms/step - loss: 0.0684 - accuracy: 0.9836 - val_loss: 0.0337 - val_accuracy: 0.9900\n",
            "Epoch 4/10\n",
            "215/215 [==============================] - 13s 59ms/step - loss: 0.0485 - accuracy: 0.9880 - val_loss: 0.0518 - val_accuracy: 0.9872\n",
            "Epoch 5/10\n",
            "215/215 [==============================] - 13s 61ms/step - loss: 0.0382 - accuracy: 0.9909 - val_loss: 0.0378 - val_accuracy: 0.9906\n",
            "Epoch 6/10\n",
            "215/215 [==============================] - 13s 61ms/step - loss: 0.0317 - accuracy: 0.9925 - val_loss: 0.0362 - val_accuracy: 0.9914\n",
            "Epoch 7/10\n",
            "215/215 [==============================] - 13s 61ms/step - loss: 0.0292 - accuracy: 0.9933 - val_loss: 0.0328 - val_accuracy: 0.9924\n",
            "Epoch 8/10\n",
            "215/215 [==============================] - 13s 61ms/step - loss: 0.0275 - accuracy: 0.9937 - val_loss: 0.0369 - val_accuracy: 0.9930\n",
            "Epoch 9/10\n",
            "215/215 [==============================] - 13s 60ms/step - loss: 0.0257 - accuracy: 0.9941 - val_loss: 0.0372 - val_accuracy: 0.9932\n",
            "Epoch 10/10\n",
            "215/215 [==============================] - 13s 60ms/step - loss: 0.0219 - accuracy: 0.9950 - val_loss: 0.0447 - val_accuracy: 0.9912\n",
            "Epoch 1/10\n",
            "215/215 [==============================] - 15s 62ms/step - loss: 1.0902 - accuracy: 0.6265 - val_loss: 0.1896 - val_accuracy: 0.9440\n",
            "Epoch 2/10\n",
            "215/215 [==============================] - 13s 61ms/step - loss: 0.1981 - accuracy: 0.9473 - val_loss: 0.1297 - val_accuracy: 0.9660\n",
            "Epoch 3/10\n",
            "215/215 [==============================] - 13s 61ms/step - loss: 0.1234 - accuracy: 0.9691 - val_loss: 0.0827 - val_accuracy: 0.9814\n",
            "Epoch 4/10\n",
            "215/215 [==============================] - 13s 62ms/step - loss: 0.0888 - accuracy: 0.9778 - val_loss: 0.0849 - val_accuracy: 0.9776\n",
            "Epoch 5/10\n",
            "215/215 [==============================] - 13s 60ms/step - loss: 0.0685 - accuracy: 0.9826 - val_loss: 0.0906 - val_accuracy: 0.9790\n",
            "Epoch 6/10\n",
            "215/215 [==============================] - 13s 60ms/step - loss: 0.0574 - accuracy: 0.9854 - val_loss: 0.0658 - val_accuracy: 0.9854\n",
            "Epoch 7/10\n",
            "215/215 [==============================] - 13s 60ms/step - loss: 0.0476 - accuracy: 0.9877 - val_loss: 0.1078 - val_accuracy: 0.9832\n",
            "Epoch 8/10\n",
            "215/215 [==============================] - 13s 61ms/step - loss: 0.0444 - accuracy: 0.9892 - val_loss: 0.0599 - val_accuracy: 0.9854\n",
            "Epoch 9/10\n",
            "215/215 [==============================] - 13s 60ms/step - loss: 0.0372 - accuracy: 0.9911 - val_loss: 0.0793 - val_accuracy: 0.9862\n",
            "Epoch 10/10\n",
            "215/215 [==============================] - 13s 60ms/step - loss: 0.0373 - accuracy: 0.9910 - val_loss: 0.0817 - val_accuracy: 0.9848\n",
            "{'mnist': 0.9933000206947327, 'permuted_mnist': 0.9861000180244446}\n"
          ]
        }
      ]
    },
    {
      "cell_type": "code",
      "metadata": {
        "colab": {
          "base_uri": "https://localhost:8080/"
        },
        "id": "Xtk4gP0mP3gm",
        "outputId": "9131c60d-a273-4853-a7a1-02cc509db9af"
      },
      "source": [
        "fashion_mnist_model.fit(fashion_mnist_X_train, fashion_mnist_y_train, epochs=10, batch_size=256, validation_data=(fashion_mnist_X_valid, fashion_mnist_y_valid))\n",
        "fashion_mnist_model.evaluate(fashion_mnist_X_test, fashion_mnist_y_test, verbose=1)"
      ],
      "execution_count": null,
      "outputs": [
        {
          "output_type": "stream",
          "name": "stdout",
          "text": [
            "Epoch 1/10\n",
            "215/215 [==============================] - 13s 60ms/step - loss: 0.3009 - accuracy: 0.8986 - val_loss: 0.2656 - val_accuracy: 0.9056\n",
            "Epoch 2/10\n",
            "215/215 [==============================] - 13s 60ms/step - loss: 0.2745 - accuracy: 0.9072 - val_loss: 0.2408 - val_accuracy: 0.9176\n",
            "Epoch 3/10\n",
            "215/215 [==============================] - 13s 60ms/step - loss: 0.2493 - accuracy: 0.9155 - val_loss: 0.2455 - val_accuracy: 0.9110\n",
            "Epoch 4/10\n",
            "215/215 [==============================] - 13s 60ms/step - loss: 0.2314 - accuracy: 0.9218 - val_loss: 0.2393 - val_accuracy: 0.9174\n",
            "Epoch 5/10\n",
            "215/215 [==============================] - 13s 60ms/step - loss: 0.2138 - accuracy: 0.9280 - val_loss: 0.2472 - val_accuracy: 0.9170\n",
            "Epoch 6/10\n",
            "215/215 [==============================] - 13s 60ms/step - loss: 0.1983 - accuracy: 0.9318 - val_loss: 0.2479 - val_accuracy: 0.9126\n",
            "Epoch 7/10\n",
            "215/215 [==============================] - 13s 60ms/step - loss: 0.1885 - accuracy: 0.9368 - val_loss: 0.2577 - val_accuracy: 0.9192\n",
            "Epoch 8/10\n",
            "215/215 [==============================] - 13s 60ms/step - loss: 0.1780 - accuracy: 0.9397 - val_loss: 0.3385 - val_accuracy: 0.9190\n",
            "Epoch 9/10\n",
            "215/215 [==============================] - 13s 60ms/step - loss: 0.1723 - accuracy: 0.9428 - val_loss: 0.2420 - val_accuracy: 0.9218\n",
            "Epoch 10/10\n",
            "215/215 [==============================] - 13s 60ms/step - loss: 0.1680 - accuracy: 0.9450 - val_loss: 0.3128 - val_accuracy: 0.9160\n"
          ]
        },
        {
          "output_type": "execute_result",
          "data": {
            "text/plain": [
              "[65.73126220703125, 0.8783000111579895]"
            ]
          },
          "metadata": {},
          "execution_count": 16
        }
      ]
    },
    {
      "cell_type": "code",
      "metadata": {
        "colab": {
          "base_uri": "https://localhost:8080/"
        },
        "id": "OZk4OtmkQC6G",
        "outputId": "840d2c7f-2a34-422a-ea09-4c3233d196f8"
      },
      "source": [
        "permuted_fashion_mnist_model.fit(permuted_fashion_mnist_X_train, fashion_mnist_y_train, epochs=10, batch_size=256, validation_data=(permuted_fashion_mnist_X_valid, fashion_mnist_y_valid))\n",
        "permuted_fashion_mnist_model.evaluate(permuted_fashion_mnist_X_test, fashion_mnist_y_test)"
      ],
      "execution_count": null,
      "outputs": [
        {
          "output_type": "stream",
          "name": "stdout",
          "text": [
            "Epoch 1/10\n",
            "215/215 [==============================] - 15s 63ms/step - loss: 1.3396 - accuracy: 0.5080 - val_loss: 0.6418 - val_accuracy: 0.7474\n",
            "Epoch 2/10\n",
            "215/215 [==============================] - 13s 62ms/step - loss: 0.6543 - accuracy: 0.7685 - val_loss: 0.4444 - val_accuracy: 0.8362\n",
            "Epoch 3/10\n",
            "215/215 [==============================] - 13s 60ms/step - loss: 0.4880 - accuracy: 0.8382 - val_loss: 0.3900 - val_accuracy: 0.8626\n",
            "Epoch 4/10\n",
            "215/215 [==============================] - 13s 61ms/step - loss: 0.4180 - accuracy: 0.8614 - val_loss: 0.3188 - val_accuracy: 0.8828\n",
            "Epoch 5/10\n",
            "215/215 [==============================] - 13s 61ms/step - loss: 0.3700 - accuracy: 0.8767 - val_loss: 0.3286 - val_accuracy: 0.8802\n",
            "Epoch 6/10\n",
            "215/215 [==============================] - 13s 60ms/step - loss: 0.3371 - accuracy: 0.8879 - val_loss: 0.3015 - val_accuracy: 0.8930\n",
            "Epoch 7/10\n",
            "215/215 [==============================] - 13s 61ms/step - loss: 0.3158 - accuracy: 0.8952 - val_loss: 0.3041 - val_accuracy: 0.8904\n",
            "Epoch 8/10\n",
            "215/215 [==============================] - 13s 60ms/step - loss: 0.2887 - accuracy: 0.9010 - val_loss: 0.2846 - val_accuracy: 0.9042\n",
            "Epoch 9/10\n",
            "215/215 [==============================] - 13s 60ms/step - loss: 0.2757 - accuracy: 0.9072 - val_loss: 0.3338 - val_accuracy: 0.8910\n",
            "Epoch 10/10\n",
            "215/215 [==============================] - 13s 60ms/step - loss: 0.2571 - accuracy: 0.9139 - val_loss: 0.3133 - val_accuracy: 0.8940\n",
            "313/313 [==============================] - 3s 8ms/step - loss: 40.3773 - accuracy: 0.8461\n"
          ]
        },
        {
          "output_type": "execute_result",
          "data": {
            "text/plain": [
              "[40.3773307800293, 0.8460999727249146]"
            ]
          },
          "metadata": {},
          "execution_count": 20
        }
      ]
    },
    {
      "cell_type": "code",
      "metadata": {
        "colab": {
          "base_uri": "https://localhost:8080/",
          "height": 537
        },
        "id": "-y2jT84DJsSl",
        "outputId": "1e483404-2325-4628-8519-cf5cbe68cb45"
      },
      "source": [
        "#fashion_mnist\n",
        "fashion_mnist_model.fit(fashion_mnist_X_train, fashion_mnist_y_train, epochs=10, batch_size=256, validation_data=(fashion_mnist_X_valid, fashion_mnist_y_valid))\n",
        "score, acc = fashion_mnist_model.evaluate(fashion_mnist_X_test, fashion_mnist_y_test, verbose=0)\n",
        "results['fashion_mnist']=acc\n",
        "\n",
        "#permuted fashion_mnist\n",
        "permuted_fashion_mnist_model.fit(permuted_fashion_mnist_X_train, fashion_mnist_y_train, epochs=10, batch_size=256, validation_data=(permuted_fashion_mnist_X_valid, fashion_mnist_y_valid))\n",
        "score, acc = permuted_fashion_mnist_model.evaluate(permuted_fashion_mnist_X_test, fashion_mnist_y_test, verbose=0)\n",
        "results['permuted_fashion_mnist']=acc\n",
        "\n",
        "print(results)"
      ],
      "execution_count": null,
      "outputs": [
        {
          "output_type": "stream",
          "name": "stdout",
          "text": [
            "Epoch 1/10\n",
            "215/215 [==============================] - 15s 62ms/step - loss: 1.1435 - accuracy: 0.5891 - val_loss: 0.4437 - val_accuracy: 0.8420\n",
            "Epoch 2/10\n",
            "215/215 [==============================] - 13s 61ms/step - loss: 0.5087 - accuracy: 0.8255 - val_loss: 0.3474 - val_accuracy: 0.8634\n",
            "Epoch 3/10\n",
            "215/215 [==============================] - 13s 61ms/step - loss: 0.3905 - accuracy: 0.8679 - val_loss: 0.2873 - val_accuracy: 0.8978\n",
            "Epoch 4/10\n",
            "178/215 [=======================>......] - ETA: 2s - loss: 0.3404 - accuracy: 0.8861"
          ]
        },
        {
          "output_type": "error",
          "ename": "KeyboardInterrupt",
          "evalue": "ignored",
          "traceback": [
            "\u001b[0;31m---------------------------------------------------------------------------\u001b[0m",
            "\u001b[0;31mKeyboardInterrupt\u001b[0m                         Traceback (most recent call last)",
            "\u001b[0;32m<ipython-input-11-830afa1796de>\u001b[0m in \u001b[0;36m<module>\u001b[0;34m()\u001b[0m\n\u001b[1;32m      1\u001b[0m \u001b[0;31m#fashion_mnist\u001b[0m\u001b[0;34m\u001b[0m\u001b[0;34m\u001b[0m\u001b[0;34m\u001b[0m\u001b[0m\n\u001b[0;32m----> 2\u001b[0;31m \u001b[0mfashion_mnist_model\u001b[0m\u001b[0;34m.\u001b[0m\u001b[0mfit\u001b[0m\u001b[0;34m(\u001b[0m\u001b[0mfashion_mnist_X_train\u001b[0m\u001b[0;34m,\u001b[0m \u001b[0mfashion_mnist_y_train\u001b[0m\u001b[0;34m,\u001b[0m \u001b[0mepochs\u001b[0m\u001b[0;34m=\u001b[0m\u001b[0;36m10\u001b[0m\u001b[0;34m,\u001b[0m \u001b[0mbatch_size\u001b[0m\u001b[0;34m=\u001b[0m\u001b[0;36m256\u001b[0m\u001b[0;34m,\u001b[0m \u001b[0mvalidation_data\u001b[0m\u001b[0;34m=\u001b[0m\u001b[0;34m(\u001b[0m\u001b[0mfashion_mnist_X_valid\u001b[0m\u001b[0;34m,\u001b[0m \u001b[0mfashion_mnist_y_valid\u001b[0m\u001b[0;34m)\u001b[0m\u001b[0;34m)\u001b[0m\u001b[0;34m\u001b[0m\u001b[0;34m\u001b[0m\u001b[0m\n\u001b[0m\u001b[1;32m      3\u001b[0m \u001b[0mscore\u001b[0m\u001b[0;34m,\u001b[0m \u001b[0macc\u001b[0m \u001b[0;34m=\u001b[0m \u001b[0mfashion_mnist_model\u001b[0m\u001b[0;34m.\u001b[0m\u001b[0mevaluate\u001b[0m\u001b[0;34m(\u001b[0m\u001b[0mfashion_mnist_X_test\u001b[0m\u001b[0;34m,\u001b[0m \u001b[0mfashion_mnist_y_test\u001b[0m\u001b[0;34m,\u001b[0m \u001b[0mverbose\u001b[0m\u001b[0;34m=\u001b[0m\u001b[0;36m0\u001b[0m\u001b[0;34m)\u001b[0m\u001b[0;34m\u001b[0m\u001b[0;34m\u001b[0m\u001b[0m\n\u001b[1;32m      4\u001b[0m \u001b[0mresults\u001b[0m\u001b[0;34m[\u001b[0m\u001b[0;34m'fashion_mnist'\u001b[0m\u001b[0;34m]\u001b[0m\u001b[0;34m=\u001b[0m\u001b[0macc\u001b[0m\u001b[0;34m\u001b[0m\u001b[0;34m\u001b[0m\u001b[0m\n\u001b[1;32m      5\u001b[0m \u001b[0;34m\u001b[0m\u001b[0m\n",
            "\u001b[0;32m/usr/local/lib/python3.7/dist-packages/keras/utils/traceback_utils.py\u001b[0m in \u001b[0;36merror_handler\u001b[0;34m(*args, **kwargs)\u001b[0m\n\u001b[1;32m     62\u001b[0m     \u001b[0mfiltered_tb\u001b[0m \u001b[0;34m=\u001b[0m \u001b[0;32mNone\u001b[0m\u001b[0;34m\u001b[0m\u001b[0;34m\u001b[0m\u001b[0m\n\u001b[1;32m     63\u001b[0m     \u001b[0;32mtry\u001b[0m\u001b[0;34m:\u001b[0m\u001b[0;34m\u001b[0m\u001b[0;34m\u001b[0m\u001b[0m\n\u001b[0;32m---> 64\u001b[0;31m       \u001b[0;32mreturn\u001b[0m \u001b[0mfn\u001b[0m\u001b[0;34m(\u001b[0m\u001b[0;34m*\u001b[0m\u001b[0margs\u001b[0m\u001b[0;34m,\u001b[0m \u001b[0;34m**\u001b[0m\u001b[0mkwargs\u001b[0m\u001b[0;34m)\u001b[0m\u001b[0;34m\u001b[0m\u001b[0;34m\u001b[0m\u001b[0m\n\u001b[0m\u001b[1;32m     65\u001b[0m     \u001b[0;32mexcept\u001b[0m \u001b[0mException\u001b[0m \u001b[0;32mas\u001b[0m \u001b[0me\u001b[0m\u001b[0;34m:\u001b[0m  \u001b[0;31m# pylint: disable=broad-except\u001b[0m\u001b[0;34m\u001b[0m\u001b[0;34m\u001b[0m\u001b[0m\n\u001b[1;32m     66\u001b[0m       \u001b[0mfiltered_tb\u001b[0m \u001b[0;34m=\u001b[0m \u001b[0m_process_traceback_frames\u001b[0m\u001b[0;34m(\u001b[0m\u001b[0me\u001b[0m\u001b[0;34m.\u001b[0m\u001b[0m__traceback__\u001b[0m\u001b[0;34m)\u001b[0m\u001b[0;34m\u001b[0m\u001b[0;34m\u001b[0m\u001b[0m\n",
            "\u001b[0;32m/usr/local/lib/python3.7/dist-packages/keras/engine/training.py\u001b[0m in \u001b[0;36mfit\u001b[0;34m(self, x, y, batch_size, epochs, verbose, callbacks, validation_split, validation_data, shuffle, class_weight, sample_weight, initial_epoch, steps_per_epoch, validation_steps, validation_batch_size, validation_freq, max_queue_size, workers, use_multiprocessing)\u001b[0m\n\u001b[1;32m   1219\u001b[0m               \u001b[0mlogs\u001b[0m \u001b[0;34m=\u001b[0m \u001b[0mtmp_logs\u001b[0m  \u001b[0;31m# No error, now safe to assign to logs.\u001b[0m\u001b[0;34m\u001b[0m\u001b[0;34m\u001b[0m\u001b[0m\n\u001b[1;32m   1220\u001b[0m               \u001b[0mend_step\u001b[0m \u001b[0;34m=\u001b[0m \u001b[0mstep\u001b[0m \u001b[0;34m+\u001b[0m \u001b[0mdata_handler\u001b[0m\u001b[0;34m.\u001b[0m\u001b[0mstep_increment\u001b[0m\u001b[0;34m\u001b[0m\u001b[0;34m\u001b[0m\u001b[0m\n\u001b[0;32m-> 1221\u001b[0;31m               \u001b[0mcallbacks\u001b[0m\u001b[0;34m.\u001b[0m\u001b[0mon_train_batch_end\u001b[0m\u001b[0;34m(\u001b[0m\u001b[0mend_step\u001b[0m\u001b[0;34m,\u001b[0m \u001b[0mlogs\u001b[0m\u001b[0;34m)\u001b[0m\u001b[0;34m\u001b[0m\u001b[0;34m\u001b[0m\u001b[0m\n\u001b[0m\u001b[1;32m   1222\u001b[0m               \u001b[0;32mif\u001b[0m \u001b[0mself\u001b[0m\u001b[0;34m.\u001b[0m\u001b[0mstop_training\u001b[0m\u001b[0;34m:\u001b[0m\u001b[0;34m\u001b[0m\u001b[0;34m\u001b[0m\u001b[0m\n\u001b[1;32m   1223\u001b[0m                 \u001b[0;32mbreak\u001b[0m\u001b[0;34m\u001b[0m\u001b[0;34m\u001b[0m\u001b[0m\n",
            "\u001b[0;32m/usr/local/lib/python3.7/dist-packages/keras/callbacks.py\u001b[0m in \u001b[0;36mon_train_batch_end\u001b[0;34m(self, batch, logs)\u001b[0m\n\u001b[1;32m    434\u001b[0m     \"\"\"\n\u001b[1;32m    435\u001b[0m     \u001b[0;32mif\u001b[0m \u001b[0mself\u001b[0m\u001b[0;34m.\u001b[0m\u001b[0m_should_call_train_batch_hooks\u001b[0m\u001b[0;34m:\u001b[0m\u001b[0;34m\u001b[0m\u001b[0;34m\u001b[0m\u001b[0m\n\u001b[0;32m--> 436\u001b[0;31m       \u001b[0mself\u001b[0m\u001b[0;34m.\u001b[0m\u001b[0m_call_batch_hook\u001b[0m\u001b[0;34m(\u001b[0m\u001b[0mModeKeys\u001b[0m\u001b[0;34m.\u001b[0m\u001b[0mTRAIN\u001b[0m\u001b[0;34m,\u001b[0m \u001b[0;34m'end'\u001b[0m\u001b[0;34m,\u001b[0m \u001b[0mbatch\u001b[0m\u001b[0;34m,\u001b[0m \u001b[0mlogs\u001b[0m\u001b[0;34m=\u001b[0m\u001b[0mlogs\u001b[0m\u001b[0;34m)\u001b[0m\u001b[0;34m\u001b[0m\u001b[0;34m\u001b[0m\u001b[0m\n\u001b[0m\u001b[1;32m    437\u001b[0m \u001b[0;34m\u001b[0m\u001b[0m\n\u001b[1;32m    438\u001b[0m   \u001b[0;32mdef\u001b[0m \u001b[0mon_test_batch_begin\u001b[0m\u001b[0;34m(\u001b[0m\u001b[0mself\u001b[0m\u001b[0;34m,\u001b[0m \u001b[0mbatch\u001b[0m\u001b[0;34m,\u001b[0m \u001b[0mlogs\u001b[0m\u001b[0;34m=\u001b[0m\u001b[0;32mNone\u001b[0m\u001b[0;34m)\u001b[0m\u001b[0;34m:\u001b[0m\u001b[0;34m\u001b[0m\u001b[0;34m\u001b[0m\u001b[0m\n",
            "\u001b[0;32m/usr/local/lib/python3.7/dist-packages/keras/callbacks.py\u001b[0m in \u001b[0;36m_call_batch_hook\u001b[0;34m(self, mode, hook, batch, logs)\u001b[0m\n\u001b[1;32m    293\u001b[0m       \u001b[0mself\u001b[0m\u001b[0;34m.\u001b[0m\u001b[0m_call_batch_begin_hook\u001b[0m\u001b[0;34m(\u001b[0m\u001b[0mmode\u001b[0m\u001b[0;34m,\u001b[0m \u001b[0mbatch\u001b[0m\u001b[0;34m,\u001b[0m \u001b[0mlogs\u001b[0m\u001b[0;34m)\u001b[0m\u001b[0;34m\u001b[0m\u001b[0;34m\u001b[0m\u001b[0m\n\u001b[1;32m    294\u001b[0m     \u001b[0;32melif\u001b[0m \u001b[0mhook\u001b[0m \u001b[0;34m==\u001b[0m \u001b[0;34m'end'\u001b[0m\u001b[0;34m:\u001b[0m\u001b[0;34m\u001b[0m\u001b[0;34m\u001b[0m\u001b[0m\n\u001b[0;32m--> 295\u001b[0;31m       \u001b[0mself\u001b[0m\u001b[0;34m.\u001b[0m\u001b[0m_call_batch_end_hook\u001b[0m\u001b[0;34m(\u001b[0m\u001b[0mmode\u001b[0m\u001b[0;34m,\u001b[0m \u001b[0mbatch\u001b[0m\u001b[0;34m,\u001b[0m \u001b[0mlogs\u001b[0m\u001b[0;34m)\u001b[0m\u001b[0;34m\u001b[0m\u001b[0;34m\u001b[0m\u001b[0m\n\u001b[0m\u001b[1;32m    296\u001b[0m     \u001b[0;32melse\u001b[0m\u001b[0;34m:\u001b[0m\u001b[0;34m\u001b[0m\u001b[0;34m\u001b[0m\u001b[0m\n\u001b[1;32m    297\u001b[0m       raise ValueError(\n",
            "\u001b[0;32m/usr/local/lib/python3.7/dist-packages/keras/callbacks.py\u001b[0m in \u001b[0;36m_call_batch_end_hook\u001b[0;34m(self, mode, batch, logs)\u001b[0m\n\u001b[1;32m    314\u001b[0m       \u001b[0mself\u001b[0m\u001b[0;34m.\u001b[0m\u001b[0m_batch_times\u001b[0m\u001b[0;34m.\u001b[0m\u001b[0mappend\u001b[0m\u001b[0;34m(\u001b[0m\u001b[0mbatch_time\u001b[0m\u001b[0;34m)\u001b[0m\u001b[0;34m\u001b[0m\u001b[0;34m\u001b[0m\u001b[0m\n\u001b[1;32m    315\u001b[0m \u001b[0;34m\u001b[0m\u001b[0m\n\u001b[0;32m--> 316\u001b[0;31m     \u001b[0mself\u001b[0m\u001b[0;34m.\u001b[0m\u001b[0m_call_batch_hook_helper\u001b[0m\u001b[0;34m(\u001b[0m\u001b[0mhook_name\u001b[0m\u001b[0;34m,\u001b[0m \u001b[0mbatch\u001b[0m\u001b[0;34m,\u001b[0m \u001b[0mlogs\u001b[0m\u001b[0;34m)\u001b[0m\u001b[0;34m\u001b[0m\u001b[0;34m\u001b[0m\u001b[0m\n\u001b[0m\u001b[1;32m    317\u001b[0m \u001b[0;34m\u001b[0m\u001b[0m\n\u001b[1;32m    318\u001b[0m     \u001b[0;32mif\u001b[0m \u001b[0mlen\u001b[0m\u001b[0;34m(\u001b[0m\u001b[0mself\u001b[0m\u001b[0;34m.\u001b[0m\u001b[0m_batch_times\u001b[0m\u001b[0;34m)\u001b[0m \u001b[0;34m>=\u001b[0m \u001b[0mself\u001b[0m\u001b[0;34m.\u001b[0m\u001b[0m_num_batches_for_timing_check\u001b[0m\u001b[0;34m:\u001b[0m\u001b[0;34m\u001b[0m\u001b[0;34m\u001b[0m\u001b[0m\n",
            "\u001b[0;32m/usr/local/lib/python3.7/dist-packages/keras/callbacks.py\u001b[0m in \u001b[0;36m_call_batch_hook_helper\u001b[0;34m(self, hook_name, batch, logs)\u001b[0m\n\u001b[1;32m    352\u001b[0m     \u001b[0;32mfor\u001b[0m \u001b[0mcallback\u001b[0m \u001b[0;32min\u001b[0m \u001b[0mself\u001b[0m\u001b[0;34m.\u001b[0m\u001b[0mcallbacks\u001b[0m\u001b[0;34m:\u001b[0m\u001b[0;34m\u001b[0m\u001b[0;34m\u001b[0m\u001b[0m\n\u001b[1;32m    353\u001b[0m       \u001b[0mhook\u001b[0m \u001b[0;34m=\u001b[0m \u001b[0mgetattr\u001b[0m\u001b[0;34m(\u001b[0m\u001b[0mcallback\u001b[0m\u001b[0;34m,\u001b[0m \u001b[0mhook_name\u001b[0m\u001b[0;34m)\u001b[0m\u001b[0;34m\u001b[0m\u001b[0;34m\u001b[0m\u001b[0m\n\u001b[0;32m--> 354\u001b[0;31m       \u001b[0mhook\u001b[0m\u001b[0;34m(\u001b[0m\u001b[0mbatch\u001b[0m\u001b[0;34m,\u001b[0m \u001b[0mlogs\u001b[0m\u001b[0;34m)\u001b[0m\u001b[0;34m\u001b[0m\u001b[0;34m\u001b[0m\u001b[0m\n\u001b[0m\u001b[1;32m    355\u001b[0m \u001b[0;34m\u001b[0m\u001b[0m\n\u001b[1;32m    356\u001b[0m     \u001b[0;32mif\u001b[0m \u001b[0mself\u001b[0m\u001b[0;34m.\u001b[0m\u001b[0m_check_timing\u001b[0m\u001b[0;34m:\u001b[0m\u001b[0;34m\u001b[0m\u001b[0;34m\u001b[0m\u001b[0m\n",
            "\u001b[0;32m/usr/local/lib/python3.7/dist-packages/keras/callbacks.py\u001b[0m in \u001b[0;36mon_train_batch_end\u001b[0;34m(self, batch, logs)\u001b[0m\n\u001b[1;32m   1030\u001b[0m \u001b[0;34m\u001b[0m\u001b[0m\n\u001b[1;32m   1031\u001b[0m   \u001b[0;32mdef\u001b[0m \u001b[0mon_train_batch_end\u001b[0m\u001b[0;34m(\u001b[0m\u001b[0mself\u001b[0m\u001b[0;34m,\u001b[0m \u001b[0mbatch\u001b[0m\u001b[0;34m,\u001b[0m \u001b[0mlogs\u001b[0m\u001b[0;34m=\u001b[0m\u001b[0;32mNone\u001b[0m\u001b[0;34m)\u001b[0m\u001b[0;34m:\u001b[0m\u001b[0;34m\u001b[0m\u001b[0;34m\u001b[0m\u001b[0m\n\u001b[0;32m-> 1032\u001b[0;31m     \u001b[0mself\u001b[0m\u001b[0;34m.\u001b[0m\u001b[0m_batch_update_progbar\u001b[0m\u001b[0;34m(\u001b[0m\u001b[0mbatch\u001b[0m\u001b[0;34m,\u001b[0m \u001b[0mlogs\u001b[0m\u001b[0;34m)\u001b[0m\u001b[0;34m\u001b[0m\u001b[0;34m\u001b[0m\u001b[0m\n\u001b[0m\u001b[1;32m   1033\u001b[0m \u001b[0;34m\u001b[0m\u001b[0m\n\u001b[1;32m   1034\u001b[0m   \u001b[0;32mdef\u001b[0m \u001b[0mon_test_batch_end\u001b[0m\u001b[0;34m(\u001b[0m\u001b[0mself\u001b[0m\u001b[0;34m,\u001b[0m \u001b[0mbatch\u001b[0m\u001b[0;34m,\u001b[0m \u001b[0mlogs\u001b[0m\u001b[0;34m=\u001b[0m\u001b[0;32mNone\u001b[0m\u001b[0;34m)\u001b[0m\u001b[0;34m:\u001b[0m\u001b[0;34m\u001b[0m\u001b[0;34m\u001b[0m\u001b[0m\n",
            "\u001b[0;32m/usr/local/lib/python3.7/dist-packages/keras/callbacks.py\u001b[0m in \u001b[0;36m_batch_update_progbar\u001b[0;34m(self, batch, logs)\u001b[0m\n\u001b[1;32m   1102\u001b[0m     \u001b[0;32mif\u001b[0m \u001b[0mself\u001b[0m\u001b[0;34m.\u001b[0m\u001b[0mverbose\u001b[0m \u001b[0;34m==\u001b[0m \u001b[0;36m1\u001b[0m\u001b[0;34m:\u001b[0m\u001b[0;34m\u001b[0m\u001b[0;34m\u001b[0m\u001b[0m\n\u001b[1;32m   1103\u001b[0m       \u001b[0;31m# Only block async when verbose = 1.\u001b[0m\u001b[0;34m\u001b[0m\u001b[0;34m\u001b[0m\u001b[0;34m\u001b[0m\u001b[0m\n\u001b[0;32m-> 1104\u001b[0;31m       \u001b[0mlogs\u001b[0m \u001b[0;34m=\u001b[0m \u001b[0mtf_utils\u001b[0m\u001b[0;34m.\u001b[0m\u001b[0msync_to_numpy_or_python_type\u001b[0m\u001b[0;34m(\u001b[0m\u001b[0mlogs\u001b[0m\u001b[0;34m)\u001b[0m\u001b[0;34m\u001b[0m\u001b[0;34m\u001b[0m\u001b[0m\n\u001b[0m\u001b[1;32m   1105\u001b[0m       \u001b[0mself\u001b[0m\u001b[0;34m.\u001b[0m\u001b[0mprogbar\u001b[0m\u001b[0;34m.\u001b[0m\u001b[0mupdate\u001b[0m\u001b[0;34m(\u001b[0m\u001b[0mself\u001b[0m\u001b[0;34m.\u001b[0m\u001b[0mseen\u001b[0m\u001b[0;34m,\u001b[0m \u001b[0mlist\u001b[0m\u001b[0;34m(\u001b[0m\u001b[0mlogs\u001b[0m\u001b[0;34m.\u001b[0m\u001b[0mitems\u001b[0m\u001b[0;34m(\u001b[0m\u001b[0;34m)\u001b[0m\u001b[0;34m)\u001b[0m\u001b[0;34m,\u001b[0m \u001b[0mfinalize\u001b[0m\u001b[0;34m=\u001b[0m\u001b[0;32mFalse\u001b[0m\u001b[0;34m)\u001b[0m\u001b[0;34m\u001b[0m\u001b[0;34m\u001b[0m\u001b[0m\n\u001b[1;32m   1106\u001b[0m \u001b[0;34m\u001b[0m\u001b[0m\n",
            "\u001b[0;32m/usr/local/lib/python3.7/dist-packages/keras/utils/tf_utils.py\u001b[0m in \u001b[0;36msync_to_numpy_or_python_type\u001b[0;34m(tensors)\u001b[0m\n\u001b[1;32m    552\u001b[0m     \u001b[0;32mreturn\u001b[0m \u001b[0mt\u001b[0m  \u001b[0;31m# Don't turn ragged or sparse tensors to NumPy.\u001b[0m\u001b[0;34m\u001b[0m\u001b[0;34m\u001b[0m\u001b[0m\n\u001b[1;32m    553\u001b[0m \u001b[0;34m\u001b[0m\u001b[0m\n\u001b[0;32m--> 554\u001b[0;31m   \u001b[0;32mreturn\u001b[0m \u001b[0mtf\u001b[0m\u001b[0;34m.\u001b[0m\u001b[0mnest\u001b[0m\u001b[0;34m.\u001b[0m\u001b[0mmap_structure\u001b[0m\u001b[0;34m(\u001b[0m\u001b[0m_to_single_numpy_or_python_type\u001b[0m\u001b[0;34m,\u001b[0m \u001b[0mtensors\u001b[0m\u001b[0;34m)\u001b[0m\u001b[0;34m\u001b[0m\u001b[0;34m\u001b[0m\u001b[0m\n\u001b[0m\u001b[1;32m    555\u001b[0m \u001b[0;34m\u001b[0m\u001b[0m\n\u001b[1;32m    556\u001b[0m \u001b[0;34m\u001b[0m\u001b[0m\n",
            "\u001b[0;32m/usr/local/lib/python3.7/dist-packages/tensorflow/python/util/nest.py\u001b[0m in \u001b[0;36mmap_structure\u001b[0;34m(func, *structure, **kwargs)\u001b[0m\n\u001b[1;32m    867\u001b[0m \u001b[0;34m\u001b[0m\u001b[0m\n\u001b[1;32m    868\u001b[0m   return pack_sequence_as(\n\u001b[0;32m--> 869\u001b[0;31m       \u001b[0mstructure\u001b[0m\u001b[0;34m[\u001b[0m\u001b[0;36m0\u001b[0m\u001b[0;34m]\u001b[0m\u001b[0;34m,\u001b[0m \u001b[0;34m[\u001b[0m\u001b[0mfunc\u001b[0m\u001b[0;34m(\u001b[0m\u001b[0;34m*\u001b[0m\u001b[0mx\u001b[0m\u001b[0;34m)\u001b[0m \u001b[0;32mfor\u001b[0m \u001b[0mx\u001b[0m \u001b[0;32min\u001b[0m \u001b[0mentries\u001b[0m\u001b[0;34m]\u001b[0m\u001b[0;34m,\u001b[0m\u001b[0;34m\u001b[0m\u001b[0;34m\u001b[0m\u001b[0m\n\u001b[0m\u001b[1;32m    870\u001b[0m       expand_composites=expand_composites)\n\u001b[1;32m    871\u001b[0m \u001b[0;34m\u001b[0m\u001b[0m\n",
            "\u001b[0;32m/usr/local/lib/python3.7/dist-packages/tensorflow/python/util/nest.py\u001b[0m in \u001b[0;36m<listcomp>\u001b[0;34m(.0)\u001b[0m\n\u001b[1;32m    867\u001b[0m \u001b[0;34m\u001b[0m\u001b[0m\n\u001b[1;32m    868\u001b[0m   return pack_sequence_as(\n\u001b[0;32m--> 869\u001b[0;31m       \u001b[0mstructure\u001b[0m\u001b[0;34m[\u001b[0m\u001b[0;36m0\u001b[0m\u001b[0;34m]\u001b[0m\u001b[0;34m,\u001b[0m \u001b[0;34m[\u001b[0m\u001b[0mfunc\u001b[0m\u001b[0;34m(\u001b[0m\u001b[0;34m*\u001b[0m\u001b[0mx\u001b[0m\u001b[0;34m)\u001b[0m \u001b[0;32mfor\u001b[0m \u001b[0mx\u001b[0m \u001b[0;32min\u001b[0m \u001b[0mentries\u001b[0m\u001b[0;34m]\u001b[0m\u001b[0;34m,\u001b[0m\u001b[0;34m\u001b[0m\u001b[0;34m\u001b[0m\u001b[0m\n\u001b[0m\u001b[1;32m    870\u001b[0m       expand_composites=expand_composites)\n\u001b[1;32m    871\u001b[0m \u001b[0;34m\u001b[0m\u001b[0m\n",
            "\u001b[0;32m/usr/local/lib/python3.7/dist-packages/keras/utils/tf_utils.py\u001b[0m in \u001b[0;36m_to_single_numpy_or_python_type\u001b[0;34m(t)\u001b[0m\n\u001b[1;32m    548\u001b[0m   \u001b[0;32mdef\u001b[0m \u001b[0m_to_single_numpy_or_python_type\u001b[0m\u001b[0;34m(\u001b[0m\u001b[0mt\u001b[0m\u001b[0;34m)\u001b[0m\u001b[0;34m:\u001b[0m\u001b[0;34m\u001b[0m\u001b[0;34m\u001b[0m\u001b[0m\n\u001b[1;32m    549\u001b[0m     \u001b[0;32mif\u001b[0m \u001b[0misinstance\u001b[0m\u001b[0;34m(\u001b[0m\u001b[0mt\u001b[0m\u001b[0;34m,\u001b[0m \u001b[0mtf\u001b[0m\u001b[0;34m.\u001b[0m\u001b[0mTensor\u001b[0m\u001b[0;34m)\u001b[0m\u001b[0;34m:\u001b[0m\u001b[0;34m\u001b[0m\u001b[0;34m\u001b[0m\u001b[0m\n\u001b[0;32m--> 550\u001b[0;31m       \u001b[0mx\u001b[0m \u001b[0;34m=\u001b[0m \u001b[0mt\u001b[0m\u001b[0;34m.\u001b[0m\u001b[0mnumpy\u001b[0m\u001b[0;34m(\u001b[0m\u001b[0;34m)\u001b[0m\u001b[0;34m\u001b[0m\u001b[0;34m\u001b[0m\u001b[0m\n\u001b[0m\u001b[1;32m    551\u001b[0m       \u001b[0;32mreturn\u001b[0m \u001b[0mx\u001b[0m\u001b[0;34m.\u001b[0m\u001b[0mitem\u001b[0m\u001b[0;34m(\u001b[0m\u001b[0;34m)\u001b[0m \u001b[0;32mif\u001b[0m \u001b[0mnp\u001b[0m\u001b[0;34m.\u001b[0m\u001b[0mndim\u001b[0m\u001b[0;34m(\u001b[0m\u001b[0mx\u001b[0m\u001b[0;34m)\u001b[0m \u001b[0;34m==\u001b[0m \u001b[0;36m0\u001b[0m \u001b[0;32melse\u001b[0m \u001b[0mx\u001b[0m\u001b[0;34m\u001b[0m\u001b[0;34m\u001b[0m\u001b[0m\n\u001b[1;32m    552\u001b[0m     \u001b[0;32mreturn\u001b[0m \u001b[0mt\u001b[0m  \u001b[0;31m# Don't turn ragged or sparse tensors to NumPy.\u001b[0m\u001b[0;34m\u001b[0m\u001b[0;34m\u001b[0m\u001b[0m\n",
            "\u001b[0;32m/usr/local/lib/python3.7/dist-packages/tensorflow/python/framework/ops.py\u001b[0m in \u001b[0;36mnumpy\u001b[0;34m(self)\u001b[0m\n\u001b[1;32m   1147\u001b[0m     \"\"\"\n\u001b[1;32m   1148\u001b[0m     \u001b[0;31m# TODO(slebedev): Consider avoiding a copy for non-CPU or remote tensors.\u001b[0m\u001b[0;34m\u001b[0m\u001b[0;34m\u001b[0m\u001b[0;34m\u001b[0m\u001b[0m\n\u001b[0;32m-> 1149\u001b[0;31m     \u001b[0mmaybe_arr\u001b[0m \u001b[0;34m=\u001b[0m \u001b[0mself\u001b[0m\u001b[0;34m.\u001b[0m\u001b[0m_numpy\u001b[0m\u001b[0;34m(\u001b[0m\u001b[0;34m)\u001b[0m  \u001b[0;31m# pylint: disable=protected-access\u001b[0m\u001b[0;34m\u001b[0m\u001b[0;34m\u001b[0m\u001b[0m\n\u001b[0m\u001b[1;32m   1150\u001b[0m     \u001b[0;32mreturn\u001b[0m \u001b[0mmaybe_arr\u001b[0m\u001b[0;34m.\u001b[0m\u001b[0mcopy\u001b[0m\u001b[0;34m(\u001b[0m\u001b[0;34m)\u001b[0m \u001b[0;32mif\u001b[0m \u001b[0misinstance\u001b[0m\u001b[0;34m(\u001b[0m\u001b[0mmaybe_arr\u001b[0m\u001b[0;34m,\u001b[0m \u001b[0mnp\u001b[0m\u001b[0;34m.\u001b[0m\u001b[0mndarray\u001b[0m\u001b[0;34m)\u001b[0m \u001b[0;32melse\u001b[0m \u001b[0mmaybe_arr\u001b[0m\u001b[0;34m\u001b[0m\u001b[0;34m\u001b[0m\u001b[0m\n\u001b[1;32m   1151\u001b[0m \u001b[0;34m\u001b[0m\u001b[0m\n",
            "\u001b[0;32m/usr/local/lib/python3.7/dist-packages/tensorflow/python/framework/ops.py\u001b[0m in \u001b[0;36m_numpy\u001b[0;34m(self)\u001b[0m\n\u001b[1;32m   1113\u001b[0m   \u001b[0;32mdef\u001b[0m \u001b[0m_numpy\u001b[0m\u001b[0;34m(\u001b[0m\u001b[0mself\u001b[0m\u001b[0;34m)\u001b[0m\u001b[0;34m:\u001b[0m\u001b[0;34m\u001b[0m\u001b[0;34m\u001b[0m\u001b[0m\n\u001b[1;32m   1114\u001b[0m     \u001b[0;32mtry\u001b[0m\u001b[0;34m:\u001b[0m\u001b[0;34m\u001b[0m\u001b[0;34m\u001b[0m\u001b[0m\n\u001b[0;32m-> 1115\u001b[0;31m       \u001b[0;32mreturn\u001b[0m \u001b[0mself\u001b[0m\u001b[0;34m.\u001b[0m\u001b[0m_numpy_internal\u001b[0m\u001b[0;34m(\u001b[0m\u001b[0;34m)\u001b[0m\u001b[0;34m\u001b[0m\u001b[0;34m\u001b[0m\u001b[0m\n\u001b[0m\u001b[1;32m   1116\u001b[0m     \u001b[0;32mexcept\u001b[0m \u001b[0mcore\u001b[0m\u001b[0;34m.\u001b[0m\u001b[0m_NotOkStatusException\u001b[0m \u001b[0;32mas\u001b[0m \u001b[0me\u001b[0m\u001b[0;34m:\u001b[0m  \u001b[0;31m# pylint: disable=protected-access\u001b[0m\u001b[0;34m\u001b[0m\u001b[0;34m\u001b[0m\u001b[0m\n\u001b[1;32m   1117\u001b[0m       \u001b[0;32mraise\u001b[0m \u001b[0mcore\u001b[0m\u001b[0;34m.\u001b[0m\u001b[0m_status_to_exception\u001b[0m\u001b[0;34m(\u001b[0m\u001b[0me\u001b[0m\u001b[0;34m)\u001b[0m \u001b[0;32mfrom\u001b[0m \u001b[0;32mNone\u001b[0m  \u001b[0;31m# pylint: disable=protected-access\u001b[0m\u001b[0;34m\u001b[0m\u001b[0;34m\u001b[0m\u001b[0m\n",
            "\u001b[0;31mKeyboardInterrupt\u001b[0m: "
          ]
        }
      ]
    },
    {
      "cell_type": "markdown",
      "metadata": {
        "id": "vNzVxke4Sl8t"
      },
      "source": [
        "#Task3: Using CNNs to tell time from images"
      ]
    },
    {
      "cell_type": "markdown",
      "metadata": {
        "id": "KxPrjVjN3YxK"
      },
      "source": [
        "First, we need to load the npy files that we will use as datasets."
      ]
    },
    {
      "cell_type": "code",
      "metadata": {
        "colab": {
          "base_uri": "https://localhost:8080/"
        },
        "id": "HmbWIXl619XS",
        "outputId": "302367d6-fe47-470d-a67a-0f5738663353"
      },
      "source": [
        "import numpy as np\n",
        "from sklearn.model_selection import train_test_split\n",
        "import tensorflow as tf\n",
        "from tensorflow import keras\n",
        "from google.colab import drive\n",
        "\n",
        "drive.mount('/content/drive')\n",
        "\n",
        "with open('/content/drive/My Drive/IDL_Assignment_2/images.npy', 'rb') as f:\n",
        "  X = np.load(f)\n",
        "with open('/content/drive/My Drive/IDL_Assignment_2/labels.npy', 'rb') as f:\n",
        "  y = np.load(f)\n",
        "\n",
        "X_train, X_test, y_train, y_test = train_test_split(X, y, test_size=0.2)"
      ],
      "execution_count": null,
      "outputs": [
        {
          "output_type": "stream",
          "name": "stdout",
          "text": [
            "Mounted at /content/drive\n"
          ]
        }
      ]
    },
    {
      "cell_type": "markdown",
      "metadata": {
        "id": "XTfJzgIe6JZR"
      },
      "source": [
        "For a multi-class classification problem, the tuple labels suit us, but to convert this into a regression problem we can calculate the number of minutes that have passed after 12 o'clock."
      ]
    },
    {
      "cell_type": "code",
      "metadata": {
        "id": "71Q711qn6ujm",
        "colab": {
          "base_uri": "https://localhost:8080/"
        },
        "outputId": "e5c29411-4393-4b8e-d2bd-bb95da5eed19"
      },
      "source": [
        "def to_minutes(label):\n",
        "  #print(label)\n",
        "  #print(label[0])\n",
        "  hour = label[0]\n",
        "  minute = label[1]\n",
        "  return (60 * hour + minute)\n",
        "\n",
        "# Labels that can be used for a regression problem\n",
        "y_reg = []\n",
        "for i in y:\n",
        "  y_reg.append(to_minutes(i))\n",
        "y_reg = np.array(y_reg)\n",
        "print(y_reg)\n",
        "X_train, X_test, y_train_reg, y_test_reg = train_test_split(X, y_reg, test_size=0.2)"
      ],
      "execution_count": null,
      "outputs": [
        {
          "output_type": "stream",
          "name": "stdout",
          "text": [
            "[  0   0   0 ... 719 719 719]\n"
          ]
        }
      ]
    },
    {
      "cell_type": "markdown",
      "metadata": {
        "id": "HkQVXwil9ZPU"
      },
      "source": [
        "\"Common-sense\" loss functions (e.g., the \"common sense\" difference between \"predicted\" 11:55 and the \"target\" 0:05 is just 10 minutes and not 11 hours and 50 minutes)."
      ]
    },
    {
      "cell_type": "code",
      "metadata": {
        "id": "f7Of8zXT-nkK",
        "colab": {
          "base_uri": "https://localhost:8080/"
        },
        "outputId": "8471f18d-1800-42cb-cb16-152a884baccd"
      },
      "source": [
        "# Loss function\n",
        "def common_sense_loss(y_true, y_pred, regression):\n",
        "  if not regression:\n",
        "    #the labels are (hour, minute) tuples\n",
        "    # it's easier if we convert them to minutes first\n",
        "    y_true = to_minutes(y_true)\n",
        "    y_pred = to_minutes(y_pred)\n",
        "\n",
        "  # now calculate the shortest 'distance' between the two\n",
        "  if y_true <= y_pred:\n",
        "    diff = min(y_true + 720 - y_pred, y_pred - y_true)\n",
        "  else:\n",
        "    diff = min(y_pred + 720 - y_true, y_true - y_pred)\n",
        "\n",
        "  if not regression:\n",
        "    return (int((abs(diff) - abs(diff)%60)/60), abs(diff)%60)\n",
        "  else:\n",
        "    return abs(diff)\n",
        "\n",
        "\n",
        "# Accuracy metric based on the common sense loss function\n",
        "def common_sense_accuracy(y_true, y_pred, regression):\n",
        "  if not regression:\n",
        "    correct = 0\n",
        "    total = len(y_true)\n",
        "    for i in range(len(y_true)):\n",
        "      if y_true[i] == y_pred[i]:\n",
        "        correct += 1\n",
        "    return correct / total\n",
        "  \n",
        "  else:\n",
        "    loss_sum = 0\n",
        "    max_loss = 6 * 60 # the farthest from the true value a label could be is 6 hours\n",
        "    for i in range(len(y_true)):\n",
        "      loss = common_sense_loss(y_true[i], y_pred[i], regression=regression)\n",
        "      loss_sum += loss\n",
        "    loss_avg = loss_sum/len(y_true)\n",
        "    loss_percentage = loss_avg/max_loss\n",
        "    return 1 - loss_percentage\n",
        "\n",
        "print(\"Test: common sense loss between [3, 15] and [2, 55]\")\n",
        "l = common_sense_loss([3, 15], [2, 55], False)\n",
        "print(l)"
      ],
      "execution_count": null,
      "outputs": [
        {
          "output_type": "stream",
          "name": "stdout",
          "text": [
            "Test: common sense loss between [3, 15] and [2, 55]\n",
            "(0, 20)\n"
          ]
        }
      ]
    },
    {
      "cell_type": "markdown",
      "metadata": {
        "id": "orx5cncETTc6"
      },
      "source": [
        "Time to try the various methods that exist for solving this problem. First: <p><b>Regression according to the number of minutes passed after 12 o'clock:</b> [”03 : 00” → y = 180]; [”05 : 30” → y = 330]</p>"
      ]
    },
    {
      "cell_type": "code",
      "metadata": {
        "colab": {
          "base_uri": "https://localhost:8080/"
        },
        "id": "aqHSvDdjTg3e",
        "outputId": "09a50b3e-1a40-4dce-e656-8914e88da463"
      },
      "source": [
        "#Creating the 'ideal' CNN for MNIST dataset using hyperparameter learnt in task 1\n",
        "from functools import partial\n",
        "\n",
        "print(X[0].shape)\n",
        "\n",
        "DefaultConv2D = partial(keras.layers.Conv2D,\n",
        "  kernel_size=3, activation='relu', padding=\"SAME\")\n",
        "reg_model = keras.models.Sequential([\n",
        "  DefaultConv2D(filters=64, kernel_size=7, input_shape=[150, 150, 1]),\n",
        "  keras.layers.MaxPooling2D(pool_size=2),\n",
        "  DefaultConv2D(filters=128),\n",
        "  DefaultConv2D(filters=128),\n",
        "  keras.layers.MaxPooling2D(pool_size=2),\n",
        "  DefaultConv2D(filters=256),\n",
        "  DefaultConv2D(filters=256),\n",
        "  keras.layers.MaxPooling2D(pool_size=2),\n",
        "  keras.layers.Flatten(),\n",
        "  keras.layers.Dense(units=128, activation='relu'),\n",
        "  keras.layers.Dropout(0.4),\n",
        "  keras.layers.Dense(units=64, activation='relu'),\n",
        "  keras.layers.Dropout(0.4),\n",
        "  # The difference is here: the last dense layer has one neuron\n",
        "  # The activation function is suitable for a regression problem\n",
        "  keras.layers.Dense(units=1, activation='relu'),\n",
        "  ])\n",
        "\n",
        "# We should use MSE as an error (because regression)\n",
        "reg_model.compile(loss='mean_squared_error',\n",
        "                    optimizer=keras.optimizers.RMSprop(learning_rate=0.001),\n",
        "                    metrics=['mae'])\n",
        "print(y_train_reg)\n",
        "reg_model.fit(X_train, y_train_reg, epochs=10, batch_size=256,\n",
        "              validation_split=0.1)\n",
        "reg_model.evaluate(X_test, y_test_reg)\n",
        "\n",
        "y_pred_reg = reg_model.predict(X_test)\n",
        "\n",
        "total_loss = 0\n",
        "for i in range(len(y_test_reg)):\n",
        "  total_loss += common_sense_loss(y_test_reg[i], y_pred_reg[i], True)\n",
        "print(\"Average common-sense loss: \",  total_loss/len(y_test_reg))"
      ],
      "execution_count": null,
      "outputs": [
        {
          "output_type": "stream",
          "name": "stdout",
          "text": [
            "(150, 150, 1)\n",
            "[355 232 572 ... 635 283 372]\n",
            "Epoch 1/10\n",
            "51/51 [==============================] - 83s 2s/step - loss: 31463970.0000 - mae: 983.4498 - val_loss: 44379.8516 - val_mae: 180.4045\n",
            "Epoch 2/10\n",
            "51/51 [==============================] - 81s 2s/step - loss: 66170.0234 - mae: 211.5225 - val_loss: 104489.2344 - val_mae: 263.7506\n",
            "Epoch 3/10\n",
            "51/51 [==============================] - 81s 2s/step - loss: 213342.4375 - mae: 296.5515 - val_loss: 53003.1797 - val_mae: 191.6354\n",
            "Epoch 4/10\n",
            "51/51 [==============================] - 81s 2s/step - loss: 70339.5938 - mae: 217.5448 - val_loss: 135585.3906 - val_mae: 307.6031\n",
            "Epoch 5/10\n",
            "51/51 [==============================] - 81s 2s/step - loss: 227402.0156 - mae: 346.4059 - val_loss: 82395.5859 - val_mae: 232.4516\n",
            "Epoch 6/10\n",
            "51/51 [==============================] - 81s 2s/step - loss: 77284.3047 - mae: 226.1979 - val_loss: 45413.3047 - val_mae: 181.6737\n",
            "Epoch 7/10\n",
            "51/51 [==============================] - 80s 2s/step - loss: 82126.1094 - mae: 232.0526 - val_loss: 64271.8281 - val_mae: 207.0601\n",
            "Epoch 8/10\n",
            "51/51 [==============================] - 80s 2s/step - loss: 61820.0234 - mae: 205.5012 - val_loss: 68912.1016 - val_mae: 213.5406\n",
            "Epoch 9/10\n",
            "51/51 [==============================] - 80s 2s/step - loss: 60536.6719 - mae: 204.9295 - val_loss: 67858.5312 - val_mae: 212.0863\n",
            "Epoch 10/10\n",
            "51/51 [==============================] - 80s 2s/step - loss: 56885.0586 - mae: 198.6694 - val_loss: 53143.1016 - val_mae: 191.8059\n",
            "113/113 [==============================] - 7s 65ms/step - loss: 54455.7188 - mae: 196.4718\n",
            "Average common-sense loss:  [182.27469]\n"
          ]
        }
      ]
    },
    {
      "cell_type": "markdown",
      "metadata": {
        "id": "2-Hcrlk_GnsR"
      },
      "source": [
        "<h3> Regression for whole output (hour+minute)"
      ]
    },
    {
      "cell_type": "code",
      "metadata": {
        "colab": {
          "base_uri": "https://localhost:8080/"
        },
        "id": "lP0PrGjt86Ip",
        "outputId": "26349f76-5ce4-4770-f73f-348675b5075a"
      },
      "source": [
        "#print(np.unique(labels))\n",
        "regression_label=[]\n",
        "for input in labels:\n",
        "  hour=float(input[0])\n",
        "  minute=(input[1]/60.0)\n",
        "  regression_label.append(hour+minute)\n",
        "  #print(hour+minute)\n",
        "regression_label=np.array(regression_label)\n",
        "print(len(regression_label))"
      ],
      "execution_count": null,
      "outputs": [
        {
          "output_type": "stream",
          "name": "stdout",
          "text": [
            "18000\n"
          ]
        }
      ]
    },
    {
      "cell_type": "code",
      "metadata": {
        "id": "lNhVEkq00xl6"
      },
      "source": [
        "from functools import partial\n",
        "DefaultConv2D = partial(keras.layers.Conv2D,\n",
        "  kernel_size=3, activation='relu', padding=\"SAME\")\n",
        "model = keras.models.Sequential([\n",
        "  DefaultConv2D(filters=32, kernel_size=7, input_shape=[150, 150, 1]),\n",
        "  keras.layers.MaxPooling2D(pool_size=2),\n",
        "  DefaultConv2D(filters=16),\n",
        "  DefaultConv2D(filters=16),\n",
        "  keras.layers.MaxPooling2D(pool_size=2),\n",
        "  keras.layers.Flatten(),\n",
        "  keras.layers.Dense(units=8, activation='relu'),\n",
        "  keras.layers.Dropout(0.5),\n",
        "  keras.layers.Dense(units=1, activation='sigmoid'),\n",
        "  ])\n",
        "model.compile(loss='binary_crossentropy', optimizer=keras.optimizers.RMSprop(learning_rate=0.0001), metrics=['accuracy'])"
      ],
      "execution_count": null,
      "outputs": []
    },
    {
      "cell_type": "code",
      "metadata": {
        "colab": {
          "base_uri": "https://localhost:8080/"
        },
        "id": "E7Qm2d_u5Qpo",
        "outputId": "b399b145-a17f-42fe-9ef0-cfb2d2cbb18c"
      },
      "source": [
        "print(images.shape)\n",
        "X_train_full, X_test, y_train_full_regression, y_test_regression = train_test_split(images, regression_label, test_size=0.20, random_state=42)\n",
        "X_valid, X_train = X_train_full[:4000], X_train_full[4000:]\n",
        "y_valid_regresssion, y_train_regression = y_train_full_regression[:4000], y_train_full_regression[4000:]\n",
        "print(X_train.shape, X_valid.shape)\n",
        "\n",
        "X_train = X_train.reshape((X_train.shape[0], 150, 150, 1))\n",
        "X_test = X_test.reshape((X_test.shape[0], 150, 150, 1))\n",
        "X_valid = X_valid.reshape((X_valid.shape[0], 150, 150, 1))\n",
        "print(X_train.shape, X_test.shape)"
      ],
      "execution_count": null,
      "outputs": [
        {
          "output_type": "stream",
          "name": "stdout",
          "text": [
            "(18000, 150, 150)\n",
            "(10400, 150, 150) (4000, 150, 150)\n",
            "(10400, 150, 150, 1) (3600, 150, 150, 1)\n"
          ]
        }
      ]
    },
    {
      "cell_type": "code",
      "metadata": {
        "colab": {
          "base_uri": "https://localhost:8080/"
        },
        "id": "uetnTV53_ql6",
        "outputId": "7fca6dc1-f2ec-47a5-e565-a6d0cc73015e"
      },
      "source": [
        "{i: v for i, v in enumerate(model.layers)}"
      ],
      "execution_count": null,
      "outputs": [
        {
          "output_type": "execute_result",
          "data": {
            "text/plain": [
              "{0: <keras.layers.convolutional.Conv2D at 0x7faa28736ed0>,\n",
              " 1: <keras.layers.pooling.MaxPooling2D at 0x7faa287363d0>,\n",
              " 2: <keras.layers.convolutional.Conv2D at 0x7faa2a03ccd0>,\n",
              " 3: <keras.layers.convolutional.Conv2D at 0x7faa28740710>,\n",
              " 4: <keras.layers.pooling.MaxPooling2D at 0x7faa28740c10>,\n",
              " 5: <keras.layers.convolutional.Conv2D at 0x7faa28736110>,\n",
              " 6: <keras.layers.convolutional.Conv2D at 0x7faa286e1dd0>,\n",
              " 7: <keras.layers.pooling.MaxPooling2D at 0x7faa286e1e90>,\n",
              " 8: <keras.layers.core.flatten.Flatten at 0x7faa286e1550>,\n",
              " 9: <keras.layers.core.dense.Dense at 0x7faa286fe390>,\n",
              " 10: <keras.layers.core.dropout.Dropout at 0x7faa286febd0>,\n",
              " 11: <keras.layers.core.dense.Dense at 0x7faa286fed10>,\n",
              " 12: <keras.layers.core.dropout.Dropout at 0x7faa286fe850>,\n",
              " 13: <keras.layers.core.dense.Dense at 0x7faa28701c90>}"
            ]
          },
          "metadata": {},
          "execution_count": 34
        }
      ]
    },
    {
      "cell_type": "code",
      "metadata": {
        "colab": {
          "base_uri": "https://localhost:8080/"
        },
        "id": "636B4h8F7qj8",
        "outputId": "35a30892-601d-4d62-ae21-83b365d63575"
      },
      "source": [
        "model.fit(X_train, y_train, validation_data=(X_valid,y_valid))"
      ],
      "execution_count": null,
      "outputs": [
        {
          "output_type": "stream",
          "name": "stdout",
          "text": [
            "325/325 [==============================] - 70s 214ms/step - loss: -136998100992.0000 - accuracy: 0.0013 - val_loss: -399040675840.0000 - val_accuracy: 0.0020\n"
          ]
        },
        {
          "output_type": "execute_result",
          "data": {
            "text/plain": [
              "<keras.callbacks.History at 0x7faa2871e310>"
            ]
          },
          "metadata": {},
          "execution_count": 57
        }
      ]
    },
    {
      "cell_type": "markdown",
      "metadata": {
        "id": "e_7m30kRncq2"
      },
      "source": [
        "Trying the multi-class approach with fewer classes. The classes are \"0\" = [00:00 - 00:30], \"1\" = [00:30 - 01:00], \"2\" = [01:00 - 01:30], etc. In total, there are 24 classes."
      ]
    },
    {
      "cell_type": "code",
      "metadata": {
        "colab": {
          "base_uri": "https://localhost:8080/"
        },
        "id": "_4ksNIMCn5tc",
        "outputId": "5500d29b-4fc0-40c2-8fe5-4411f282a193"
      },
      "source": [
        "from tensorflow.keras import utils as np_utils\n",
        "\n",
        "def to_multi_class_few(y):\n",
        "  # Converts target to a single label identifying the \"half-an-hour bin\" the\n",
        "  # image belongs to\n",
        "  new_y = 2 * y[0]\n",
        "  if y[1] > 30:\n",
        "    new_y += 1\n",
        "  return new_y\n",
        "\n",
        "#del multi_class_few_model\n",
        "\n",
        "# Converting the labels\n",
        "y_few_class = []\n",
        "for i in y:\n",
        "  y_few_class.append(to_multi_class_few(i))\n",
        "y_few_class = np.array(y_few_class)\n",
        "# One-hot encoding the labels\n",
        "y_few_class = np_utils.to_categorical(y_few_class)\n",
        "X_train, X_test, y_train_few_class, y_test_few_class = train_test_split(X, y_few_class, test_size=0.2)\n",
        "print(y_train_few_class)\n",
        "\n",
        "# Creating the network\n",
        "DefaultConv2D = partial(keras.layers.Conv2D,\n",
        "  kernel_size=3, activation='selu', padding=\"SAME\")\n",
        "multi_class_few_model = keras.models.Sequential([\n",
        "  DefaultConv2D(filters=64, kernel_size=7, input_shape=[150, 150, 1]),\n",
        "  keras.layers.MaxPooling2D(pool_size=2),\n",
        "  DefaultConv2D(filters=256),\n",
        "  DefaultConv2D(filters=256),\n",
        "  keras.layers.MaxPooling2D(pool_size=2),\n",
        "  DefaultConv2D(filters=128),\n",
        "  DefaultConv2D(filters=128),\n",
        "  keras.layers.MaxPooling2D(pool_size=2),\n",
        "  DefaultConv2D(filters=64),\n",
        "  DefaultConv2D(filters=64),\n",
        "  keras.layers.MaxPooling2D(pool_size=2),\n",
        "  DefaultConv2D(filters=32),\n",
        "  DefaultConv2D(filters=32),\n",
        "  keras.layers.MaxPooling2D(pool_size=2),\n",
        "  keras.layers.Flatten(),\n",
        "  keras.layers.Dense(units=128, activation='selu'),\n",
        "  keras.layers.Dropout(0.4),\n",
        "  keras.layers.Dense(units=64, activation='selu'),\n",
        "  keras.layers.Dropout(0.4),\n",
        "  # The output layer activation function is suitable for a classification problem\n",
        "  keras.layers.Dense(units=24, activation='softmax'),\n",
        "  ])\n",
        "\n",
        "# We should use categorical crossentropy as an error (because classification)\n",
        "multi_class_few_model.compile(loss='categorical_crossentropy',\n",
        "                    optimizer='nadam',\n",
        "                    metrics=['accuracy'])\n",
        "\n",
        "multi_class_few_model.fit(X_train, y_train_few_class, epochs=10, batch_size=32,\n",
        "              validation_split=0.1)\n",
        "multi_class_few_model.evaluate(X_test, y_test_few_class)"
      ],
      "execution_count": null,
      "outputs": [
        {
          "output_type": "stream",
          "name": "stdout",
          "text": [
            "[[0. 1. 0. ... 0. 0. 0.]\n",
            " [0. 1. 0. ... 0. 0. 0.]\n",
            " [0. 0. 0. ... 0. 0. 0.]\n",
            " ...\n",
            " [0. 0. 0. ... 0. 0. 0.]\n",
            " [0. 0. 0. ... 0. 0. 0.]\n",
            " [0. 0. 0. ... 1. 0. 0.]]\n",
            "Epoch 1/10\n",
            "405/405 [==============================] - 165s 318ms/step - loss: 4.4107 - accuracy: 0.0397 - val_loss: 3.2712 - val_accuracy: 0.0375\n",
            "Epoch 2/10\n",
            "405/405 [==============================] - 129s 319ms/step - loss: 3.4677 - accuracy: 0.0434 - val_loss: 3.2009 - val_accuracy: 0.0479\n",
            "Epoch 3/10\n",
            "405/405 [==============================] - 128s 317ms/step - loss: 3.3166 - accuracy: 0.0465 - val_loss: 3.1928 - val_accuracy: 0.0431\n",
            "Epoch 4/10\n",
            "405/405 [==============================] - 128s 317ms/step - loss: 3.2782 - accuracy: 0.0403 - val_loss: 3.1980 - val_accuracy: 0.0396\n",
            "Epoch 5/10\n",
            "405/405 [==============================] - 129s 318ms/step - loss: 3.2504 - accuracy: 0.0424 - val_loss: 3.1980 - val_accuracy: 0.0410\n",
            "Epoch 6/10\n",
            "405/405 [==============================] - 129s 319ms/step - loss: 3.2354 - accuracy: 0.0399 - val_loss: 3.1901 - val_accuracy: 0.0375\n",
            "Epoch 7/10\n",
            "405/405 [==============================] - 129s 319ms/step - loss: 3.2302 - accuracy: 0.0430 - val_loss: 3.1937 - val_accuracy: 0.0444\n",
            "Epoch 8/10\n",
            "405/405 [==============================] - 128s 317ms/step - loss: 3.2111 - accuracy: 0.0450 - val_loss: 3.1861 - val_accuracy: 0.0451\n",
            "Epoch 9/10\n",
            "405/405 [==============================] - 128s 317ms/step - loss: 3.2095 - accuracy: 0.0395 - val_loss: 3.1850 - val_accuracy: 0.0451\n",
            "Epoch 10/10\n",
            "405/405 [==============================] - 129s 319ms/step - loss: 3.2038 - accuracy: 0.0444 - val_loss: 3.1787 - val_accuracy: 0.0493\n",
            "113/113 [==============================] - 12s 104ms/step - loss: 3.1830 - accuracy: 0.0436\n"
          ]
        },
        {
          "output_type": "execute_result",
          "data": {
            "text/plain": [
              "[3.183028221130371, 0.043611109256744385]"
            ]
          },
          "metadata": {},
          "execution_count": 57
        }
      ]
    },
    {
      "cell_type": "code",
      "metadata": {
        "colab": {
          "base_uri": "https://localhost:8080/"
        },
        "id": "4qyM5Xj_5ZsI",
        "outputId": "3a516aaf-3558-483b-8df3-ebeedfd1ffce"
      },
      "source": [
        "# Common sense loss function for the few multi-class network\n",
        "def multi_class_common_sense(y_true, y_pred, class_num):\n",
        "  #print(\"y_true\", y_true)\n",
        "  #print(\"y_pred\", y_pred)\n",
        "  if y_true <= y_pred:\n",
        "    diff = min(y_true + class_num - y_pred, y_pred - y_true)\n",
        "  else:\n",
        "    diff = min(y_pred + class_num - y_true, y_true - y_pred)\n",
        "  return abs(diff)\n",
        "\n",
        "def multi_class_common_sense_accuracy(y_true, y_pred, class_num):\n",
        "  loss_sum = 0\n",
        "  max_loss = class_num/2 # the farthest from the true value is half a clock away\n",
        "  for i in range(len(y_true)):\n",
        "    loss = multi_class_common_sense(y_true[i], y_pred[i], class_num)\n",
        "    loss_sum += loss\n",
        "  loss_avg = loss_sum/len(y_true)\n",
        "  loss_percentage = loss_avg/max_loss\n",
        "  return 1 - loss_percentage\n",
        "\n",
        "# Evaluating on the test set with common sense loss and accuracy\n",
        "y_pred_few_class = multi_class_few_model.predict(X_test)\n",
        "# Convert to a non-one-hot encoded equivalent\n",
        "y_pred_few_class_conv = []\n",
        "for i in y_pred_few_class:\n",
        "  y_pred_few_class_conv.append(np.where(i==np.amax(i)))\n",
        "y_pred_few_class_conv = np.array(y_pred_few_class_conv)\n",
        "y_test_few_class_conv = []\n",
        "for i in y_test_few_class:\n",
        "  y_test_few_class_conv.append(np.where(i==np.amax(i)))\n",
        "y_test_few_class_conv = np.array(y_test_few_class_conv)\n",
        "\n",
        "# Calculating common sense loss\n",
        "total_loss = 0\n",
        "for i in range(len(y_test_few_class_conv)):\n",
        "  total_loss += multi_class_common_sense(y_test_few_class_conv[i], y_pred_few_class_conv[i], 24)\n",
        "print(\"Average common-sense loss in halves of an hour: \",  total_loss/len(y_test_few_class_conv))"
      ],
      "execution_count": null,
      "outputs": [
        {
          "output_type": "stream",
          "name": "stdout",
          "text": [
            "Average common-sense loss in halves of an hour:  [[5.98361111]]\n"
          ]
        }
      ]
    },
    {
      "cell_type": "markdown",
      "metadata": {
        "id": "Eg4ODUXrfum9"
      },
      "source": [
        "Multi-head classification: One head predicts the hours, the other the minutes. We'll use a different approach for building the network for this method: Functional API instead of Sequential API."
      ]
    },
    {
      "cell_type": "code",
      "metadata": {
        "colab": {
          "base_uri": "https://localhost:8080/"
        },
        "id": "6qrdiEMzg1t-",
        "outputId": "0b3cdb3b-9f6b-4e5b-f25c-b59b246497e9"
      },
      "source": [
        "from tensorflow.keras.layers import Dense, Flatten, MaxPooling2D, Dropout\n",
        "from tensorflow.keras import Input, Model\n",
        "from functools import partial\n",
        "\n",
        "\n",
        "DefaultConv2D = partial(keras.layers.Conv2D,\n",
        "  kernel_size=3, activation='relu', padding=\"SAME\")\n",
        "\n",
        "X = X.reshape(-1, 150, 150, 1)\n",
        "print(X.shape)\n",
        "\n",
        "y_hour = []\n",
        "for i in y:\n",
        "  y_hour.append(i[0])\n",
        "y_hour = np.array(y_hour)\n",
        "#y_hour = np_utils.to_categorical(y_hour)\n",
        "\n",
        "y_minute = []\n",
        "for i in y:\n",
        "  y_minute.append(i[1])\n",
        "y_minute = np.array(y_minute)\n",
        "\n",
        "X_train, X_test, y_train_hour, y_test_hour = train_test_split(X, y_hour, test_size=0.2)\n",
        "X_train, X_test, y_train_minute, y_test_minute = train_test_split(X, y_minute, test_size=0.2)\n",
        "\n",
        "print(\"X\", X.shape)\n",
        "print(\"y_hour\", y_hour.shape)\n",
        "print(\"y_minute\", y_minute.shape)\n",
        "\n",
        "#del multi_head_model\n",
        "\n",
        "inputs = Input(shape=(150, 150,1), name='inputs')\n",
        "x = DefaultConv2D(filters=64, kernel_size=7, name='64')(inputs)\n",
        "x = MaxPooling2D(pool_size=2)(x)\n",
        "x = DefaultConv2D(filters=128)(x)\n",
        "x = DefaultConv2D(filters=128)(x)\n",
        "x = MaxPooling2D(pool_size=2)(x)\n",
        "x = DefaultConv2D(filters=256)(x)\n",
        "x = DefaultConv2D(filters=256)(x)\n",
        "x = MaxPooling2D(pool_size=2)(x)\n",
        "x = Flatten()(x)\n",
        "x1 = Dense(units=64, activation='relu')(x)\n",
        "#x1 = Dropout(0.4)(x1)\n",
        "output1 = Dense(units=12, activation='softmax', name='hour_out')(x1)\n",
        "x2 = Dense(units=128, activation='relu')(x)\n",
        "#x2 = Dropout(0.4)(x2)\n",
        "x2 = Dense(units=64, activation='relu')(x2)\n",
        "#x2 = Dropout(0.4)(x2)\n",
        "output2 = Dense(1, name='minute_out')(x2)\n",
        "\n",
        "multi_head_model = Model(inputs=inputs, outputs=[output1, output2])\n",
        "\n",
        "multi_head_model.compile(loss={'hour_out': 'sparse_categorical_crossentropy', \n",
        "                    'minute_out': 'mae'},\n",
        "              optimizer='adam',\n",
        "              metrics={'hour_out': tf.metrics.SparseCategoricalAccuracy(name='acc')})\n",
        "\n",
        "multi_head_model.fit(X_train, {'hour_out': y_train_hour, 'minute_out': y_train_minute},\n",
        "                     epochs=10, validation_split=0.1)"
      ],
      "execution_count": null,
      "outputs": [
        {
          "output_type": "stream",
          "name": "stdout",
          "text": [
            "(18000, 150, 150, 1)\n",
            "X (18000, 150, 150, 1)\n",
            "y_hour (18000,)\n",
            "y_minute (18000,)\n",
            "Epoch 1/10\n",
            "405/405 [==============================] - 84s 205ms/step - loss: 21.2403 - hour_out_loss: 3.0979 - minute_out_loss: 18.1424 - hour_out_acc: 0.0809 - val_loss: 18.0820 - val_hour_out_loss: 2.4853 - val_minute_out_loss: 15.5967 - val_hour_out_acc: 0.0688\n",
            "Epoch 2/10\n",
            "405/405 [==============================] - 82s 203ms/step - loss: 18.6952 - hour_out_loss: 2.4857 - minute_out_loss: 16.2096 - hour_out_acc: 0.0816 - val_loss: 17.5491 - val_hour_out_loss: 2.4857 - val_minute_out_loss: 15.0634 - val_hour_out_acc: 0.0688\n",
            "Epoch 3/10\n",
            "405/405 [==============================] - 80s 197ms/step - loss: 18.4344 - hour_out_loss: 2.4850 - minute_out_loss: 15.9494 - hour_out_acc: 0.0847 - val_loss: 17.2446 - val_hour_out_loss: 2.4856 - val_minute_out_loss: 14.7590 - val_hour_out_acc: 0.0965\n",
            "Epoch 4/10\n",
            "405/405 [==============================] - 80s 196ms/step - loss: 18.1832 - hour_out_loss: 2.4860 - minute_out_loss: 15.6971 - hour_out_acc: 0.0846 - val_loss: 17.3141 - val_hour_out_loss: 2.4856 - val_minute_out_loss: 14.8286 - val_hour_out_acc: 0.0965\n",
            "Epoch 5/10\n",
            "405/405 [==============================] - 82s 202ms/step - loss: 18.3021 - hour_out_loss: 2.4852 - minute_out_loss: 15.8169 - hour_out_acc: 0.0827 - val_loss: 17.2636 - val_hour_out_loss: 2.4857 - val_minute_out_loss: 14.7779 - val_hour_out_acc: 0.0688\n",
            "Epoch 6/10\n",
            "405/405 [==============================] - 79s 195ms/step - loss: 18.2392 - hour_out_loss: 2.4850 - minute_out_loss: 15.7541 - hour_out_acc: 0.0816 - val_loss: 17.3610 - val_hour_out_loss: 2.4858 - val_minute_out_loss: 14.8753 - val_hour_out_acc: 0.0688\n",
            "Epoch 7/10\n",
            "405/405 [==============================] - 79s 196ms/step - loss: 18.1979 - hour_out_loss: 2.4850 - minute_out_loss: 15.7129 - hour_out_acc: 0.0821 - val_loss: 17.3021 - val_hour_out_loss: 2.4856 - val_minute_out_loss: 14.8165 - val_hour_out_acc: 0.0688\n",
            "Epoch 8/10\n",
            "405/405 [==============================] - 79s 195ms/step - loss: 18.1698 - hour_out_loss: 2.4850 - minute_out_loss: 15.6848 - hour_out_acc: 0.0840 - val_loss: 17.2698 - val_hour_out_loss: 2.4857 - val_minute_out_loss: 14.7841 - val_hour_out_acc: 0.0688\n",
            "Epoch 9/10\n",
            "405/405 [==============================] - 79s 195ms/step - loss: 18.2125 - hour_out_loss: 2.4850 - minute_out_loss: 15.7275 - hour_out_acc: 0.0805 - val_loss: 17.3454 - val_hour_out_loss: 2.4857 - val_minute_out_loss: 14.8597 - val_hour_out_acc: 0.0688\n",
            "Epoch 10/10\n",
            "405/405 [==============================] - 79s 195ms/step - loss: 18.2141 - hour_out_loss: 2.4850 - minute_out_loss: 15.7291 - hour_out_acc: 0.0839 - val_loss: 17.3185 - val_hour_out_loss: 2.4856 - val_minute_out_loss: 14.8328 - val_hour_out_acc: 0.0688\n"
          ]
        },
        {
          "output_type": "execute_result",
          "data": {
            "text/plain": [
              "<keras.callbacks.History at 0x7f0f640c6990>"
            ]
          },
          "metadata": {},
          "execution_count": 53
        }
      ]
    },
    {
      "cell_type": "markdown",
      "metadata": {
        "id": "5OCRdJPdEBXz"
      },
      "source": [
        "Common sense loss for the multi-head."
      ]
    },
    {
      "cell_type": "code",
      "metadata": {
        "colab": {
          "base_uri": "https://localhost:8080/"
        },
        "id": "UO75PAkYFQlt",
        "outputId": "9f047645-4c1b-445b-c7d8-d71a85848a67"
      },
      "source": [
        "y_multi_head_pred = multi_head_model.predict(X_test)\n",
        "y_pred_hour, y_pred_minute = y_multi_head_pred\n",
        "\n",
        "# decoding the hours\n",
        "y_pred_hour_conv = []\n",
        "for i in y_pred_hour:\n",
        "  y_pred_hour_conv.append(np.where(i==np.amax(i)))\n",
        "y_pred_hour_conv = np.array(y_pred_few_class_conv)\n",
        "y_pred_hour_conv = np.reshape(y_pred_hour_conv, [1, 1, -1])[0][0]\n",
        "#print(y_pred_hour_conv)\n",
        "\n",
        "y_test_hour_conv = []\n",
        "for i in y_test_hour:\n",
        "  y_test_hour_conv.append(np.where(i==np.amax(i)))\n",
        "y_test_hour_conv = np.array(y_test_few_class_conv)\n",
        "y_test_hour_conv = np.reshape(y_test_hour_conv, [1, 1, -1])[0][0]\n",
        "#print(y_test_hour_conv)\n",
        "\n",
        "#print(y_test_minute)\n",
        "\n",
        "y_pred_minute = np.reshape(y_pred_minute, [1, -1])[0]\n",
        "#print(y_pred_minute)\n",
        "\n",
        "# calculating average common sense loss\n",
        "total_loss = 0\n",
        "for i in range(len(y_test_hour_conv)):\n",
        "  total_loss += to_minutes(common_sense_loss([y_test_hour_conv[i], y_test_minute[i]], [y_pred_hour_conv[i], y_pred_minute[i]], False))\n",
        "print(\"Average common-sense loss in minutes: \",  total_loss/len(y_test_hour_conv))"
      ],
      "execution_count": null,
      "outputs": [
        {
          "output_type": "stream",
          "name": "stdout",
          "text": [
            "Average common-sense loss in minutes:  177.89045826223162\n"
          ]
        }
      ]
    },
    {
      "cell_type": "markdown",
      "metadata": {
        "id": "dGgLkRmFMzgy"
      },
      "source": [
        "<h3> cyclic encoding </h3>"
      ]
    },
    {
      "cell_type": "markdown",
      "metadata": {
        "id": "uzs8-0fsONWU"
      },
      "source": [
        "First, we convert time (hour and minutes) into minutes"
      ]
    },
    {
      "cell_type": "code",
      "metadata": {
        "colab": {
          "base_uri": "https://localhost:8080/",
          "height": 317
        },
        "id": "xUPj6Z0GMzIL",
        "outputId": "7d8f2eab-e5d3-473b-9227-c65e469f66af"
      },
      "source": [
        "import pandas as pd\n",
        "import matplotlib.pyplot as plt\n",
        "#figure(figsize=(8,8), dpi=80)\n",
        "\n",
        "max_value=12\n",
        "sin_time=np.sin(2*np.pi*regression_label/12)\n",
        "cos_time=np.cos(2*np.pi*regression_label/12)\n",
        "print(sin_time)\n",
        "print(cos_time)\n",
        "#df=pd.DataFrame()\n",
        "\n",
        "#df['sin_value']=sin_time\n",
        "#df['cos_value']=cos_time\n",
        "#df.sample(18000).plot.scatter('sin_value','cos_value').set_aspect('equal')\n",
        "plt.plot(sin_time,cos_time)\n",
        "y_labels=[]"
      ],
      "execution_count": null,
      "outputs": [
        {
          "output_type": "stream",
          "name": "stdout",
          "text": [
            "[ 0.          0.          0.         ... -0.01745241 -0.01745241\n",
            " -0.01745241]\n",
            "[1.        1.        1.        ... 0.9998477 0.9998477 0.9998477]\n"
          ]
        },
        {
          "output_type": "display_data",
          "data": {
            "image/png": "[encoded data removed]",
            "text/plain": [
              "<Figure size 432x288 with 1 Axes>"
            ]
          },
          "metadata": {
            "needs_background": "light"
          }
        }
      ]
    },
    {
      "cell_type": "code",
      "metadata": {
        "colab": {
          "base_uri": "https://localhost:8080/",
          "height": 300
        },
        "id": "RG2_FUDne9Cb",
        "outputId": "bb1e45bb-ed4d-403b-cc0c-76d0fb00b594"
      },
      "source": [
        "cyclic_labels=[]\n",
        "for i in range(len(labels)):\n",
        "  entry=[]\n",
        "  entry.append(np.sin(2*np.pi*regression_label[i]/12))\n",
        "  entry.append(np.cos(2*np.pi*regression_label[i]/12))\n",
        "  cyclic_labels.append(entry)\n",
        "#print(cyclic_labels)\n",
        "plt.plot(cyclic_labels)"
      ],
      "execution_count": null,
      "outputs": [
        {
          "output_type": "execute_result",
          "data": {
            "text/plain": [
              "[<matplotlib.lines.Line2D at 0x7ff3e418c7d0>,\n",
              " <matplotlib.lines.Line2D at 0x7ff3e418cdd0>]"
            ]
          },
          "metadata": {},
          "execution_count": 8
        },
        {
          "output_type": "display_data",
          "data": {
            "image/png": "[encoded data removed]",
            "text/plain": [
              "<Figure size 432x288 with 1 Axes>"
            ]
          },
          "metadata": {
            "needs_background": "light"
          }
        }
      ]
    },
    {
      "cell_type": "code",
      "metadata": {
        "colab": {
          "base_uri": "https://localhost:8080/"
        },
        "id": "vPiM0qIoxTvE",
        "outputId": "49e6b6ef-88ae-4749-f960-7c9ba0600936"
      },
      "source": [
        "from functools import partial\n",
        "DefaultConv2D = partial(keras.layers.Conv2D,\n",
        "  kernel_size=3, activation='relu', padding=\"SAME\")\n",
        "model = keras.models.Sequential([\n",
        "  DefaultConv2D(filters=32, kernel_size=7, input_shape=[150, 150, 1]),\n",
        "  keras.layers.MaxPooling2D(pool_size=2),\n",
        "  DefaultConv2D(filters=16),\n",
        "  DefaultConv2D(filters=16),\n",
        "  keras.layers.MaxPooling2D(pool_size=2),\n",
        "  keras.layers.Flatten(),\n",
        "  keras.layers.Dense(units=8, activation='relu'),\n",
        "  keras.layers.Dropout(0.5),\n",
        "  keras.layers.Dense(units=2, activation='softmax'),  \n",
        "  ])\n",
        "model.compile(loss='categorical_crossentropy', optimizer=keras.optimizers.RMSprop(learning_rate=0.001), metrics=['accuracy'])\n",
        "\n",
        "from tensorflow.keras import utils as np_utils\n",
        "\n",
        "X_train_full, X_test, y_train_full_classification, y_test_classification = train_test_split(images, cyclic_labels, test_size=0.20, random_state=42)\n",
        "X_valid, X_train = X_train_full[:4000], X_train_full[4000:]\n",
        "y_valid_classification, y_train_classification = y_train_full_classification[:4000], y_train_full_classification[4000:]\n",
        "#print(y_train, y_test)\n",
        "\n",
        "X_train = X_train.reshape((X_train.shape[0], 150, 150, 1))\n",
        "X_test = X_test.reshape((X_test.shape[0], 150, 150, 1))\n",
        "X_valid = X_valid.reshape((X_valid.shape[0], 150, 150, 1))\n",
        "print(len(y_train_classification),len(y_test_classification))\n",
        "\n",
        "y_train_classification = np_utils.to_categorical(y_train_classification)\n",
        "y_test_classification = np_utils.to_categorical(y_test_classification)\n",
        "y_valid_classification = np_utils.to_categorical(y_valid_classification)"
      ],
      "execution_count": null,
      "outputs": [
        {
          "output_type": "stream",
          "name": "stdout",
          "text": [
            "10400 3600\n"
          ]
        }
      ]
    },
    {
      "cell_type": "code",
      "metadata": {
        "colab": {
          "base_uri": "https://localhost:8080/"
        },
        "id": "v8tJJl24osbR",
        "outputId": "048764a5-f3b2-4a88-d190-a4e396197995"
      },
      "source": [
        "from tensorflow.keras.layers import Dense, Flatten\n",
        "from tensorflow.keras import Input, Model\n",
        "from functools import partial\n",
        "\n",
        "\n",
        "DefaultConv2D = partial(keras.layers.Conv2D,\n",
        "  kernel_size=3, activation='relu', padding=\"SAME\")\n",
        "\n",
        "X=images\n",
        "y=labels\n",
        "\n",
        "X = X.reshape(-1, 150, 150, 1)\n",
        "print(X.shape)\n",
        "\n",
        "y_sine = sin_time\n",
        "#for i in y:\n",
        "#  y_hour.append(i[0])\n",
        "#y_hour = np.array(y_hour)\n",
        "#y_hour = np_utils.to_categorical(y_hour)\n",
        "\n",
        "y_cos = cos_time\n",
        "#for i in y:\n",
        "#  y_minute.append(i[1])\n",
        "#y_minute = np.array(y_minute)\n",
        "\n",
        "X_train, X_test, y_train_sine, y_test_sine = train_test_split(X, y_sine, test_size=0.2)\n",
        "X_train, X_test, y_train_cos, y_test_cos = train_test_split(X, y_cos, test_size=0.2)\n",
        "\n",
        "print(\"X\", X.shape)\n",
        "print(\"y_hour\", y_sine.shape)\n",
        "print(\"y_minute\", y_cos.shape)\n",
        "\n",
        "#del multi_head_model\n",
        "\n",
        "inputs = Input(shape=(150, 150,1), name='input')\n",
        "x = DefaultConv2D(filters=16, kernel_size=3, name='16')(inputs)\n",
        "print('sghsb')\n",
        "x = DefaultConv2D(filters=32, name='32')(x)\n",
        "x = DefaultConv2D(filters=64, name='64')(x)\n",
        "x = DefaultConv2D(filters=128, name='128')(x)\n",
        "x = Flatten()(x)\n",
        "output1 = Dense(1, name='sine_out')(x)\n",
        "output2 = Dense(1, name='cos_out')(x)\n",
        "\n",
        "multi_head_model = Model(inputs=inputs, outputs=[output1, output2])\n",
        "\n",
        "multi_head_model.compile(loss={'sine_out': 'mae', \n",
        "                    'cos_out': 'mae'},\n",
        "              optimizer='adam')\n",
        "              #metrics={'hour_out': tf.metrics.SparseCategoricalAccuracy(name='acc')})\n",
        "\n",
        "multi_head_model.fit(X_train, {'sine_out': y_train_sine, 'cos_out': y_train_cos},\n",
        "                     epochs=10, validation_split=0.1)"
      ],
      "execution_count": null,
      "outputs": [
        {
          "output_type": "stream",
          "name": "stdout",
          "text": [
            "(18000, 150, 150, 1)\n",
            "X (18000, 150, 150, 1)\n",
            "y_hour (18000,)\n",
            "y_minute (18000,)\n",
            "sghsb\n",
            "Epoch 1/10\n",
            "405/405 [==============================] - 104s 255ms/step - loss: 103.0579 - sine_out_loss: 51.5642 - cos_out_loss: 51.4935 - val_loss: 1.2748 - val_sine_out_loss: 0.6365 - val_cos_out_loss: 0.6383\n",
            "Epoch 2/10\n",
            "405/405 [==============================] - 103s 254ms/step - loss: 1.2596 - sine_out_loss: 0.6358 - cos_out_loss: 0.6237 - val_loss: 1.2671 - val_sine_out_loss: 0.6431 - val_cos_out_loss: 0.6240\n",
            "Epoch 3/10\n",
            "405/405 [==============================] - 105s 259ms/step - loss: 1.2047 - sine_out_loss: 0.6143 - cos_out_loss: 0.5904 - val_loss: 1.2959 - val_sine_out_loss: 0.6736 - val_cos_out_loss: 0.6223\n",
            "Epoch 4/10\n",
            "405/405 [==============================] - 105s 260ms/step - loss: 1.0813 - sine_out_loss: 0.5549 - cos_out_loss: 0.5263 - val_loss: 1.2777 - val_sine_out_loss: 0.6633 - val_cos_out_loss: 0.6144\n",
            "Epoch 5/10\n",
            "405/405 [==============================] - 103s 255ms/step - loss: 0.9324 - sine_out_loss: 0.4769 - cos_out_loss: 0.4555 - val_loss: 1.3635 - val_sine_out_loss: 0.7023 - val_cos_out_loss: 0.6612\n",
            "Epoch 6/10\n",
            "405/405 [==============================] - 105s 260ms/step - loss: 0.8097 - sine_out_loss: 0.4154 - cos_out_loss: 0.3943 - val_loss: 1.3519 - val_sine_out_loss: 0.7029 - val_cos_out_loss: 0.6489\n",
            "Epoch 7/10\n",
            "405/405 [==============================] - 105s 260ms/step - loss: 0.7086 - sine_out_loss: 0.3618 - cos_out_loss: 0.3468 - val_loss: 1.3576 - val_sine_out_loss: 0.7086 - val_cos_out_loss: 0.6490\n",
            "Epoch 8/10\n",
            "405/405 [==============================] - 105s 260ms/step - loss: 0.6349 - sine_out_loss: 0.3243 - cos_out_loss: 0.3106 - val_loss: 1.3790 - val_sine_out_loss: 0.7288 - val_cos_out_loss: 0.6501\n",
            "Epoch 9/10\n",
            "405/405 [==============================] - 103s 255ms/step - loss: 0.5811 - sine_out_loss: 0.2960 - cos_out_loss: 0.2851 - val_loss: 1.3835 - val_sine_out_loss: 0.7270 - val_cos_out_loss: 0.6565\n",
            "Epoch 10/10\n",
            "405/405 [==============================] - 105s 260ms/step - loss: 0.5418 - sine_out_loss: 0.2747 - cos_out_loss: 0.2671 - val_loss: 1.4083 - val_sine_out_loss: 0.7419 - val_cos_out_loss: 0.6664\n"
          ]
        },
        {
          "output_type": "execute_result",
          "data": {
            "text/plain": [
              "<keras.callbacks.History at 0x7ff3e03ed690>"
            ]
          },
          "metadata": {},
          "execution_count": 54
        }
      ]
    }
  ]
}